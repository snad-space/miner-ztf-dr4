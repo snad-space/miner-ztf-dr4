{
 "cells": [
  {
   "cell_type": "code",
   "execution_count": 1,
   "metadata": {},
   "outputs": [],
   "source": [
    "%matplotlib inline\n",
    "\n",
    "import time\n",
    "import numpy as np\n",
    "import matplotlib.pyplot as plt\n",
    "import pandas as pd\n",
    "import pickle\n",
    "\n",
    "import os\n",
    "import sys\n",
    "from sklearn.preprocessing import StandardScaler\n",
    "from sklearn.decomposition import PCA\n",
    "\n",
    "plt.style.use('fig_publication.mplstyle')\n",
    "%config InlineBackend.figure_format = 'retina'"
   ]
  },
  {
   "cell_type": "markdown",
   "metadata": {},
   "source": [
    "# Load fakes (sims) DF and DR4 DF"
   ]
  },
  {
   "cell_type": "code",
   "execution_count": 2,
   "metadata": {},
   "outputs": [],
   "source": [
    "dr4_df = pd.read_csv(\"./dataframes/orig_dr4_df.csv.gzip\", compression='gzip', index_col=0)"
   ]
  },
  {
   "cell_type": "code",
   "execution_count": 3,
   "metadata": {},
   "outputs": [
    {
     "data": {
      "text/html": [
       "<div>\n",
       "<style scoped>\n",
       "    .dataframe tbody tr th:only-of-type {\n",
       "        vertical-align: middle;\n",
       "    }\n",
       "\n",
       "    .dataframe tbody tr th {\n",
       "        vertical-align: top;\n",
       "    }\n",
       "\n",
       "    .dataframe thead th {\n",
       "        text-align: right;\n",
       "    }\n",
       "</style>\n",
       "<table border=\"1\" class=\"dataframe\">\n",
       "  <thead>\n",
       "    <tr style=\"text-align: right;\">\n",
       "      <th></th>\n",
       "      <th>amplitude_magn_g</th>\n",
       "      <th>anderson_darling_normal_magn_g</th>\n",
       "      <th>beyond_1_std_magn_g</th>\n",
       "      <th>beyond_2_std_magn_g</th>\n",
       "      <th>cusum_magn_g</th>\n",
       "      <th>inter_percentile_range_2_magn_g</th>\n",
       "      <th>inter_percentile_range_10_magn_g</th>\n",
       "      <th>inter_percentile_range_25_magn_g</th>\n",
       "      <th>kurtosis_magn_g</th>\n",
       "      <th>linear_fit_slope_magn_g</th>\n",
       "      <th>...</th>\n",
       "      <th>standard_deviation_magn_r</th>\n",
       "      <th>stetson_K_magn_r</th>\n",
       "      <th>weighted_mean_magn_r</th>\n",
       "      <th>anderson_darling_normal_flux_r</th>\n",
       "      <th>cusum_flux_r</th>\n",
       "      <th>excess_variance_flux_r</th>\n",
       "      <th>kurtosis_flux_r</th>\n",
       "      <th>mean_variance_flux_r</th>\n",
       "      <th>skew_flux_r</th>\n",
       "      <th>stetson_K_flux_r</th>\n",
       "    </tr>\n",
       "    <tr>\n",
       "      <th>sid</th>\n",
       "      <th></th>\n",
       "      <th></th>\n",
       "      <th></th>\n",
       "      <th></th>\n",
       "      <th></th>\n",
       "      <th></th>\n",
       "      <th></th>\n",
       "      <th></th>\n",
       "      <th></th>\n",
       "      <th></th>\n",
       "      <th></th>\n",
       "      <th></th>\n",
       "      <th></th>\n",
       "      <th></th>\n",
       "      <th></th>\n",
       "      <th></th>\n",
       "      <th></th>\n",
       "      <th></th>\n",
       "      <th></th>\n",
       "      <th></th>\n",
       "      <th></th>\n",
       "    </tr>\n",
       "  </thead>\n",
       "  <tbody>\n",
       "    <tr>\n",
       "      <th>245101100000933</th>\n",
       "      <td>0.177000</td>\n",
       "      <td>3.696596</td>\n",
       "      <td>0.370000</td>\n",
       "      <td>0.030000</td>\n",
       "      <td>0.158870</td>\n",
       "      <td>0.341499</td>\n",
       "      <td>0.286501</td>\n",
       "      <td>0.158501</td>\n",
       "      <td>-0.787381</td>\n",
       "      <td>-0.000212</td>\n",
       "      <td>...</td>\n",
       "      <td>0.097860</td>\n",
       "      <td>0.851286</td>\n",
       "      <td>15.842624</td>\n",
       "      <td>2.711263</td>\n",
       "      <td>0.099072</td>\n",
       "      <td>0.007498</td>\n",
       "      <td>-0.944294</td>\n",
       "      <td>0.087656</td>\n",
       "      <td>-0.507748</td>\n",
       "      <td>0.844530</td>\n",
       "    </tr>\n",
       "    <tr>\n",
       "      <th>245101100009703</th>\n",
       "      <td>0.293500</td>\n",
       "      <td>2.724011</td>\n",
       "      <td>0.290000</td>\n",
       "      <td>0.060000</td>\n",
       "      <td>0.184453</td>\n",
       "      <td>0.523001</td>\n",
       "      <td>0.333000</td>\n",
       "      <td>0.104000</td>\n",
       "      <td>0.201318</td>\n",
       "      <td>-0.001444</td>\n",
       "      <td>...</td>\n",
       "      <td>0.130134</td>\n",
       "      <td>0.869721</td>\n",
       "      <td>15.653200</td>\n",
       "      <td>4.130320</td>\n",
       "      <td>0.156431</td>\n",
       "      <td>0.013800</td>\n",
       "      <td>-1.050300</td>\n",
       "      <td>0.118238</td>\n",
       "      <td>-0.059173</td>\n",
       "      <td>0.909857</td>\n",
       "    </tr>\n",
       "    <tr>\n",
       "      <th>245101100010242</th>\n",
       "      <td>0.328500</td>\n",
       "      <td>5.493390</td>\n",
       "      <td>0.190000</td>\n",
       "      <td>0.050000</td>\n",
       "      <td>0.229448</td>\n",
       "      <td>0.559999</td>\n",
       "      <td>0.220499</td>\n",
       "      <td>0.094999</td>\n",
       "      <td>5.286414</td>\n",
       "      <td>-0.001808</td>\n",
       "      <td>...</td>\n",
       "      <td>0.068449</td>\n",
       "      <td>0.672620</td>\n",
       "      <td>16.533829</td>\n",
       "      <td>4.853297</td>\n",
       "      <td>0.187999</td>\n",
       "      <td>0.004273</td>\n",
       "      <td>8.948397</td>\n",
       "      <td>0.067449</td>\n",
       "      <td>2.465220</td>\n",
       "      <td>0.683464</td>\n",
       "    </tr>\n",
       "    <tr>\n",
       "      <th>245104200000799</th>\n",
       "      <td>0.329500</td>\n",
       "      <td>2.502895</td>\n",
       "      <td>0.467290</td>\n",
       "      <td>0.000000</td>\n",
       "      <td>0.089224</td>\n",
       "      <td>0.593760</td>\n",
       "      <td>0.490400</td>\n",
       "      <td>0.350000</td>\n",
       "      <td>-1.362500</td>\n",
       "      <td>0.000242</td>\n",
       "      <td>...</td>\n",
       "      <td>0.123850</td>\n",
       "      <td>0.858237</td>\n",
       "      <td>17.937359</td>\n",
       "      <td>1.524028</td>\n",
       "      <td>0.131790</td>\n",
       "      <td>0.011540</td>\n",
       "      <td>-0.980239</td>\n",
       "      <td>0.112776</td>\n",
       "      <td>-0.026306</td>\n",
       "      <td>0.870056</td>\n",
       "    </tr>\n",
       "    <tr>\n",
       "      <th>245104200000939</th>\n",
       "      <td>2.293000</td>\n",
       "      <td>12.605539</td>\n",
       "      <td>0.066038</td>\n",
       "      <td>0.056604</td>\n",
       "      <td>0.177457</td>\n",
       "      <td>4.114202</td>\n",
       "      <td>1.156300</td>\n",
       "      <td>0.426999</td>\n",
       "      <td>9.274009</td>\n",
       "      <td>-0.003301</td>\n",
       "      <td>...</td>\n",
       "      <td>0.394907</td>\n",
       "      <td>0.789900</td>\n",
       "      <td>15.854793</td>\n",
       "      <td>1.492581</td>\n",
       "      <td>0.322914</td>\n",
       "      <td>0.081920</td>\n",
       "      <td>0.337605</td>\n",
       "      <td>0.286570</td>\n",
       "      <td>0.109400</td>\n",
       "      <td>0.675794</td>\n",
       "    </tr>\n",
       "    <tr>\n",
       "      <th>...</th>\n",
       "      <td>...</td>\n",
       "      <td>...</td>\n",
       "      <td>...</td>\n",
       "      <td>...</td>\n",
       "      <td>...</td>\n",
       "      <td>...</td>\n",
       "      <td>...</td>\n",
       "      <td>...</td>\n",
       "      <td>...</td>\n",
       "      <td>...</td>\n",
       "      <td>...</td>\n",
       "      <td>...</td>\n",
       "      <td>...</td>\n",
       "      <td>...</td>\n",
       "      <td>...</td>\n",
       "      <td>...</td>\n",
       "      <td>...</td>\n",
       "      <td>...</td>\n",
       "      <td>...</td>\n",
       "      <td>...</td>\n",
       "      <td>...</td>\n",
       "    </tr>\n",
       "    <tr>\n",
       "      <th>1597113100010642</th>\n",
       "      <td>0.483999</td>\n",
       "      <td>1.274301</td>\n",
       "      <td>0.293578</td>\n",
       "      <td>0.055046</td>\n",
       "      <td>0.187018</td>\n",
       "      <td>0.595680</td>\n",
       "      <td>0.369799</td>\n",
       "      <td>0.157999</td>\n",
       "      <td>1.613005</td>\n",
       "      <td>-0.001550</td>\n",
       "      <td>...</td>\n",
       "      <td>0.107312</td>\n",
       "      <td>0.680863</td>\n",
       "      <td>18.940697</td>\n",
       "      <td>5.417244</td>\n",
       "      <td>0.233112</td>\n",
       "      <td>0.008082</td>\n",
       "      <td>5.852146</td>\n",
       "      <td>0.105139</td>\n",
       "      <td>1.738649</td>\n",
       "      <td>0.670839</td>\n",
       "    </tr>\n",
       "    <tr>\n",
       "      <th>1597113100019088</th>\n",
       "      <td>0.323501</td>\n",
       "      <td>1.453954</td>\n",
       "      <td>0.271186</td>\n",
       "      <td>0.076271</td>\n",
       "      <td>0.202899</td>\n",
       "      <td>0.490780</td>\n",
       "      <td>0.252100</td>\n",
       "      <td>0.097000</td>\n",
       "      <td>1.162233</td>\n",
       "      <td>-0.001054</td>\n",
       "      <td>...</td>\n",
       "      <td>0.079516</td>\n",
       "      <td>0.702109</td>\n",
       "      <td>17.359133</td>\n",
       "      <td>3.377403</td>\n",
       "      <td>0.154508</td>\n",
       "      <td>0.005559</td>\n",
       "      <td>5.974216</td>\n",
       "      <td>0.076836</td>\n",
       "      <td>1.682657</td>\n",
       "      <td>0.710270</td>\n",
       "    </tr>\n",
       "    <tr>\n",
       "      <th>1597113100031221</th>\n",
       "      <td>0.074500</td>\n",
       "      <td>0.266636</td>\n",
       "      <td>0.307692</td>\n",
       "      <td>0.025641</td>\n",
       "      <td>0.153808</td>\n",
       "      <td>0.093640</td>\n",
       "      <td>0.060800</td>\n",
       "      <td>0.032499</td>\n",
       "      <td>1.197538</td>\n",
       "      <td>-0.000101</td>\n",
       "      <td>...</td>\n",
       "      <td>0.031295</td>\n",
       "      <td>0.753234</td>\n",
       "      <td>13.399863</td>\n",
       "      <td>0.861085</td>\n",
       "      <td>0.155385</td>\n",
       "      <td>0.000762</td>\n",
       "      <td>1.899416</td>\n",
       "      <td>0.029034</td>\n",
       "      <td>0.619902</td>\n",
       "      <td>0.756356</td>\n",
       "    </tr>\n",
       "    <tr>\n",
       "      <th>1687113100001669</th>\n",
       "      <td>0.159000</td>\n",
       "      <td>1.292890</td>\n",
       "      <td>0.290000</td>\n",
       "      <td>0.030000</td>\n",
       "      <td>0.197375</td>\n",
       "      <td>0.234001</td>\n",
       "      <td>0.160500</td>\n",
       "      <td>0.078501</td>\n",
       "      <td>0.713989</td>\n",
       "      <td>0.000201</td>\n",
       "      <td>...</td>\n",
       "      <td>0.080559</td>\n",
       "      <td>0.760526</td>\n",
       "      <td>16.968489</td>\n",
       "      <td>2.260365</td>\n",
       "      <td>0.096540</td>\n",
       "      <td>0.005724</td>\n",
       "      <td>2.714355</td>\n",
       "      <td>0.077019</td>\n",
       "      <td>1.257489</td>\n",
       "      <td>0.769287</td>\n",
       "    </tr>\n",
       "    <tr>\n",
       "      <th>1687113100029111</th>\n",
       "      <td>0.138000</td>\n",
       "      <td>1.068936</td>\n",
       "      <td>0.350000</td>\n",
       "      <td>0.020000</td>\n",
       "      <td>0.183042</td>\n",
       "      <td>0.242001</td>\n",
       "      <td>0.198501</td>\n",
       "      <td>0.103000</td>\n",
       "      <td>-0.792017</td>\n",
       "      <td>0.000233</td>\n",
       "      <td>...</td>\n",
       "      <td>0.081708</td>\n",
       "      <td>0.794921</td>\n",
       "      <td>14.718286</td>\n",
       "      <td>2.403147</td>\n",
       "      <td>0.126173</td>\n",
       "      <td>0.005905</td>\n",
       "      <td>0.803636</td>\n",
       "      <td>0.077406</td>\n",
       "      <td>0.935121</td>\n",
       "      <td>0.793232</td>\n",
       "    </tr>\n",
       "  </tbody>\n",
       "</table>\n",
       "<p>990220 rows × 82 columns</p>\n",
       "</div>"
      ],
      "text/plain": [
       "                  amplitude_magn_g  anderson_darling_normal_magn_g  \\\n",
       "sid                                                                  \n",
       "245101100000933           0.177000                        3.696596   \n",
       "245101100009703           0.293500                        2.724011   \n",
       "245101100010242           0.328500                        5.493390   \n",
       "245104200000799           0.329500                        2.502895   \n",
       "245104200000939           2.293000                       12.605539   \n",
       "...                            ...                             ...   \n",
       "1597113100010642          0.483999                        1.274301   \n",
       "1597113100019088          0.323501                        1.453954   \n",
       "1597113100031221          0.074500                        0.266636   \n",
       "1687113100001669          0.159000                        1.292890   \n",
       "1687113100029111          0.138000                        1.068936   \n",
       "\n",
       "                  beyond_1_std_magn_g  beyond_2_std_magn_g  cusum_magn_g  \\\n",
       "sid                                                                        \n",
       "245101100000933              0.370000             0.030000      0.158870   \n",
       "245101100009703              0.290000             0.060000      0.184453   \n",
       "245101100010242              0.190000             0.050000      0.229448   \n",
       "245104200000799              0.467290             0.000000      0.089224   \n",
       "245104200000939              0.066038             0.056604      0.177457   \n",
       "...                               ...                  ...           ...   \n",
       "1597113100010642             0.293578             0.055046      0.187018   \n",
       "1597113100019088             0.271186             0.076271      0.202899   \n",
       "1597113100031221             0.307692             0.025641      0.153808   \n",
       "1687113100001669             0.290000             0.030000      0.197375   \n",
       "1687113100029111             0.350000             0.020000      0.183042   \n",
       "\n",
       "                  inter_percentile_range_2_magn_g  \\\n",
       "sid                                                 \n",
       "245101100000933                          0.341499   \n",
       "245101100009703                          0.523001   \n",
       "245101100010242                          0.559999   \n",
       "245104200000799                          0.593760   \n",
       "245104200000939                          4.114202   \n",
       "...                                           ...   \n",
       "1597113100010642                         0.595680   \n",
       "1597113100019088                         0.490780   \n",
       "1597113100031221                         0.093640   \n",
       "1687113100001669                         0.234001   \n",
       "1687113100029111                         0.242001   \n",
       "\n",
       "                  inter_percentile_range_10_magn_g  \\\n",
       "sid                                                  \n",
       "245101100000933                           0.286501   \n",
       "245101100009703                           0.333000   \n",
       "245101100010242                           0.220499   \n",
       "245104200000799                           0.490400   \n",
       "245104200000939                           1.156300   \n",
       "...                                            ...   \n",
       "1597113100010642                          0.369799   \n",
       "1597113100019088                          0.252100   \n",
       "1597113100031221                          0.060800   \n",
       "1687113100001669                          0.160500   \n",
       "1687113100029111                          0.198501   \n",
       "\n",
       "                  inter_percentile_range_25_magn_g  kurtosis_magn_g  \\\n",
       "sid                                                                   \n",
       "245101100000933                           0.158501        -0.787381   \n",
       "245101100009703                           0.104000         0.201318   \n",
       "245101100010242                           0.094999         5.286414   \n",
       "245104200000799                           0.350000        -1.362500   \n",
       "245104200000939                           0.426999         9.274009   \n",
       "...                                            ...              ...   \n",
       "1597113100010642                          0.157999         1.613005   \n",
       "1597113100019088                          0.097000         1.162233   \n",
       "1597113100031221                          0.032499         1.197538   \n",
       "1687113100001669                          0.078501         0.713989   \n",
       "1687113100029111                          0.103000        -0.792017   \n",
       "\n",
       "                  linear_fit_slope_magn_g  ...  standard_deviation_magn_r  \\\n",
       "sid                                        ...                              \n",
       "245101100000933                 -0.000212  ...                   0.097860   \n",
       "245101100009703                 -0.001444  ...                   0.130134   \n",
       "245101100010242                 -0.001808  ...                   0.068449   \n",
       "245104200000799                  0.000242  ...                   0.123850   \n",
       "245104200000939                 -0.003301  ...                   0.394907   \n",
       "...                                   ...  ...                        ...   \n",
       "1597113100010642                -0.001550  ...                   0.107312   \n",
       "1597113100019088                -0.001054  ...                   0.079516   \n",
       "1597113100031221                -0.000101  ...                   0.031295   \n",
       "1687113100001669                 0.000201  ...                   0.080559   \n",
       "1687113100029111                 0.000233  ...                   0.081708   \n",
       "\n",
       "                  stetson_K_magn_r  weighted_mean_magn_r  \\\n",
       "sid                                                        \n",
       "245101100000933           0.851286             15.842624   \n",
       "245101100009703           0.869721             15.653200   \n",
       "245101100010242           0.672620             16.533829   \n",
       "245104200000799           0.858237             17.937359   \n",
       "245104200000939           0.789900             15.854793   \n",
       "...                            ...                   ...   \n",
       "1597113100010642          0.680863             18.940697   \n",
       "1597113100019088          0.702109             17.359133   \n",
       "1597113100031221          0.753234             13.399863   \n",
       "1687113100001669          0.760526             16.968489   \n",
       "1687113100029111          0.794921             14.718286   \n",
       "\n",
       "                  anderson_darling_normal_flux_r  cusum_flux_r  \\\n",
       "sid                                                              \n",
       "245101100000933                         2.711263      0.099072   \n",
       "245101100009703                         4.130320      0.156431   \n",
       "245101100010242                         4.853297      0.187999   \n",
       "245104200000799                         1.524028      0.131790   \n",
       "245104200000939                         1.492581      0.322914   \n",
       "...                                          ...           ...   \n",
       "1597113100010642                        5.417244      0.233112   \n",
       "1597113100019088                        3.377403      0.154508   \n",
       "1597113100031221                        0.861085      0.155385   \n",
       "1687113100001669                        2.260365      0.096540   \n",
       "1687113100029111                        2.403147      0.126173   \n",
       "\n",
       "                  excess_variance_flux_r  kurtosis_flux_r  \\\n",
       "sid                                                         \n",
       "245101100000933                 0.007498        -0.944294   \n",
       "245101100009703                 0.013800        -1.050300   \n",
       "245101100010242                 0.004273         8.948397   \n",
       "245104200000799                 0.011540        -0.980239   \n",
       "245104200000939                 0.081920         0.337605   \n",
       "...                                  ...              ...   \n",
       "1597113100010642                0.008082         5.852146   \n",
       "1597113100019088                0.005559         5.974216   \n",
       "1597113100031221                0.000762         1.899416   \n",
       "1687113100001669                0.005724         2.714355   \n",
       "1687113100029111                0.005905         0.803636   \n",
       "\n",
       "                  mean_variance_flux_r  skew_flux_r  stetson_K_flux_r  \n",
       "sid                                                                    \n",
       "245101100000933               0.087656    -0.507748          0.844530  \n",
       "245101100009703               0.118238    -0.059173          0.909857  \n",
       "245101100010242               0.067449     2.465220          0.683464  \n",
       "245104200000799               0.112776    -0.026306          0.870056  \n",
       "245104200000939               0.286570     0.109400          0.675794  \n",
       "...                                ...          ...               ...  \n",
       "1597113100010642              0.105139     1.738649          0.670839  \n",
       "1597113100019088              0.076836     1.682657          0.710270  \n",
       "1597113100031221              0.029034     0.619902          0.756356  \n",
       "1687113100001669              0.077019     1.257489          0.769287  \n",
       "1687113100029111              0.077406     0.935121          0.793232  \n",
       "\n",
       "[990220 rows x 82 columns]"
      ]
     },
     "execution_count": 3,
     "metadata": {},
     "output_type": "execute_result"
    }
   ],
   "source": [
    "dr4_df"
   ]
  },
  {
   "cell_type": "code",
   "execution_count": 4,
   "metadata": {},
   "outputs": [
    {
     "data": {
      "text/html": [
       "<div>\n",
       "<style scoped>\n",
       "    .dataframe tbody tr th:only-of-type {\n",
       "        vertical-align: middle;\n",
       "    }\n",
       "\n",
       "    .dataframe tbody tr th {\n",
       "        vertical-align: top;\n",
       "    }\n",
       "\n",
       "    .dataframe thead th {\n",
       "        text-align: right;\n",
       "    }\n",
       "</style>\n",
       "<table border=\"1\" class=\"dataframe\">\n",
       "  <thead>\n",
       "    <tr style=\"text-align: right;\">\n",
       "      <th></th>\n",
       "      <th>amplitude_magn_g</th>\n",
       "      <th>anderson_darling_normal_magn_g</th>\n",
       "      <th>beyond_1_std_magn_g</th>\n",
       "      <th>beyond_2_std_magn_g</th>\n",
       "      <th>cusum_magn_g</th>\n",
       "      <th>inter_percentile_range_2_magn_g</th>\n",
       "      <th>inter_percentile_range_10_magn_g</th>\n",
       "      <th>inter_percentile_range_25_magn_g</th>\n",
       "      <th>kurtosis_magn_g</th>\n",
       "      <th>linear_fit_slope_magn_g</th>\n",
       "      <th>...</th>\n",
       "      <th>standard_deviation_magn_r</th>\n",
       "      <th>stetson_K_magn_r</th>\n",
       "      <th>weighted_mean_magn_r</th>\n",
       "      <th>anderson_darling_normal_flux_r</th>\n",
       "      <th>cusum_flux_r</th>\n",
       "      <th>excess_variance_flux_r</th>\n",
       "      <th>kurtosis_flux_r</th>\n",
       "      <th>mean_variance_flux_r</th>\n",
       "      <th>skew_flux_r</th>\n",
       "      <th>stetson_K_flux_r</th>\n",
       "    </tr>\n",
       "    <tr>\n",
       "      <th>sid</th>\n",
       "      <th></th>\n",
       "      <th></th>\n",
       "      <th></th>\n",
       "      <th></th>\n",
       "      <th></th>\n",
       "      <th></th>\n",
       "      <th></th>\n",
       "      <th></th>\n",
       "      <th></th>\n",
       "      <th></th>\n",
       "      <th></th>\n",
       "      <th></th>\n",
       "      <th></th>\n",
       "      <th></th>\n",
       "      <th></th>\n",
       "      <th></th>\n",
       "      <th></th>\n",
       "      <th></th>\n",
       "      <th></th>\n",
       "      <th></th>\n",
       "      <th></th>\n",
       "    </tr>\n",
       "  </thead>\n",
       "  <tbody>\n",
       "    <tr>\n",
       "      <th>821107100005285</th>\n",
       "      <td>1.0665</td>\n",
       "      <td>3.144564</td>\n",
       "      <td>0.367347</td>\n",
       "      <td>0.006803</td>\n",
       "      <td>0.41085</td>\n",
       "      <td>1.9118</td>\n",
       "      <td>1.548</td>\n",
       "      <td>0.855251</td>\n",
       "      <td>-0.911194</td>\n",
       "      <td>0.002203</td>\n",
       "      <td>...</td>\n",
       "      <td>0.485432</td>\n",
       "      <td>0.896099</td>\n",
       "      <td>19.664368</td>\n",
       "      <td>13.618182</td>\n",
       "      <td>0.398289</td>\n",
       "      <td>0.232481</td>\n",
       "      <td>0.133564</td>\n",
       "      <td>0.492454</td>\n",
       "      <td>1.121968</td>\n",
       "      <td>0.773862</td>\n",
       "    </tr>\n",
       "  </tbody>\n",
       "</table>\n",
       "<p>1 rows × 82 columns</p>\n",
       "</div>"
      ],
      "text/plain": [
       "                 amplitude_magn_g  anderson_darling_normal_magn_g  \\\n",
       "sid                                                                 \n",
       "821107100005285            1.0665                        3.144564   \n",
       "\n",
       "                 beyond_1_std_magn_g  beyond_2_std_magn_g  cusum_magn_g  \\\n",
       "sid                                                                       \n",
       "821107100005285             0.367347             0.006803       0.41085   \n",
       "\n",
       "                 inter_percentile_range_2_magn_g  \\\n",
       "sid                                                \n",
       "821107100005285                           1.9118   \n",
       "\n",
       "                 inter_percentile_range_10_magn_g  \\\n",
       "sid                                                 \n",
       "821107100005285                             1.548   \n",
       "\n",
       "                 inter_percentile_range_25_magn_g  kurtosis_magn_g  \\\n",
       "sid                                                                  \n",
       "821107100005285                          0.855251        -0.911194   \n",
       "\n",
       "                 linear_fit_slope_magn_g  ...  standard_deviation_magn_r  \\\n",
       "sid                                       ...                              \n",
       "821107100005285                 0.002203  ...                   0.485432   \n",
       "\n",
       "                 stetson_K_magn_r  weighted_mean_magn_r  \\\n",
       "sid                                                       \n",
       "821107100005285          0.896099             19.664368   \n",
       "\n",
       "                 anderson_darling_normal_flux_r  cusum_flux_r  \\\n",
       "sid                                                             \n",
       "821107100005285                       13.618182      0.398289   \n",
       "\n",
       "                 excess_variance_flux_r  kurtosis_flux_r  \\\n",
       "sid                                                        \n",
       "821107100005285                0.232481         0.133564   \n",
       "\n",
       "                 mean_variance_flux_r  skew_flux_r  stetson_K_flux_r  \n",
       "sid                                                                   \n",
       "821107100005285              0.492454     1.121968          0.773862  \n",
       "\n",
       "[1 rows x 82 columns]"
      ]
     },
     "execution_count": 4,
     "metadata": {},
     "output_type": "execute_result"
    }
   ],
   "source": [
    "OID = 821107100005285\n",
    "\n",
    "oid_df = dr4_df[dr4_df.index == OID]\n",
    "oid_df"
   ]
  },
  {
   "cell_type": "code",
   "execution_count": 5,
   "metadata": {},
   "outputs": [],
   "source": [
    "#fakes_df = pd.concat([fakes_df, oid_df])\n",
    "#fakes_df"
   ]
  },
  {
   "cell_type": "markdown",
   "metadata": {},
   "source": [
    "# PCA "
   ]
  },
  {
   "cell_type": "code",
   "execution_count": 6,
   "metadata": {},
   "outputs": [],
   "source": [
    "def applypca(dataset_real, dataset_fakes, pca_num):\n",
    "    X_real = dataset_real\n",
    "    X_fakes = dataset_fakes\n",
    "    \n",
    "    ss = StandardScaler()\n",
    "    scaled_X_real = ss.fit_transform(X_real)\n",
    "    pca = PCA(pca_num)\n",
    "    \n",
    "    # apply same PCA to both real and fakes data\n",
    "    pcs_X_real = pca.fit_transform(scaled_X_real)\n",
    "    pcs_X_fakes = pca.transform(ss.transform(X_fakes))\n",
    "    \n",
    "    score = pcs_X_real[:,0:2]\n",
    "    coeff = np.transpose(pca.components_[0:2, :])\n",
    "    \n",
    "    return pca, pcs_X_real, pcs_X_fakes, score, coeff"
   ]
  },
  {
   "cell_type": "code",
   "execution_count": 7,
   "metadata": {},
   "outputs": [],
   "source": [
    "def pcaplot(score, coeff, datacolor):\n",
    "    xs = score[:,0]\n",
    "    ys = score[:,1]\n",
    "    n = coeff.shape[0]\n",
    "    scalex = 1.0/(xs.max() - xs.min())\n",
    "    scaley = 1.0/(ys.max() - ys.min())\n",
    "    plt.scatter(xs * scalex,ys * scaley, c=datacolor, s=6, alpha=0.6) \n",
    "    for i in range(n):\n",
    "        plt.arrow(0, 0, coeff[i,0], coeff[i,1], head_width= .003, color = 'r',alpha = 0.5)\n",
    "        fakes_df_cols_latex_read = [r.replace('_', '\\_') for r in fakes_df.columns.values]\n",
    "        plt.text(coeff[i,0]* 1.12, coeff[i,1] * 1.12, list(fakes_df_cols_latex_read)[i], \n",
    "                     color = 'darkblue', ha = 'center', va = 'center', fontsize = 10)"
   ]
  },
  {
   "cell_type": "code",
   "execution_count": 8,
   "metadata": {},
   "outputs": [],
   "source": [
    "pca, pcs_X_real, pcs_X_fakes, score, coeff = applypca(dataset_real=dr4_df, \n",
    "                                                      dataset_fakes=oid_df, \n",
    "                                                      pca_num=25)"
   ]
  },
  {
   "cell_type": "markdown",
   "metadata": {},
   "source": [
    "# Build DFs from first (15) PCs"
   ]
  },
  {
   "cell_type": "code",
   "execution_count": 9,
   "metadata": {},
   "outputs": [
    {
     "data": {
      "text/html": [
       "<div>\n",
       "<style scoped>\n",
       "    .dataframe tbody tr th:only-of-type {\n",
       "        vertical-align: middle;\n",
       "    }\n",
       "\n",
       "    .dataframe tbody tr th {\n",
       "        vertical-align: top;\n",
       "    }\n",
       "\n",
       "    .dataframe thead th {\n",
       "        text-align: right;\n",
       "    }\n",
       "</style>\n",
       "<table border=\"1\" class=\"dataframe\">\n",
       "  <thead>\n",
       "    <tr style=\"text-align: right;\">\n",
       "      <th></th>\n",
       "      <th>0</th>\n",
       "      <th>1</th>\n",
       "      <th>2</th>\n",
       "      <th>3</th>\n",
       "      <th>4</th>\n",
       "      <th>5</th>\n",
       "      <th>6</th>\n",
       "      <th>7</th>\n",
       "      <th>8</th>\n",
       "      <th>9</th>\n",
       "      <th>...</th>\n",
       "      <th>15</th>\n",
       "      <th>16</th>\n",
       "      <th>17</th>\n",
       "      <th>18</th>\n",
       "      <th>19</th>\n",
       "      <th>20</th>\n",
       "      <th>21</th>\n",
       "      <th>22</th>\n",
       "      <th>23</th>\n",
       "      <th>24</th>\n",
       "    </tr>\n",
       "    <tr>\n",
       "      <th>sid</th>\n",
       "      <th></th>\n",
       "      <th></th>\n",
       "      <th></th>\n",
       "      <th></th>\n",
       "      <th></th>\n",
       "      <th></th>\n",
       "      <th></th>\n",
       "      <th></th>\n",
       "      <th></th>\n",
       "      <th></th>\n",
       "      <th></th>\n",
       "      <th></th>\n",
       "      <th></th>\n",
       "      <th></th>\n",
       "      <th></th>\n",
       "      <th></th>\n",
       "      <th></th>\n",
       "      <th></th>\n",
       "      <th></th>\n",
       "      <th></th>\n",
       "      <th></th>\n",
       "    </tr>\n",
       "  </thead>\n",
       "  <tbody>\n",
       "    <tr>\n",
       "      <th>821107100005285</th>\n",
       "      <td>25.132661</td>\n",
       "      <td>-4.287619</td>\n",
       "      <td>4.176179</td>\n",
       "      <td>9.490577</td>\n",
       "      <td>0.282622</td>\n",
       "      <td>-0.655225</td>\n",
       "      <td>-10.237013</td>\n",
       "      <td>-0.275212</td>\n",
       "      <td>2.065428</td>\n",
       "      <td>-0.98515</td>\n",
       "      <td>...</td>\n",
       "      <td>-0.041829</td>\n",
       "      <td>1.431878</td>\n",
       "      <td>0.636008</td>\n",
       "      <td>0.902594</td>\n",
       "      <td>-0.665632</td>\n",
       "      <td>3.140877</td>\n",
       "      <td>0.729018</td>\n",
       "      <td>3.032291</td>\n",
       "      <td>0.941942</td>\n",
       "      <td>1.362524</td>\n",
       "    </tr>\n",
       "  </tbody>\n",
       "</table>\n",
       "<p>1 rows × 25 columns</p>\n",
       "</div>"
      ],
      "text/plain": [
       "                        0         1         2         3         4         5   \\\n",
       "sid                                                                            \n",
       "821107100005285  25.132661 -4.287619  4.176179  9.490577  0.282622 -0.655225   \n",
       "\n",
       "                        6         7         8        9   ...        15  \\\n",
       "sid                                                      ...             \n",
       "821107100005285 -10.237013 -0.275212  2.065428 -0.98515  ... -0.041829   \n",
       "\n",
       "                       16        17        18        19        20        21  \\\n",
       "sid                                                                           \n",
       "821107100005285  1.431878  0.636008  0.902594 -0.665632  3.140877  0.729018   \n",
       "\n",
       "                       22        23        24  \n",
       "sid                                            \n",
       "821107100005285  3.032291  0.941942  1.362524  \n",
       "\n",
       "[1 rows x 25 columns]"
      ]
     },
     "execution_count": 9,
     "metadata": {},
     "output_type": "execute_result"
    }
   ],
   "source": [
    "pcs_X_oid_df = pd.DataFrame(data=pcs_X_fakes, index=oid_df.index)\n",
    "pcs_X_oid_df"
   ]
  },
  {
   "cell_type": "code",
   "execution_count": 10,
   "metadata": {},
   "outputs": [
    {
     "data": {
      "text/html": [
       "<div>\n",
       "<style scoped>\n",
       "    .dataframe tbody tr th:only-of-type {\n",
       "        vertical-align: middle;\n",
       "    }\n",
       "\n",
       "    .dataframe tbody tr th {\n",
       "        vertical-align: top;\n",
       "    }\n",
       "\n",
       "    .dataframe thead th {\n",
       "        text-align: right;\n",
       "    }\n",
       "</style>\n",
       "<table border=\"1\" class=\"dataframe\">\n",
       "  <thead>\n",
       "    <tr style=\"text-align: right;\">\n",
       "      <th></th>\n",
       "      <th>0</th>\n",
       "      <th>1</th>\n",
       "      <th>2</th>\n",
       "      <th>3</th>\n",
       "      <th>4</th>\n",
       "      <th>5</th>\n",
       "      <th>6</th>\n",
       "      <th>7</th>\n",
       "      <th>8</th>\n",
       "      <th>9</th>\n",
       "      <th>...</th>\n",
       "      <th>15</th>\n",
       "      <th>16</th>\n",
       "      <th>17</th>\n",
       "      <th>18</th>\n",
       "      <th>19</th>\n",
       "      <th>20</th>\n",
       "      <th>21</th>\n",
       "      <th>22</th>\n",
       "      <th>23</th>\n",
       "      <th>24</th>\n",
       "    </tr>\n",
       "    <tr>\n",
       "      <th>sid</th>\n",
       "      <th></th>\n",
       "      <th></th>\n",
       "      <th></th>\n",
       "      <th></th>\n",
       "      <th></th>\n",
       "      <th></th>\n",
       "      <th></th>\n",
       "      <th></th>\n",
       "      <th></th>\n",
       "      <th></th>\n",
       "      <th></th>\n",
       "      <th></th>\n",
       "      <th></th>\n",
       "      <th></th>\n",
       "      <th></th>\n",
       "      <th></th>\n",
       "      <th></th>\n",
       "      <th></th>\n",
       "      <th></th>\n",
       "      <th></th>\n",
       "      <th></th>\n",
       "    </tr>\n",
       "  </thead>\n",
       "  <tbody>\n",
       "    <tr>\n",
       "      <th>245101100000933</th>\n",
       "      <td>1.848374</td>\n",
       "      <td>-4.414712</td>\n",
       "      <td>-5.619388</td>\n",
       "      <td>5.260008</td>\n",
       "      <td>-0.999673</td>\n",
       "      <td>1.886673</td>\n",
       "      <td>2.324752</td>\n",
       "      <td>0.254310</td>\n",
       "      <td>-0.610019</td>\n",
       "      <td>-0.509973</td>\n",
       "      <td>...</td>\n",
       "      <td>2.364142</td>\n",
       "      <td>-2.795532</td>\n",
       "      <td>2.418044</td>\n",
       "      <td>-0.047208</td>\n",
       "      <td>1.244586</td>\n",
       "      <td>0.238595</td>\n",
       "      <td>0.737745</td>\n",
       "      <td>0.457679</td>\n",
       "      <td>1.083256</td>\n",
       "      <td>-0.968905</td>\n",
       "    </tr>\n",
       "    <tr>\n",
       "      <th>245101100009703</th>\n",
       "      <td>2.967064</td>\n",
       "      <td>-1.671175</td>\n",
       "      <td>-6.837338</td>\n",
       "      <td>3.595931</td>\n",
       "      <td>4.496301</td>\n",
       "      <td>0.035450</td>\n",
       "      <td>7.659707</td>\n",
       "      <td>0.350638</td>\n",
       "      <td>1.742033</td>\n",
       "      <td>-1.395584</td>\n",
       "      <td>...</td>\n",
       "      <td>1.982632</td>\n",
       "      <td>-2.632861</td>\n",
       "      <td>1.932105</td>\n",
       "      <td>-0.276466</td>\n",
       "      <td>0.654405</td>\n",
       "      <td>0.194872</td>\n",
       "      <td>0.558962</td>\n",
       "      <td>-0.063832</td>\n",
       "      <td>0.043463</td>\n",
       "      <td>0.311103</td>\n",
       "    </tr>\n",
       "    <tr>\n",
       "      <th>245101100010242</th>\n",
       "      <td>-0.108842</td>\n",
       "      <td>2.405274</td>\n",
       "      <td>-5.404214</td>\n",
       "      <td>0.148658</td>\n",
       "      <td>7.597006</td>\n",
       "      <td>0.413204</td>\n",
       "      <td>4.990583</td>\n",
       "      <td>0.844008</td>\n",
       "      <td>0.302768</td>\n",
       "      <td>-0.536326</td>\n",
       "      <td>...</td>\n",
       "      <td>0.503383</td>\n",
       "      <td>-1.557005</td>\n",
       "      <td>2.006571</td>\n",
       "      <td>0.340851</td>\n",
       "      <td>0.436470</td>\n",
       "      <td>-1.210648</td>\n",
       "      <td>-0.248009</td>\n",
       "      <td>-0.317351</td>\n",
       "      <td>0.133964</td>\n",
       "      <td>-0.095024</td>\n",
       "    </tr>\n",
       "    <tr>\n",
       "      <th>245104200000799</th>\n",
       "      <td>7.365672</td>\n",
       "      <td>-5.579897</td>\n",
       "      <td>-5.080349</td>\n",
       "      <td>6.771788</td>\n",
       "      <td>0.701663</td>\n",
       "      <td>4.046204</td>\n",
       "      <td>2.639507</td>\n",
       "      <td>-1.075667</td>\n",
       "      <td>-2.850329</td>\n",
       "      <td>-0.918465</td>\n",
       "      <td>...</td>\n",
       "      <td>3.195308</td>\n",
       "      <td>-5.855861</td>\n",
       "      <td>3.254418</td>\n",
       "      <td>1.645691</td>\n",
       "      <td>1.876212</td>\n",
       "      <td>3.695432</td>\n",
       "      <td>1.032424</td>\n",
       "      <td>0.009800</td>\n",
       "      <td>-0.009154</td>\n",
       "      <td>1.227088</td>\n",
       "    </tr>\n",
       "    <tr>\n",
       "      <th>245104200000939</th>\n",
       "      <td>30.154807</td>\n",
       "      <td>10.945092</td>\n",
       "      <td>-8.899698</td>\n",
       "      <td>12.322109</td>\n",
       "      <td>17.629009</td>\n",
       "      <td>-5.978311</td>\n",
       "      <td>18.177034</td>\n",
       "      <td>3.577059</td>\n",
       "      <td>2.805127</td>\n",
       "      <td>-3.233616</td>\n",
       "      <td>...</td>\n",
       "      <td>-4.799962</td>\n",
       "      <td>-11.330782</td>\n",
       "      <td>6.791227</td>\n",
       "      <td>9.284648</td>\n",
       "      <td>4.871954</td>\n",
       "      <td>8.505982</td>\n",
       "      <td>2.207025</td>\n",
       "      <td>-3.161091</td>\n",
       "      <td>-1.986230</td>\n",
       "      <td>-2.156008</td>\n",
       "    </tr>\n",
       "    <tr>\n",
       "      <th>...</th>\n",
       "      <td>...</td>\n",
       "      <td>...</td>\n",
       "      <td>...</td>\n",
       "      <td>...</td>\n",
       "      <td>...</td>\n",
       "      <td>...</td>\n",
       "      <td>...</td>\n",
       "      <td>...</td>\n",
       "      <td>...</td>\n",
       "      <td>...</td>\n",
       "      <td>...</td>\n",
       "      <td>...</td>\n",
       "      <td>...</td>\n",
       "      <td>...</td>\n",
       "      <td>...</td>\n",
       "      <td>...</td>\n",
       "      <td>...</td>\n",
       "      <td>...</td>\n",
       "      <td>...</td>\n",
       "      <td>...</td>\n",
       "      <td>...</td>\n",
       "    </tr>\n",
       "    <tr>\n",
       "      <th>1597113100010642</th>\n",
       "      <td>3.946898</td>\n",
       "      <td>2.210204</td>\n",
       "      <td>-5.614792</td>\n",
       "      <td>0.057015</td>\n",
       "      <td>10.194058</td>\n",
       "      <td>-0.193864</td>\n",
       "      <td>7.076343</td>\n",
       "      <td>-0.936117</td>\n",
       "      <td>-2.615121</td>\n",
       "      <td>-0.239100</td>\n",
       "      <td>...</td>\n",
       "      <td>1.536582</td>\n",
       "      <td>-3.627772</td>\n",
       "      <td>1.341563</td>\n",
       "      <td>0.650310</td>\n",
       "      <td>1.440396</td>\n",
       "      <td>2.412695</td>\n",
       "      <td>0.874152</td>\n",
       "      <td>0.474602</td>\n",
       "      <td>0.765807</td>\n",
       "      <td>-0.876002</td>\n",
       "    </tr>\n",
       "    <tr>\n",
       "      <th>1597113100019088</th>\n",
       "      <td>0.413334</td>\n",
       "      <td>0.540809</td>\n",
       "      <td>-4.052421</td>\n",
       "      <td>-0.078610</td>\n",
       "      <td>4.553595</td>\n",
       "      <td>-0.578822</td>\n",
       "      <td>2.776984</td>\n",
       "      <td>0.468294</td>\n",
       "      <td>-0.761871</td>\n",
       "      <td>-0.078940</td>\n",
       "      <td>...</td>\n",
       "      <td>0.116539</td>\n",
       "      <td>-1.876106</td>\n",
       "      <td>0.258099</td>\n",
       "      <td>0.021929</td>\n",
       "      <td>-0.075823</td>\n",
       "      <td>-0.956434</td>\n",
       "      <td>0.471134</td>\n",
       "      <td>-0.058022</td>\n",
       "      <td>0.823703</td>\n",
       "      <td>-0.121341</td>\n",
       "    </tr>\n",
       "    <tr>\n",
       "      <th>1597113100031221</th>\n",
       "      <td>-5.107737</td>\n",
       "      <td>-2.974856</td>\n",
       "      <td>-3.773432</td>\n",
       "      <td>1.666605</td>\n",
       "      <td>-0.358642</td>\n",
       "      <td>0.263065</td>\n",
       "      <td>0.706929</td>\n",
       "      <td>2.276378</td>\n",
       "      <td>0.666725</td>\n",
       "      <td>-0.080482</td>\n",
       "      <td>...</td>\n",
       "      <td>0.428150</td>\n",
       "      <td>-1.025340</td>\n",
       "      <td>0.831355</td>\n",
       "      <td>0.225887</td>\n",
       "      <td>0.394189</td>\n",
       "      <td>0.765990</td>\n",
       "      <td>-0.194844</td>\n",
       "      <td>-0.448454</td>\n",
       "      <td>-0.265535</td>\n",
       "      <td>-0.598979</td>\n",
       "    </tr>\n",
       "    <tr>\n",
       "      <th>1687113100001669</th>\n",
       "      <td>-1.281994</td>\n",
       "      <td>-1.793778</td>\n",
       "      <td>-4.068860</td>\n",
       "      <td>0.637417</td>\n",
       "      <td>-1.954898</td>\n",
       "      <td>0.750016</td>\n",
       "      <td>-0.604701</td>\n",
       "      <td>1.066708</td>\n",
       "      <td>-0.803187</td>\n",
       "      <td>0.218815</td>\n",
       "      <td>...</td>\n",
       "      <td>1.122461</td>\n",
       "      <td>0.358095</td>\n",
       "      <td>0.076750</td>\n",
       "      <td>-0.543068</td>\n",
       "      <td>-0.759911</td>\n",
       "      <td>-0.067128</td>\n",
       "      <td>1.137902</td>\n",
       "      <td>0.188089</td>\n",
       "      <td>-0.176446</td>\n",
       "      <td>0.005519</td>\n",
       "    </tr>\n",
       "    <tr>\n",
       "      <th>1687113100029111</th>\n",
       "      <td>-1.594688</td>\n",
       "      <td>-3.466507</td>\n",
       "      <td>-4.176631</td>\n",
       "      <td>2.195718</td>\n",
       "      <td>-2.307406</td>\n",
       "      <td>0.203108</td>\n",
       "      <td>-0.619148</td>\n",
       "      <td>2.428871</td>\n",
       "      <td>0.521306</td>\n",
       "      <td>-0.218800</td>\n",
       "      <td>...</td>\n",
       "      <td>0.330131</td>\n",
       "      <td>-0.559619</td>\n",
       "      <td>-0.413239</td>\n",
       "      <td>-0.051247</td>\n",
       "      <td>-0.589522</td>\n",
       "      <td>0.267344</td>\n",
       "      <td>0.585516</td>\n",
       "      <td>0.074467</td>\n",
       "      <td>-0.548809</td>\n",
       "      <td>-0.963979</td>\n",
       "    </tr>\n",
       "  </tbody>\n",
       "</table>\n",
       "<p>990220 rows × 25 columns</p>\n",
       "</div>"
      ],
      "text/plain": [
       "                         0          1         2          3          4   \\\n",
       "sid                                                                      \n",
       "245101100000933    1.848374  -4.414712 -5.619388   5.260008  -0.999673   \n",
       "245101100009703    2.967064  -1.671175 -6.837338   3.595931   4.496301   \n",
       "245101100010242   -0.108842   2.405274 -5.404214   0.148658   7.597006   \n",
       "245104200000799    7.365672  -5.579897 -5.080349   6.771788   0.701663   \n",
       "245104200000939   30.154807  10.945092 -8.899698  12.322109  17.629009   \n",
       "...                     ...        ...       ...        ...        ...   \n",
       "1597113100010642   3.946898   2.210204 -5.614792   0.057015  10.194058   \n",
       "1597113100019088   0.413334   0.540809 -4.052421  -0.078610   4.553595   \n",
       "1597113100031221  -5.107737  -2.974856 -3.773432   1.666605  -0.358642   \n",
       "1687113100001669  -1.281994  -1.793778 -4.068860   0.637417  -1.954898   \n",
       "1687113100029111  -1.594688  -3.466507 -4.176631   2.195718  -2.307406   \n",
       "\n",
       "                        5          6         7         8         9   ...  \\\n",
       "sid                                                                  ...   \n",
       "245101100000933   1.886673   2.324752  0.254310 -0.610019 -0.509973  ...   \n",
       "245101100009703   0.035450   7.659707  0.350638  1.742033 -1.395584  ...   \n",
       "245101100010242   0.413204   4.990583  0.844008  0.302768 -0.536326  ...   \n",
       "245104200000799   4.046204   2.639507 -1.075667 -2.850329 -0.918465  ...   \n",
       "245104200000939  -5.978311  18.177034  3.577059  2.805127 -3.233616  ...   \n",
       "...                    ...        ...       ...       ...       ...  ...   \n",
       "1597113100010642 -0.193864   7.076343 -0.936117 -2.615121 -0.239100  ...   \n",
       "1597113100019088 -0.578822   2.776984  0.468294 -0.761871 -0.078940  ...   \n",
       "1597113100031221  0.263065   0.706929  2.276378  0.666725 -0.080482  ...   \n",
       "1687113100001669  0.750016  -0.604701  1.066708 -0.803187  0.218815  ...   \n",
       "1687113100029111  0.203108  -0.619148  2.428871  0.521306 -0.218800  ...   \n",
       "\n",
       "                        15         16        17        18        19        20  \\\n",
       "sid                                                                             \n",
       "245101100000933   2.364142  -2.795532  2.418044 -0.047208  1.244586  0.238595   \n",
       "245101100009703   1.982632  -2.632861  1.932105 -0.276466  0.654405  0.194872   \n",
       "245101100010242   0.503383  -1.557005  2.006571  0.340851  0.436470 -1.210648   \n",
       "245104200000799   3.195308  -5.855861  3.254418  1.645691  1.876212  3.695432   \n",
       "245104200000939  -4.799962 -11.330782  6.791227  9.284648  4.871954  8.505982   \n",
       "...                    ...        ...       ...       ...       ...       ...   \n",
       "1597113100010642  1.536582  -3.627772  1.341563  0.650310  1.440396  2.412695   \n",
       "1597113100019088  0.116539  -1.876106  0.258099  0.021929 -0.075823 -0.956434   \n",
       "1597113100031221  0.428150  -1.025340  0.831355  0.225887  0.394189  0.765990   \n",
       "1687113100001669  1.122461   0.358095  0.076750 -0.543068 -0.759911 -0.067128   \n",
       "1687113100029111  0.330131  -0.559619 -0.413239 -0.051247 -0.589522  0.267344   \n",
       "\n",
       "                        21        22        23        24  \n",
       "sid                                                       \n",
       "245101100000933   0.737745  0.457679  1.083256 -0.968905  \n",
       "245101100009703   0.558962 -0.063832  0.043463  0.311103  \n",
       "245101100010242  -0.248009 -0.317351  0.133964 -0.095024  \n",
       "245104200000799   1.032424  0.009800 -0.009154  1.227088  \n",
       "245104200000939   2.207025 -3.161091 -1.986230 -2.156008  \n",
       "...                    ...       ...       ...       ...  \n",
       "1597113100010642  0.874152  0.474602  0.765807 -0.876002  \n",
       "1597113100019088  0.471134 -0.058022  0.823703 -0.121341  \n",
       "1597113100031221 -0.194844 -0.448454 -0.265535 -0.598979  \n",
       "1687113100001669  1.137902  0.188089 -0.176446  0.005519  \n",
       "1687113100029111  0.585516  0.074467 -0.548809 -0.963979  \n",
       "\n",
       "[990220 rows x 25 columns]"
      ]
     },
     "execution_count": 10,
     "metadata": {},
     "output_type": "execute_result"
    }
   ],
   "source": [
    "pcs_X_real_df = pd.DataFrame(data=pcs_X_real, index=dr4_df.index)\n",
    "pcs_X_real_df"
   ]
  },
  {
   "cell_type": "code",
   "execution_count": 11,
   "metadata": {},
   "outputs": [
    {
     "name": "stdout",
     "output_type": "stream",
     "text": [
      "CPU times: user 2.75 s, sys: 234 ms, total: 2.98 s\n",
      "Wall time: 3 s\n"
     ]
    }
   ],
   "source": [
    "%%time\n",
    "\n",
    "# KDTREE\n",
    "from scipy.spatial import cKDTree\n",
    "\n",
    "X = np.vstack(pcs_X_oid_df.values)\n",
    "kdtree = cKDTree(np.vstack(pcs_X_real_df.values))\n",
    "ktot=200\n",
    "dist, ind = kdtree.query(X, k=ktot)\n",
    "\n",
    "# Save PCA kdtree as pickle\n",
    "#pickle.dump(kdtree,open('./pca_15pcs_orig_kdtree.p','wb'))"
   ]
  },
  {
   "cell_type": "code",
   "execution_count": 12,
   "metadata": {},
   "outputs": [
    {
     "name": "stdout",
     "output_type": "stream",
     "text": [
      "[7.9707464]\n",
      "[98525]\n"
     ]
    }
   ],
   "source": [
    "k_neighbor = 1   # change this number to find the NN you want\n",
    "\n",
    "print(dist[:, k_neighbor])   # drop id; assumes sorted -> see args!\n",
    "print(ind[:, k_neighbor])    # drop id"
   ]
  },
  {
   "cell_type": "code",
   "execution_count": 13,
   "metadata": {},
   "outputs": [],
   "source": [
    "kdtree_results_df = pd.DataFrame()\n",
    "kdtree_results_df['sid'] = pcs_X_oid_df.index\n",
    "kdtree_results_df = kdtree_results_df.set_index('sid')\n",
    "\n",
    "kdtree_dist_df = kdtree_results_df.copy()\n",
    "\n",
    "for knn in range(0,ktot):    \n",
    "    dr4_match_oid, dr4_match_dist = [],[]\n",
    "    for ix, dis in zip(ind[:, knn], dist[:, knn]):\n",
    "        dr4_match_oid.append(dr4_df.iloc[ix].name)\n",
    "        dr4_match_dist.append(dis)\n",
    "    kdtree_results_df[f'knn={knn+1}_match_OID'] = dr4_match_oid\n",
    "    kdtree_dist_df[f'knn={knn+1}_dist'] = dr4_match_dist"
   ]
  },
  {
   "cell_type": "code",
   "execution_count": 14,
   "metadata": {},
   "outputs": [
    {
     "data": {
      "text/html": [
       "<div>\n",
       "<style scoped>\n",
       "    .dataframe tbody tr th:only-of-type {\n",
       "        vertical-align: middle;\n",
       "    }\n",
       "\n",
       "    .dataframe tbody tr th {\n",
       "        vertical-align: top;\n",
       "    }\n",
       "\n",
       "    .dataframe thead th {\n",
       "        text-align: right;\n",
       "    }\n",
       "</style>\n",
       "<table border=\"1\" class=\"dataframe\">\n",
       "  <thead>\n",
       "    <tr style=\"text-align: right;\">\n",
       "      <th></th>\n",
       "      <th>knn=1_match_OID</th>\n",
       "      <th>knn=2_match_OID</th>\n",
       "      <th>knn=3_match_OID</th>\n",
       "      <th>knn=4_match_OID</th>\n",
       "      <th>knn=5_match_OID</th>\n",
       "      <th>knn=6_match_OID</th>\n",
       "      <th>knn=7_match_OID</th>\n",
       "      <th>knn=8_match_OID</th>\n",
       "      <th>knn=9_match_OID</th>\n",
       "      <th>knn=10_match_OID</th>\n",
       "      <th>...</th>\n",
       "      <th>knn=191_match_OID</th>\n",
       "      <th>knn=192_match_OID</th>\n",
       "      <th>knn=193_match_OID</th>\n",
       "      <th>knn=194_match_OID</th>\n",
       "      <th>knn=195_match_OID</th>\n",
       "      <th>knn=196_match_OID</th>\n",
       "      <th>knn=197_match_OID</th>\n",
       "      <th>knn=198_match_OID</th>\n",
       "      <th>knn=199_match_OID</th>\n",
       "      <th>knn=200_match_OID</th>\n",
       "    </tr>\n",
       "    <tr>\n",
       "      <th>sid</th>\n",
       "      <th></th>\n",
       "      <th></th>\n",
       "      <th></th>\n",
       "      <th></th>\n",
       "      <th></th>\n",
       "      <th></th>\n",
       "      <th></th>\n",
       "      <th></th>\n",
       "      <th></th>\n",
       "      <th></th>\n",
       "      <th></th>\n",
       "      <th></th>\n",
       "      <th></th>\n",
       "      <th></th>\n",
       "      <th></th>\n",
       "      <th></th>\n",
       "      <th></th>\n",
       "      <th></th>\n",
       "      <th></th>\n",
       "      <th></th>\n",
       "      <th></th>\n",
       "    </tr>\n",
       "  </thead>\n",
       "  <tbody>\n",
       "    <tr>\n",
       "      <th>821107100005285</th>\n",
       "      <td>821107100005285</td>\n",
       "      <td>582109100008627</td>\n",
       "      <td>724101100027872</td>\n",
       "      <td>633108300023697</td>\n",
       "      <td>587106400020085</td>\n",
       "      <td>635104300022736</td>\n",
       "      <td>793105100016413</td>\n",
       "      <td>667113400000692</td>\n",
       "      <td>725116100002465</td>\n",
       "      <td>813105100004493</td>\n",
       "      <td>...</td>\n",
       "      <td>799111400025654</td>\n",
       "      <td>683106100033432</td>\n",
       "      <td>646113200001492</td>\n",
       "      <td>677101100002183</td>\n",
       "      <td>752113100002574</td>\n",
       "      <td>681106200027577</td>\n",
       "      <td>681106400000714</td>\n",
       "      <td>682113300013408</td>\n",
       "      <td>821115300012972</td>\n",
       "      <td>817103100001382</td>\n",
       "    </tr>\n",
       "  </tbody>\n",
       "</table>\n",
       "<p>1 rows × 200 columns</p>\n",
       "</div>"
      ],
      "text/plain": [
       "                 knn=1_match_OID  knn=2_match_OID  knn=3_match_OID  \\\n",
       "sid                                                                  \n",
       "821107100005285  821107100005285  582109100008627  724101100027872   \n",
       "\n",
       "                 knn=4_match_OID  knn=5_match_OID  knn=6_match_OID  \\\n",
       "sid                                                                  \n",
       "821107100005285  633108300023697  587106400020085  635104300022736   \n",
       "\n",
       "                 knn=7_match_OID  knn=8_match_OID  knn=9_match_OID  \\\n",
       "sid                                                                  \n",
       "821107100005285  793105100016413  667113400000692  725116100002465   \n",
       "\n",
       "                 knn=10_match_OID  ...  knn=191_match_OID  knn=192_match_OID  \\\n",
       "sid                                ...                                         \n",
       "821107100005285   813105100004493  ...    799111400025654    683106100033432   \n",
       "\n",
       "                 knn=193_match_OID  knn=194_match_OID  knn=195_match_OID  \\\n",
       "sid                                                                        \n",
       "821107100005285    646113200001492    677101100002183    752113100002574   \n",
       "\n",
       "                 knn=196_match_OID  knn=197_match_OID  knn=198_match_OID  \\\n",
       "sid                                                                        \n",
       "821107100005285    681106200027577    681106400000714    682113300013408   \n",
       "\n",
       "                 knn=199_match_OID  knn=200_match_OID  \n",
       "sid                                                    \n",
       "821107100005285    821115300012972    817103100001382  \n",
       "\n",
       "[1 rows x 200 columns]"
      ]
     },
     "execution_count": 14,
     "metadata": {},
     "output_type": "execute_result"
    }
   ],
   "source": [
    "#kdtree_results_df.to_csv(\"./dataframes/pca_15pcs_orig_kdtree_results_df.csv.gzip\", compression='gzip')\n",
    "kdtree_results_df"
   ]
  },
  {
   "cell_type": "code",
   "execution_count": 15,
   "metadata": {},
   "outputs": [
    {
     "data": {
      "text/html": [
       "<div>\n",
       "<style scoped>\n",
       "    .dataframe tbody tr th:only-of-type {\n",
       "        vertical-align: middle;\n",
       "    }\n",
       "\n",
       "    .dataframe tbody tr th {\n",
       "        vertical-align: top;\n",
       "    }\n",
       "\n",
       "    .dataframe thead th {\n",
       "        text-align: right;\n",
       "    }\n",
       "</style>\n",
       "<table border=\"1\" class=\"dataframe\">\n",
       "  <thead>\n",
       "    <tr style=\"text-align: right;\">\n",
       "      <th></th>\n",
       "      <th>knn=1_dist</th>\n",
       "      <th>knn=2_dist</th>\n",
       "      <th>knn=3_dist</th>\n",
       "      <th>knn=4_dist</th>\n",
       "      <th>knn=5_dist</th>\n",
       "      <th>knn=6_dist</th>\n",
       "      <th>knn=7_dist</th>\n",
       "      <th>knn=8_dist</th>\n",
       "      <th>knn=9_dist</th>\n",
       "      <th>knn=10_dist</th>\n",
       "      <th>...</th>\n",
       "      <th>knn=191_dist</th>\n",
       "      <th>knn=192_dist</th>\n",
       "      <th>knn=193_dist</th>\n",
       "      <th>knn=194_dist</th>\n",
       "      <th>knn=195_dist</th>\n",
       "      <th>knn=196_dist</th>\n",
       "      <th>knn=197_dist</th>\n",
       "      <th>knn=198_dist</th>\n",
       "      <th>knn=199_dist</th>\n",
       "      <th>knn=200_dist</th>\n",
       "    </tr>\n",
       "    <tr>\n",
       "      <th>sid</th>\n",
       "      <th></th>\n",
       "      <th></th>\n",
       "      <th></th>\n",
       "      <th></th>\n",
       "      <th></th>\n",
       "      <th></th>\n",
       "      <th></th>\n",
       "      <th></th>\n",
       "      <th></th>\n",
       "      <th></th>\n",
       "      <th></th>\n",
       "      <th></th>\n",
       "      <th></th>\n",
       "      <th></th>\n",
       "      <th></th>\n",
       "      <th></th>\n",
       "      <th></th>\n",
       "      <th></th>\n",
       "      <th></th>\n",
       "      <th></th>\n",
       "      <th></th>\n",
       "    </tr>\n",
       "  </thead>\n",
       "  <tbody>\n",
       "    <tr>\n",
       "      <th>821107100005285</th>\n",
       "      <td>0.021654</td>\n",
       "      <td>7.970746</td>\n",
       "      <td>8.175978</td>\n",
       "      <td>8.29515</td>\n",
       "      <td>8.330584</td>\n",
       "      <td>8.632303</td>\n",
       "      <td>9.149251</td>\n",
       "      <td>9.272597</td>\n",
       "      <td>9.502597</td>\n",
       "      <td>9.611685</td>\n",
       "      <td>...</td>\n",
       "      <td>13.502166</td>\n",
       "      <td>13.52317</td>\n",
       "      <td>13.524829</td>\n",
       "      <td>13.530399</td>\n",
       "      <td>13.531816</td>\n",
       "      <td>13.534004</td>\n",
       "      <td>13.536636</td>\n",
       "      <td>13.559938</td>\n",
       "      <td>13.560165</td>\n",
       "      <td>13.563705</td>\n",
       "    </tr>\n",
       "  </tbody>\n",
       "</table>\n",
       "<p>1 rows × 200 columns</p>\n",
       "</div>"
      ],
      "text/plain": [
       "                 knn=1_dist  knn=2_dist  knn=3_dist  knn=4_dist  knn=5_dist  \\\n",
       "sid                                                                           \n",
       "821107100005285    0.021654    7.970746    8.175978     8.29515    8.330584   \n",
       "\n",
       "                 knn=6_dist  knn=7_dist  knn=8_dist  knn=9_dist  knn=10_dist  \\\n",
       "sid                                                                            \n",
       "821107100005285    8.632303    9.149251    9.272597    9.502597     9.611685   \n",
       "\n",
       "                 ...  knn=191_dist  knn=192_dist  knn=193_dist  knn=194_dist  \\\n",
       "sid              ...                                                           \n",
       "821107100005285  ...     13.502166      13.52317     13.524829     13.530399   \n",
       "\n",
       "                 knn=195_dist  knn=196_dist  knn=197_dist  knn=198_dist  \\\n",
       "sid                                                                       \n",
       "821107100005285     13.531816     13.534004     13.536636     13.559938   \n",
       "\n",
       "                 knn=199_dist  knn=200_dist  \n",
       "sid                                          \n",
       "821107100005285     13.560165     13.563705  \n",
       "\n",
       "[1 rows x 200 columns]"
      ]
     },
     "execution_count": 15,
     "metadata": {},
     "output_type": "execute_result"
    }
   ],
   "source": [
    "#kdtree_dist_df.to_csv(\"./dataframes/pca_15pcs_orig_kdtree_dist_df.csv.gzip\", compression='gzip')\n",
    "kdtree_dist_df"
   ]
  },
  {
   "cell_type": "code",
   "execution_count": 16,
   "metadata": {},
   "outputs": [
    {
     "name": "stdout",
     "output_type": "stream",
     "text": [
      "Total real objects matched: 200\n",
      "Total real UNIQUE objects matched: 200\n",
      "[443116100000521 536107100007124 545114100008154 578101400000953\n",
      " 582109100008627 587101300021768 587103400035771 587105200023971\n",
      " 587106400017817 587106400020085 587110200030917 587111200031270\n",
      " 587112100025293 587114300001085 594109100004321 625101400029189\n",
      " 626107400004433 632209400014771 633104100005749 633105400014971\n",
      " 633106200025605 633108300023697 633109100025896 633111400007672\n",
      " 633113400015478 634108100005436 634110300013002 635104300022736\n",
      " 635105200019309 635105300019099 635106300013599 635111400000448\n",
      " 636103300014529 636104100033344 636113400034409 643113300004423\n",
      " 646113200001492 667113400000692 668106100003131 672115100001897\n",
      " 672115200000744 673103100001638 673103400002781 673107200003416\n",
      " 676102100009347 676102300004634 676102400000856 676104100007808\n",
      " 676108200017280 677101100002183 677103200002903 679114300023795\n",
      " 681101100015804 681101400016361 681106200027577 681106400000714\n",
      " 682101200013786 682102400023984 682113300013408 683102400038498\n",
      " 683106100033432 683111100031930 683115100011812 684115200018744\n",
      " 691102400004244 692114400005111 694107400004679 694108200003470\n",
      " 711105100000145 711109400000771 714104100002446 715114300005275\n",
      " 716103200003136 716106200013040 716107200000408 716109300004859\n",
      " 716114100002228 717103300005320 717105400003201 717114300007004\n",
      " 718101100007827 718102400005198 718105300009655 718108100000271\n",
      " 718108300004739 719104300014084 719116100008276 720108400000417\n",
      " 720109100022221 721105100002309 721106200008343 721106300009409\n",
      " 721107400003828 722106200028006 723102100006159 723104300027389\n",
      " 724101100027872 724108400016180 725106100010000 725107200021709\n",
      " 725108400013631 725108400026110 725108400027791 725110200018216\n",
      " 725116100002465 726101100030970 726102400025028 726102400026107\n",
      " 726111400018915 726111400020760 734103200006995 746102200002564\n",
      " 747115300006302 752113100002574 753116100003683 754109300001159\n",
      " 754114200001419 756102100004031 756102100017486 756102400000723\n",
      " 757101300009856 757104100013459 757106200008371 757106400019857\n",
      " 759101100003674 760106300010760 760112400004567 762113400021026\n",
      " 763102400026763 763106100000082 763108100005990 764101200013201\n",
      " 764104400008193 764107400027472 765101400037993 765101400038908\n",
      " 765103400013098 765103400023904 765112400020672 765116400008586\n",
      " 766104300023414 783109400002438 788104300011271 788105100004444\n",
      " 789114400008943 793103100000302 793105100016413 793110300009093\n",
      " 793114300001267 793115200011943 794102100004901 794105300002705\n",
      " 794106200011192 794108100007532 794108200005886 796115400006189\n",
      " 796309100016931 797105300030427 797205400001217 798101400000531\n",
      " 798106300034517 799102200007344 799104200025318 799107200022055\n",
      " 799110400027285 799111400025654 799115100000654 813105100004493\n",
      " 813111400009867 817103100001382 817105200003576 818108400001165\n",
      " 819111400003349 820101100001969 820110400000260 821102400025130\n",
      " 821107100005285 821115300012972 822101200002926 823101400006642\n",
      " 823106400007532 827105400011160 827106300032461 828103200022523\n",
      " 828107200034609 828113100009058 841109300002560 843107300001967\n",
      " 843110100000083 843110200002130 843111200004238 844109200003006\n",
      " 844110200002092 845107400004506 847107200018080 848111300000893\n",
      " 849102200015533 861109300000431 863111400001088 865116100005870]\n"
     ]
    }
   ],
   "source": [
    "# Total real objects matched\n",
    "print(\"Total real objects matched:\", len(np.hstack(kdtree_results_df.values)))\n",
    "\n",
    "# Of above, total UNIQUE real objects matched\n",
    "print(\"Total real UNIQUE objects matched:\", len(np.unique(np.hstack(kdtree_results_df.values))))\n",
    "print(np.unique(np.hstack(kdtree_results_df.values)))"
   ]
  },
  {
   "cell_type": "markdown",
   "metadata": {},
   "source": [
    "# Visually inspect matched OIDs"
   ]
  },
  {
   "cell_type": "code",
   "execution_count": 17,
   "metadata": {},
   "outputs": [
    {
     "data": {
      "text/markdown": [
       "https://ztf.snad.space/view/443116100000521"
      ]
     },
     "metadata": {},
     "output_type": "display_data"
    },
    {
     "data": {
      "text/markdown": [
       "https://ztf.snad.space/view/536107100007124"
      ]
     },
     "metadata": {},
     "output_type": "display_data"
    },
    {
     "data": {
      "text/markdown": [
       "https://ztf.snad.space/view/545114100008154"
      ]
     },
     "metadata": {},
     "output_type": "display_data"
    },
    {
     "data": {
      "text/markdown": [
       "https://ztf.snad.space/view/578101400000953"
      ]
     },
     "metadata": {},
     "output_type": "display_data"
    },
    {
     "data": {
      "text/markdown": [
       "https://ztf.snad.space/view/582109100008627"
      ]
     },
     "metadata": {},
     "output_type": "display_data"
    },
    {
     "data": {
      "text/markdown": [
       "https://ztf.snad.space/view/587101300021768"
      ]
     },
     "metadata": {},
     "output_type": "display_data"
    },
    {
     "data": {
      "text/markdown": [
       "https://ztf.snad.space/view/587103400035771"
      ]
     },
     "metadata": {},
     "output_type": "display_data"
    },
    {
     "data": {
      "text/markdown": [
       "https://ztf.snad.space/view/587105200023971"
      ]
     },
     "metadata": {},
     "output_type": "display_data"
    },
    {
     "data": {
      "text/markdown": [
       "https://ztf.snad.space/view/587106400017817"
      ]
     },
     "metadata": {},
     "output_type": "display_data"
    },
    {
     "data": {
      "text/markdown": [
       "https://ztf.snad.space/view/587106400020085"
      ]
     },
     "metadata": {},
     "output_type": "display_data"
    },
    {
     "data": {
      "text/markdown": [
       "https://ztf.snad.space/view/587110200030917"
      ]
     },
     "metadata": {},
     "output_type": "display_data"
    },
    {
     "data": {
      "text/markdown": [
       "https://ztf.snad.space/view/587111200031270"
      ]
     },
     "metadata": {},
     "output_type": "display_data"
    },
    {
     "data": {
      "text/markdown": [
       "https://ztf.snad.space/view/587112100025293"
      ]
     },
     "metadata": {},
     "output_type": "display_data"
    },
    {
     "data": {
      "text/markdown": [
       "https://ztf.snad.space/view/587114300001085"
      ]
     },
     "metadata": {},
     "output_type": "display_data"
    },
    {
     "data": {
      "text/markdown": [
       "https://ztf.snad.space/view/594109100004321"
      ]
     },
     "metadata": {},
     "output_type": "display_data"
    },
    {
     "data": {
      "text/markdown": [
       "https://ztf.snad.space/view/625101400029189"
      ]
     },
     "metadata": {},
     "output_type": "display_data"
    },
    {
     "data": {
      "text/markdown": [
       "https://ztf.snad.space/view/626107400004433"
      ]
     },
     "metadata": {},
     "output_type": "display_data"
    },
    {
     "data": {
      "text/markdown": [
       "https://ztf.snad.space/view/632209400014771"
      ]
     },
     "metadata": {},
     "output_type": "display_data"
    },
    {
     "data": {
      "text/markdown": [
       "https://ztf.snad.space/view/633104100005749"
      ]
     },
     "metadata": {},
     "output_type": "display_data"
    },
    {
     "data": {
      "text/markdown": [
       "https://ztf.snad.space/view/633105400014971"
      ]
     },
     "metadata": {},
     "output_type": "display_data"
    },
    {
     "data": {
      "text/markdown": [
       "https://ztf.snad.space/view/633106200025605"
      ]
     },
     "metadata": {},
     "output_type": "display_data"
    },
    {
     "data": {
      "text/markdown": [
       "https://ztf.snad.space/view/633108300023697"
      ]
     },
     "metadata": {},
     "output_type": "display_data"
    },
    {
     "data": {
      "text/markdown": [
       "https://ztf.snad.space/view/633109100025896"
      ]
     },
     "metadata": {},
     "output_type": "display_data"
    },
    {
     "data": {
      "text/markdown": [
       "https://ztf.snad.space/view/633111400007672"
      ]
     },
     "metadata": {},
     "output_type": "display_data"
    },
    {
     "data": {
      "text/markdown": [
       "https://ztf.snad.space/view/633113400015478"
      ]
     },
     "metadata": {},
     "output_type": "display_data"
    },
    {
     "data": {
      "text/markdown": [
       "https://ztf.snad.space/view/634108100005436"
      ]
     },
     "metadata": {},
     "output_type": "display_data"
    },
    {
     "data": {
      "text/markdown": [
       "https://ztf.snad.space/view/634110300013002"
      ]
     },
     "metadata": {},
     "output_type": "display_data"
    },
    {
     "data": {
      "text/markdown": [
       "https://ztf.snad.space/view/635104300022736"
      ]
     },
     "metadata": {},
     "output_type": "display_data"
    },
    {
     "data": {
      "text/markdown": [
       "https://ztf.snad.space/view/635105200019309"
      ]
     },
     "metadata": {},
     "output_type": "display_data"
    },
    {
     "data": {
      "text/markdown": [
       "https://ztf.snad.space/view/635105300019099"
      ]
     },
     "metadata": {},
     "output_type": "display_data"
    },
    {
     "data": {
      "text/markdown": [
       "https://ztf.snad.space/view/635106300013599"
      ]
     },
     "metadata": {},
     "output_type": "display_data"
    },
    {
     "data": {
      "text/markdown": [
       "https://ztf.snad.space/view/635111400000448"
      ]
     },
     "metadata": {},
     "output_type": "display_data"
    },
    {
     "data": {
      "text/markdown": [
       "https://ztf.snad.space/view/636103300014529"
      ]
     },
     "metadata": {},
     "output_type": "display_data"
    },
    {
     "data": {
      "text/markdown": [
       "https://ztf.snad.space/view/636104100033344"
      ]
     },
     "metadata": {},
     "output_type": "display_data"
    },
    {
     "data": {
      "text/markdown": [
       "https://ztf.snad.space/view/636113400034409"
      ]
     },
     "metadata": {},
     "output_type": "display_data"
    },
    {
     "data": {
      "text/markdown": [
       "https://ztf.snad.space/view/643113300004423"
      ]
     },
     "metadata": {},
     "output_type": "display_data"
    },
    {
     "data": {
      "text/markdown": [
       "https://ztf.snad.space/view/646113200001492"
      ]
     },
     "metadata": {},
     "output_type": "display_data"
    },
    {
     "data": {
      "text/markdown": [
       "https://ztf.snad.space/view/667113400000692"
      ]
     },
     "metadata": {},
     "output_type": "display_data"
    },
    {
     "data": {
      "text/markdown": [
       "https://ztf.snad.space/view/668106100003131"
      ]
     },
     "metadata": {},
     "output_type": "display_data"
    },
    {
     "data": {
      "text/markdown": [
       "https://ztf.snad.space/view/672115100001897"
      ]
     },
     "metadata": {},
     "output_type": "display_data"
    },
    {
     "data": {
      "text/markdown": [
       "https://ztf.snad.space/view/672115200000744"
      ]
     },
     "metadata": {},
     "output_type": "display_data"
    },
    {
     "data": {
      "text/markdown": [
       "https://ztf.snad.space/view/673103100001638"
      ]
     },
     "metadata": {},
     "output_type": "display_data"
    },
    {
     "data": {
      "text/markdown": [
       "https://ztf.snad.space/view/673103400002781"
      ]
     },
     "metadata": {},
     "output_type": "display_data"
    },
    {
     "data": {
      "text/markdown": [
       "https://ztf.snad.space/view/673107200003416"
      ]
     },
     "metadata": {},
     "output_type": "display_data"
    },
    {
     "data": {
      "text/markdown": [
       "https://ztf.snad.space/view/676102100009347"
      ]
     },
     "metadata": {},
     "output_type": "display_data"
    },
    {
     "data": {
      "text/markdown": [
       "https://ztf.snad.space/view/676102300004634"
      ]
     },
     "metadata": {},
     "output_type": "display_data"
    },
    {
     "data": {
      "text/markdown": [
       "https://ztf.snad.space/view/676102400000856"
      ]
     },
     "metadata": {},
     "output_type": "display_data"
    },
    {
     "data": {
      "text/markdown": [
       "https://ztf.snad.space/view/676104100007808"
      ]
     },
     "metadata": {},
     "output_type": "display_data"
    },
    {
     "data": {
      "text/markdown": [
       "https://ztf.snad.space/view/676108200017280"
      ]
     },
     "metadata": {},
     "output_type": "display_data"
    },
    {
     "data": {
      "text/markdown": [
       "https://ztf.snad.space/view/677101100002183"
      ]
     },
     "metadata": {},
     "output_type": "display_data"
    },
    {
     "data": {
      "text/markdown": [
       "https://ztf.snad.space/view/677103200002903"
      ]
     },
     "metadata": {},
     "output_type": "display_data"
    },
    {
     "data": {
      "text/markdown": [
       "https://ztf.snad.space/view/679114300023795"
      ]
     },
     "metadata": {},
     "output_type": "display_data"
    },
    {
     "data": {
      "text/markdown": [
       "https://ztf.snad.space/view/681101100015804"
      ]
     },
     "metadata": {},
     "output_type": "display_data"
    },
    {
     "data": {
      "text/markdown": [
       "https://ztf.snad.space/view/681101400016361"
      ]
     },
     "metadata": {},
     "output_type": "display_data"
    },
    {
     "data": {
      "text/markdown": [
       "https://ztf.snad.space/view/681106200027577"
      ]
     },
     "metadata": {},
     "output_type": "display_data"
    },
    {
     "data": {
      "text/markdown": [
       "https://ztf.snad.space/view/681106400000714"
      ]
     },
     "metadata": {},
     "output_type": "display_data"
    },
    {
     "data": {
      "text/markdown": [
       "https://ztf.snad.space/view/682101200013786"
      ]
     },
     "metadata": {},
     "output_type": "display_data"
    },
    {
     "data": {
      "text/markdown": [
       "https://ztf.snad.space/view/682102400023984"
      ]
     },
     "metadata": {},
     "output_type": "display_data"
    },
    {
     "data": {
      "text/markdown": [
       "https://ztf.snad.space/view/682113300013408"
      ]
     },
     "metadata": {},
     "output_type": "display_data"
    },
    {
     "data": {
      "text/markdown": [
       "https://ztf.snad.space/view/683102400038498"
      ]
     },
     "metadata": {},
     "output_type": "display_data"
    },
    {
     "data": {
      "text/markdown": [
       "https://ztf.snad.space/view/683106100033432"
      ]
     },
     "metadata": {},
     "output_type": "display_data"
    },
    {
     "data": {
      "text/markdown": [
       "https://ztf.snad.space/view/683111100031930"
      ]
     },
     "metadata": {},
     "output_type": "display_data"
    },
    {
     "data": {
      "text/markdown": [
       "https://ztf.snad.space/view/683115100011812"
      ]
     },
     "metadata": {},
     "output_type": "display_data"
    },
    {
     "data": {
      "text/markdown": [
       "https://ztf.snad.space/view/684115200018744"
      ]
     },
     "metadata": {},
     "output_type": "display_data"
    },
    {
     "data": {
      "text/markdown": [
       "https://ztf.snad.space/view/691102400004244"
      ]
     },
     "metadata": {},
     "output_type": "display_data"
    },
    {
     "data": {
      "text/markdown": [
       "https://ztf.snad.space/view/692114400005111"
      ]
     },
     "metadata": {},
     "output_type": "display_data"
    },
    {
     "data": {
      "text/markdown": [
       "https://ztf.snad.space/view/694107400004679"
      ]
     },
     "metadata": {},
     "output_type": "display_data"
    },
    {
     "data": {
      "text/markdown": [
       "https://ztf.snad.space/view/694108200003470"
      ]
     },
     "metadata": {},
     "output_type": "display_data"
    },
    {
     "data": {
      "text/markdown": [
       "https://ztf.snad.space/view/711105100000145"
      ]
     },
     "metadata": {},
     "output_type": "display_data"
    },
    {
     "data": {
      "text/markdown": [
       "https://ztf.snad.space/view/711109400000771"
      ]
     },
     "metadata": {},
     "output_type": "display_data"
    },
    {
     "data": {
      "text/markdown": [
       "https://ztf.snad.space/view/714104100002446"
      ]
     },
     "metadata": {},
     "output_type": "display_data"
    },
    {
     "data": {
      "text/markdown": [
       "https://ztf.snad.space/view/715114300005275"
      ]
     },
     "metadata": {},
     "output_type": "display_data"
    },
    {
     "data": {
      "text/markdown": [
       "https://ztf.snad.space/view/716103200003136"
      ]
     },
     "metadata": {},
     "output_type": "display_data"
    },
    {
     "data": {
      "text/markdown": [
       "https://ztf.snad.space/view/716106200013040"
      ]
     },
     "metadata": {},
     "output_type": "display_data"
    },
    {
     "data": {
      "text/markdown": [
       "https://ztf.snad.space/view/716107200000408"
      ]
     },
     "metadata": {},
     "output_type": "display_data"
    },
    {
     "data": {
      "text/markdown": [
       "https://ztf.snad.space/view/716109300004859"
      ]
     },
     "metadata": {},
     "output_type": "display_data"
    },
    {
     "data": {
      "text/markdown": [
       "https://ztf.snad.space/view/716114100002228"
      ]
     },
     "metadata": {},
     "output_type": "display_data"
    },
    {
     "data": {
      "text/markdown": [
       "https://ztf.snad.space/view/717103300005320"
      ]
     },
     "metadata": {},
     "output_type": "display_data"
    },
    {
     "data": {
      "text/markdown": [
       "https://ztf.snad.space/view/717105400003201"
      ]
     },
     "metadata": {},
     "output_type": "display_data"
    },
    {
     "data": {
      "text/markdown": [
       "https://ztf.snad.space/view/717114300007004"
      ]
     },
     "metadata": {},
     "output_type": "display_data"
    },
    {
     "data": {
      "text/markdown": [
       "https://ztf.snad.space/view/718101100007827"
      ]
     },
     "metadata": {},
     "output_type": "display_data"
    },
    {
     "data": {
      "text/markdown": [
       "https://ztf.snad.space/view/718102400005198"
      ]
     },
     "metadata": {},
     "output_type": "display_data"
    },
    {
     "data": {
      "text/markdown": [
       "https://ztf.snad.space/view/718105300009655"
      ]
     },
     "metadata": {},
     "output_type": "display_data"
    },
    {
     "data": {
      "text/markdown": [
       "https://ztf.snad.space/view/718108100000271"
      ]
     },
     "metadata": {},
     "output_type": "display_data"
    },
    {
     "data": {
      "text/markdown": [
       "https://ztf.snad.space/view/718108300004739"
      ]
     },
     "metadata": {},
     "output_type": "display_data"
    },
    {
     "data": {
      "text/markdown": [
       "https://ztf.snad.space/view/719104300014084"
      ]
     },
     "metadata": {},
     "output_type": "display_data"
    },
    {
     "data": {
      "text/markdown": [
       "https://ztf.snad.space/view/719116100008276"
      ]
     },
     "metadata": {},
     "output_type": "display_data"
    },
    {
     "data": {
      "text/markdown": [
       "https://ztf.snad.space/view/720108400000417"
      ]
     },
     "metadata": {},
     "output_type": "display_data"
    },
    {
     "data": {
      "text/markdown": [
       "https://ztf.snad.space/view/720109100022221"
      ]
     },
     "metadata": {},
     "output_type": "display_data"
    },
    {
     "data": {
      "text/markdown": [
       "https://ztf.snad.space/view/721105100002309"
      ]
     },
     "metadata": {},
     "output_type": "display_data"
    },
    {
     "data": {
      "text/markdown": [
       "https://ztf.snad.space/view/721106200008343"
      ]
     },
     "metadata": {},
     "output_type": "display_data"
    },
    {
     "data": {
      "text/markdown": [
       "https://ztf.snad.space/view/721106300009409"
      ]
     },
     "metadata": {},
     "output_type": "display_data"
    },
    {
     "data": {
      "text/markdown": [
       "https://ztf.snad.space/view/721107400003828"
      ]
     },
     "metadata": {},
     "output_type": "display_data"
    },
    {
     "data": {
      "text/markdown": [
       "https://ztf.snad.space/view/722106200028006"
      ]
     },
     "metadata": {},
     "output_type": "display_data"
    },
    {
     "data": {
      "text/markdown": [
       "https://ztf.snad.space/view/723102100006159"
      ]
     },
     "metadata": {},
     "output_type": "display_data"
    },
    {
     "data": {
      "text/markdown": [
       "https://ztf.snad.space/view/723104300027389"
      ]
     },
     "metadata": {},
     "output_type": "display_data"
    },
    {
     "data": {
      "text/markdown": [
       "https://ztf.snad.space/view/724101100027872"
      ]
     },
     "metadata": {},
     "output_type": "display_data"
    },
    {
     "data": {
      "text/markdown": [
       "https://ztf.snad.space/view/724108400016180"
      ]
     },
     "metadata": {},
     "output_type": "display_data"
    },
    {
     "data": {
      "text/markdown": [
       "https://ztf.snad.space/view/725106100010000"
      ]
     },
     "metadata": {},
     "output_type": "display_data"
    },
    {
     "data": {
      "text/markdown": [
       "https://ztf.snad.space/view/725107200021709"
      ]
     },
     "metadata": {},
     "output_type": "display_data"
    },
    {
     "data": {
      "text/markdown": [
       "https://ztf.snad.space/view/725108400013631"
      ]
     },
     "metadata": {},
     "output_type": "display_data"
    },
    {
     "data": {
      "text/markdown": [
       "https://ztf.snad.space/view/725108400026110"
      ]
     },
     "metadata": {},
     "output_type": "display_data"
    },
    {
     "data": {
      "text/markdown": [
       "https://ztf.snad.space/view/725108400027791"
      ]
     },
     "metadata": {},
     "output_type": "display_data"
    },
    {
     "data": {
      "text/markdown": [
       "https://ztf.snad.space/view/725110200018216"
      ]
     },
     "metadata": {},
     "output_type": "display_data"
    },
    {
     "data": {
      "text/markdown": [
       "https://ztf.snad.space/view/725116100002465"
      ]
     },
     "metadata": {},
     "output_type": "display_data"
    },
    {
     "data": {
      "text/markdown": [
       "https://ztf.snad.space/view/726101100030970"
      ]
     },
     "metadata": {},
     "output_type": "display_data"
    },
    {
     "data": {
      "text/markdown": [
       "https://ztf.snad.space/view/726102400025028"
      ]
     },
     "metadata": {},
     "output_type": "display_data"
    },
    {
     "data": {
      "text/markdown": [
       "https://ztf.snad.space/view/726102400026107"
      ]
     },
     "metadata": {},
     "output_type": "display_data"
    },
    {
     "data": {
      "text/markdown": [
       "https://ztf.snad.space/view/726111400018915"
      ]
     },
     "metadata": {},
     "output_type": "display_data"
    },
    {
     "data": {
      "text/markdown": [
       "https://ztf.snad.space/view/726111400020760"
      ]
     },
     "metadata": {},
     "output_type": "display_data"
    },
    {
     "data": {
      "text/markdown": [
       "https://ztf.snad.space/view/734103200006995"
      ]
     },
     "metadata": {},
     "output_type": "display_data"
    },
    {
     "data": {
      "text/markdown": [
       "https://ztf.snad.space/view/746102200002564"
      ]
     },
     "metadata": {},
     "output_type": "display_data"
    },
    {
     "data": {
      "text/markdown": [
       "https://ztf.snad.space/view/747115300006302"
      ]
     },
     "metadata": {},
     "output_type": "display_data"
    },
    {
     "data": {
      "text/markdown": [
       "https://ztf.snad.space/view/752113100002574"
      ]
     },
     "metadata": {},
     "output_type": "display_data"
    },
    {
     "data": {
      "text/markdown": [
       "https://ztf.snad.space/view/753116100003683"
      ]
     },
     "metadata": {},
     "output_type": "display_data"
    },
    {
     "data": {
      "text/markdown": [
       "https://ztf.snad.space/view/754109300001159"
      ]
     },
     "metadata": {},
     "output_type": "display_data"
    },
    {
     "data": {
      "text/markdown": [
       "https://ztf.snad.space/view/754114200001419"
      ]
     },
     "metadata": {},
     "output_type": "display_data"
    },
    {
     "data": {
      "text/markdown": [
       "https://ztf.snad.space/view/756102100004031"
      ]
     },
     "metadata": {},
     "output_type": "display_data"
    },
    {
     "data": {
      "text/markdown": [
       "https://ztf.snad.space/view/756102100017486"
      ]
     },
     "metadata": {},
     "output_type": "display_data"
    },
    {
     "data": {
      "text/markdown": [
       "https://ztf.snad.space/view/756102400000723"
      ]
     },
     "metadata": {},
     "output_type": "display_data"
    },
    {
     "data": {
      "text/markdown": [
       "https://ztf.snad.space/view/757101300009856"
      ]
     },
     "metadata": {},
     "output_type": "display_data"
    },
    {
     "data": {
      "text/markdown": [
       "https://ztf.snad.space/view/757104100013459"
      ]
     },
     "metadata": {},
     "output_type": "display_data"
    },
    {
     "data": {
      "text/markdown": [
       "https://ztf.snad.space/view/757106200008371"
      ]
     },
     "metadata": {},
     "output_type": "display_data"
    },
    {
     "data": {
      "text/markdown": [
       "https://ztf.snad.space/view/757106400019857"
      ]
     },
     "metadata": {},
     "output_type": "display_data"
    },
    {
     "data": {
      "text/markdown": [
       "https://ztf.snad.space/view/759101100003674"
      ]
     },
     "metadata": {},
     "output_type": "display_data"
    },
    {
     "data": {
      "text/markdown": [
       "https://ztf.snad.space/view/760106300010760"
      ]
     },
     "metadata": {},
     "output_type": "display_data"
    },
    {
     "data": {
      "text/markdown": [
       "https://ztf.snad.space/view/760112400004567"
      ]
     },
     "metadata": {},
     "output_type": "display_data"
    },
    {
     "data": {
      "text/markdown": [
       "https://ztf.snad.space/view/762113400021026"
      ]
     },
     "metadata": {},
     "output_type": "display_data"
    },
    {
     "data": {
      "text/markdown": [
       "https://ztf.snad.space/view/763102400026763"
      ]
     },
     "metadata": {},
     "output_type": "display_data"
    },
    {
     "data": {
      "text/markdown": [
       "https://ztf.snad.space/view/763106100000082"
      ]
     },
     "metadata": {},
     "output_type": "display_data"
    },
    {
     "data": {
      "text/markdown": [
       "https://ztf.snad.space/view/763108100005990"
      ]
     },
     "metadata": {},
     "output_type": "display_data"
    },
    {
     "data": {
      "text/markdown": [
       "https://ztf.snad.space/view/764101200013201"
      ]
     },
     "metadata": {},
     "output_type": "display_data"
    },
    {
     "data": {
      "text/markdown": [
       "https://ztf.snad.space/view/764104400008193"
      ]
     },
     "metadata": {},
     "output_type": "display_data"
    },
    {
     "data": {
      "text/markdown": [
       "https://ztf.snad.space/view/764107400027472"
      ]
     },
     "metadata": {},
     "output_type": "display_data"
    },
    {
     "data": {
      "text/markdown": [
       "https://ztf.snad.space/view/765101400037993"
      ]
     },
     "metadata": {},
     "output_type": "display_data"
    },
    {
     "data": {
      "text/markdown": [
       "https://ztf.snad.space/view/765101400038908"
      ]
     },
     "metadata": {},
     "output_type": "display_data"
    },
    {
     "data": {
      "text/markdown": [
       "https://ztf.snad.space/view/765103400013098"
      ]
     },
     "metadata": {},
     "output_type": "display_data"
    },
    {
     "data": {
      "text/markdown": [
       "https://ztf.snad.space/view/765103400023904"
      ]
     },
     "metadata": {},
     "output_type": "display_data"
    },
    {
     "data": {
      "text/markdown": [
       "https://ztf.snad.space/view/765112400020672"
      ]
     },
     "metadata": {},
     "output_type": "display_data"
    },
    {
     "data": {
      "text/markdown": [
       "https://ztf.snad.space/view/765116400008586"
      ]
     },
     "metadata": {},
     "output_type": "display_data"
    },
    {
     "data": {
      "text/markdown": [
       "https://ztf.snad.space/view/766104300023414"
      ]
     },
     "metadata": {},
     "output_type": "display_data"
    },
    {
     "data": {
      "text/markdown": [
       "https://ztf.snad.space/view/783109400002438"
      ]
     },
     "metadata": {},
     "output_type": "display_data"
    },
    {
     "data": {
      "text/markdown": [
       "https://ztf.snad.space/view/788104300011271"
      ]
     },
     "metadata": {},
     "output_type": "display_data"
    },
    {
     "data": {
      "text/markdown": [
       "https://ztf.snad.space/view/788105100004444"
      ]
     },
     "metadata": {},
     "output_type": "display_data"
    },
    {
     "data": {
      "text/markdown": [
       "https://ztf.snad.space/view/789114400008943"
      ]
     },
     "metadata": {},
     "output_type": "display_data"
    },
    {
     "data": {
      "text/markdown": [
       "https://ztf.snad.space/view/793103100000302"
      ]
     },
     "metadata": {},
     "output_type": "display_data"
    },
    {
     "data": {
      "text/markdown": [
       "https://ztf.snad.space/view/793105100016413"
      ]
     },
     "metadata": {},
     "output_type": "display_data"
    },
    {
     "data": {
      "text/markdown": [
       "https://ztf.snad.space/view/793110300009093"
      ]
     },
     "metadata": {},
     "output_type": "display_data"
    },
    {
     "data": {
      "text/markdown": [
       "https://ztf.snad.space/view/793114300001267"
      ]
     },
     "metadata": {},
     "output_type": "display_data"
    },
    {
     "data": {
      "text/markdown": [
       "https://ztf.snad.space/view/793115200011943"
      ]
     },
     "metadata": {},
     "output_type": "display_data"
    },
    {
     "data": {
      "text/markdown": [
       "https://ztf.snad.space/view/794102100004901"
      ]
     },
     "metadata": {},
     "output_type": "display_data"
    },
    {
     "data": {
      "text/markdown": [
       "https://ztf.snad.space/view/794105300002705"
      ]
     },
     "metadata": {},
     "output_type": "display_data"
    },
    {
     "data": {
      "text/markdown": [
       "https://ztf.snad.space/view/794106200011192"
      ]
     },
     "metadata": {},
     "output_type": "display_data"
    },
    {
     "data": {
      "text/markdown": [
       "https://ztf.snad.space/view/794108100007532"
      ]
     },
     "metadata": {},
     "output_type": "display_data"
    },
    {
     "data": {
      "text/markdown": [
       "https://ztf.snad.space/view/794108200005886"
      ]
     },
     "metadata": {},
     "output_type": "display_data"
    },
    {
     "data": {
      "text/markdown": [
       "https://ztf.snad.space/view/796115400006189"
      ]
     },
     "metadata": {},
     "output_type": "display_data"
    },
    {
     "data": {
      "text/markdown": [
       "https://ztf.snad.space/view/796309100016931"
      ]
     },
     "metadata": {},
     "output_type": "display_data"
    },
    {
     "data": {
      "text/markdown": [
       "https://ztf.snad.space/view/797105300030427"
      ]
     },
     "metadata": {},
     "output_type": "display_data"
    },
    {
     "data": {
      "text/markdown": [
       "https://ztf.snad.space/view/797205400001217"
      ]
     },
     "metadata": {},
     "output_type": "display_data"
    },
    {
     "data": {
      "text/markdown": [
       "https://ztf.snad.space/view/798101400000531"
      ]
     },
     "metadata": {},
     "output_type": "display_data"
    },
    {
     "data": {
      "text/markdown": [
       "https://ztf.snad.space/view/798106300034517"
      ]
     },
     "metadata": {},
     "output_type": "display_data"
    },
    {
     "data": {
      "text/markdown": [
       "https://ztf.snad.space/view/799102200007344"
      ]
     },
     "metadata": {},
     "output_type": "display_data"
    },
    {
     "data": {
      "text/markdown": [
       "https://ztf.snad.space/view/799104200025318"
      ]
     },
     "metadata": {},
     "output_type": "display_data"
    },
    {
     "data": {
      "text/markdown": [
       "https://ztf.snad.space/view/799107200022055"
      ]
     },
     "metadata": {},
     "output_type": "display_data"
    },
    {
     "data": {
      "text/markdown": [
       "https://ztf.snad.space/view/799110400027285"
      ]
     },
     "metadata": {},
     "output_type": "display_data"
    },
    {
     "data": {
      "text/markdown": [
       "https://ztf.snad.space/view/799111400025654"
      ]
     },
     "metadata": {},
     "output_type": "display_data"
    },
    {
     "data": {
      "text/markdown": [
       "https://ztf.snad.space/view/799115100000654"
      ]
     },
     "metadata": {},
     "output_type": "display_data"
    },
    {
     "data": {
      "text/markdown": [
       "https://ztf.snad.space/view/813105100004493"
      ]
     },
     "metadata": {},
     "output_type": "display_data"
    },
    {
     "data": {
      "text/markdown": [
       "https://ztf.snad.space/view/813111400009867"
      ]
     },
     "metadata": {},
     "output_type": "display_data"
    },
    {
     "data": {
      "text/markdown": [
       "https://ztf.snad.space/view/817103100001382"
      ]
     },
     "metadata": {},
     "output_type": "display_data"
    },
    {
     "data": {
      "text/markdown": [
       "https://ztf.snad.space/view/817105200003576"
      ]
     },
     "metadata": {},
     "output_type": "display_data"
    },
    {
     "data": {
      "text/markdown": [
       "https://ztf.snad.space/view/818108400001165"
      ]
     },
     "metadata": {},
     "output_type": "display_data"
    },
    {
     "data": {
      "text/markdown": [
       "https://ztf.snad.space/view/819111400003349"
      ]
     },
     "metadata": {},
     "output_type": "display_data"
    },
    {
     "data": {
      "text/markdown": [
       "https://ztf.snad.space/view/820101100001969"
      ]
     },
     "metadata": {},
     "output_type": "display_data"
    },
    {
     "data": {
      "text/markdown": [
       "https://ztf.snad.space/view/820110400000260"
      ]
     },
     "metadata": {},
     "output_type": "display_data"
    },
    {
     "data": {
      "text/markdown": [
       "https://ztf.snad.space/view/821102400025130"
      ]
     },
     "metadata": {},
     "output_type": "display_data"
    },
    {
     "data": {
      "text/markdown": [
       "https://ztf.snad.space/view/821107100005285"
      ]
     },
     "metadata": {},
     "output_type": "display_data"
    },
    {
     "data": {
      "text/markdown": [
       "https://ztf.snad.space/view/821115300012972"
      ]
     },
     "metadata": {},
     "output_type": "display_data"
    },
    {
     "data": {
      "text/markdown": [
       "https://ztf.snad.space/view/822101200002926"
      ]
     },
     "metadata": {},
     "output_type": "display_data"
    },
    {
     "data": {
      "text/markdown": [
       "https://ztf.snad.space/view/823101400006642"
      ]
     },
     "metadata": {},
     "output_type": "display_data"
    },
    {
     "data": {
      "text/markdown": [
       "https://ztf.snad.space/view/823106400007532"
      ]
     },
     "metadata": {},
     "output_type": "display_data"
    },
    {
     "data": {
      "text/markdown": [
       "https://ztf.snad.space/view/827105400011160"
      ]
     },
     "metadata": {},
     "output_type": "display_data"
    },
    {
     "data": {
      "text/markdown": [
       "https://ztf.snad.space/view/827106300032461"
      ]
     },
     "metadata": {},
     "output_type": "display_data"
    },
    {
     "data": {
      "text/markdown": [
       "https://ztf.snad.space/view/828103200022523"
      ]
     },
     "metadata": {},
     "output_type": "display_data"
    },
    {
     "data": {
      "text/markdown": [
       "https://ztf.snad.space/view/828107200034609"
      ]
     },
     "metadata": {},
     "output_type": "display_data"
    },
    {
     "data": {
      "text/markdown": [
       "https://ztf.snad.space/view/828113100009058"
      ]
     },
     "metadata": {},
     "output_type": "display_data"
    },
    {
     "data": {
      "text/markdown": [
       "https://ztf.snad.space/view/841109300002560"
      ]
     },
     "metadata": {},
     "output_type": "display_data"
    },
    {
     "data": {
      "text/markdown": [
       "https://ztf.snad.space/view/843107300001967"
      ]
     },
     "metadata": {},
     "output_type": "display_data"
    },
    {
     "data": {
      "text/markdown": [
       "https://ztf.snad.space/view/843110100000083"
      ]
     },
     "metadata": {},
     "output_type": "display_data"
    },
    {
     "data": {
      "text/markdown": [
       "https://ztf.snad.space/view/843110200002130"
      ]
     },
     "metadata": {},
     "output_type": "display_data"
    },
    {
     "data": {
      "text/markdown": [
       "https://ztf.snad.space/view/843111200004238"
      ]
     },
     "metadata": {},
     "output_type": "display_data"
    },
    {
     "data": {
      "text/markdown": [
       "https://ztf.snad.space/view/844109200003006"
      ]
     },
     "metadata": {},
     "output_type": "display_data"
    },
    {
     "data": {
      "text/markdown": [
       "https://ztf.snad.space/view/844110200002092"
      ]
     },
     "metadata": {},
     "output_type": "display_data"
    },
    {
     "data": {
      "text/markdown": [
       "https://ztf.snad.space/view/845107400004506"
      ]
     },
     "metadata": {},
     "output_type": "display_data"
    },
    {
     "data": {
      "text/markdown": [
       "https://ztf.snad.space/view/847107200018080"
      ]
     },
     "metadata": {},
     "output_type": "display_data"
    },
    {
     "data": {
      "text/markdown": [
       "https://ztf.snad.space/view/848111300000893"
      ]
     },
     "metadata": {},
     "output_type": "display_data"
    },
    {
     "data": {
      "text/markdown": [
       "https://ztf.snad.space/view/849102200015533"
      ]
     },
     "metadata": {},
     "output_type": "display_data"
    },
    {
     "data": {
      "text/markdown": [
       "https://ztf.snad.space/view/861109300000431"
      ]
     },
     "metadata": {},
     "output_type": "display_data"
    },
    {
     "data": {
      "text/markdown": [
       "https://ztf.snad.space/view/863111400001088"
      ]
     },
     "metadata": {},
     "output_type": "display_data"
    },
    {
     "data": {
      "text/markdown": [
       "https://ztf.snad.space/view/865116100005870"
      ]
     },
     "metadata": {},
     "output_type": "display_data"
    },
    {
     "name": "stdout",
     "output_type": "stream",
     "text": [
      "[None, None, None, None, None, None, None, None, None, None, None, None, None, None, None, None, None, None, None, None, None, None, None, None, None, None, None, None, None, None, None, None, None, None, None, None, None, None, None, None, None, None, None, None, None, None, None, None, None, None, None, None, None, None, None, None, None, None, None, None, None, None, None, None, None, None, None, None, None, None, None, None, None, None, None, None, None, None, None, None, None, None, None, None, None, None, None, None, None, None, None, None, None, None, None, None, None, None, None, None, None, None, None, None, None, None, None, None, None, None, None, None, None, None, None, None, None, None, None, None, None, None, None, None, None, None, None, None, None, None, None, None, None, None, None, None, None, None, None, None, None, None, None, None, None, None, None, None, None, None, None, None, None, None, None, None, None, None, None, None, None, None, None, None, None, None, None, None, None, None, None, None, None, None, None, None, None, None, None, None, None, None, None, None, None, None, None, None, None, None, None, None, None, None, None, None, None, None, None, None]\n"
     ]
    }
   ],
   "source": [
    "from IPython.display import display_markdown\n",
    "\n",
    "print([display_markdown(f'https://ztf.snad.space/view/{oid}', raw=True) for oid in \\\n",
    "         np.unique(np.hstack(kdtree_results_df.values))])"
   ]
  },
  {
   "cell_type": "code",
   "execution_count": 18,
   "metadata": {},
   "outputs": [
    {
     "name": "stdout",
     "output_type": "stream",
     "text": [
      "KNN 1 \n",
      "\n"
     ]
    },
    {
     "data": {
      "text/markdown": [
       "https://ztf.snad.space/view/821107100005285"
      ]
     },
     "metadata": {},
     "output_type": "display_data"
    },
    {
     "name": "stdout",
     "output_type": "stream",
     "text": [
      "KNN 2 \n",
      "\n"
     ]
    },
    {
     "data": {
      "text/markdown": [
       "https://ztf.snad.space/view/582109100008627"
      ]
     },
     "metadata": {},
     "output_type": "display_data"
    },
    {
     "name": "stdout",
     "output_type": "stream",
     "text": [
      "KNN 3 \n",
      "\n"
     ]
    },
    {
     "data": {
      "text/markdown": [
       "https://ztf.snad.space/view/724101100027872"
      ]
     },
     "metadata": {},
     "output_type": "display_data"
    },
    {
     "name": "stdout",
     "output_type": "stream",
     "text": [
      "KNN 4 \n",
      "\n"
     ]
    },
    {
     "data": {
      "text/markdown": [
       "https://ztf.snad.space/view/633108300023697"
      ]
     },
     "metadata": {},
     "output_type": "display_data"
    },
    {
     "name": "stdout",
     "output_type": "stream",
     "text": [
      "KNN 5 \n",
      "\n"
     ]
    },
    {
     "data": {
      "text/markdown": [
       "https://ztf.snad.space/view/587106400020085"
      ]
     },
     "metadata": {},
     "output_type": "display_data"
    },
    {
     "name": "stdout",
     "output_type": "stream",
     "text": [
      "KNN 6 \n",
      "\n"
     ]
    },
    {
     "data": {
      "text/markdown": [
       "https://ztf.snad.space/view/635104300022736"
      ]
     },
     "metadata": {},
     "output_type": "display_data"
    },
    {
     "name": "stdout",
     "output_type": "stream",
     "text": [
      "KNN 7 \n",
      "\n"
     ]
    },
    {
     "data": {
      "text/markdown": [
       "https://ztf.snad.space/view/793105100016413"
      ]
     },
     "metadata": {},
     "output_type": "display_data"
    },
    {
     "name": "stdout",
     "output_type": "stream",
     "text": [
      "KNN 8 \n",
      "\n"
     ]
    },
    {
     "data": {
      "text/markdown": [
       "https://ztf.snad.space/view/667113400000692"
      ]
     },
     "metadata": {},
     "output_type": "display_data"
    },
    {
     "name": "stdout",
     "output_type": "stream",
     "text": [
      "KNN 9 \n",
      "\n"
     ]
    },
    {
     "data": {
      "text/markdown": [
       "https://ztf.snad.space/view/725116100002465"
      ]
     },
     "metadata": {},
     "output_type": "display_data"
    },
    {
     "name": "stdout",
     "output_type": "stream",
     "text": [
      "KNN 10 \n",
      "\n"
     ]
    },
    {
     "data": {
      "text/markdown": [
       "https://ztf.snad.space/view/813105100004493"
      ]
     },
     "metadata": {},
     "output_type": "display_data"
    },
    {
     "name": "stdout",
     "output_type": "stream",
     "text": [
      "KNN 11 \n",
      "\n"
     ]
    },
    {
     "data": {
      "text/markdown": [
       "https://ztf.snad.space/view/823106400007532"
      ]
     },
     "metadata": {},
     "output_type": "display_data"
    },
    {
     "name": "stdout",
     "output_type": "stream",
     "text": [
      "KNN 12 \n",
      "\n"
     ]
    },
    {
     "data": {
      "text/markdown": [
       "https://ztf.snad.space/view/794106200011192"
      ]
     },
     "metadata": {},
     "output_type": "display_data"
    },
    {
     "name": "stdout",
     "output_type": "stream",
     "text": [
      "KNN 13 \n",
      "\n"
     ]
    },
    {
     "data": {
      "text/markdown": [
       "https://ztf.snad.space/view/682101200013786"
      ]
     },
     "metadata": {},
     "output_type": "display_data"
    },
    {
     "name": "stdout",
     "output_type": "stream",
     "text": [
      "KNN 14 \n",
      "\n"
     ]
    },
    {
     "data": {
      "text/markdown": [
       "https://ztf.snad.space/view/765103400013098"
      ]
     },
     "metadata": {},
     "output_type": "display_data"
    },
    {
     "name": "stdout",
     "output_type": "stream",
     "text": [
      "KNN 15 \n",
      "\n"
     ]
    },
    {
     "data": {
      "text/markdown": [
       "https://ztf.snad.space/view/760106300010760"
      ]
     },
     "metadata": {},
     "output_type": "display_data"
    },
    {
     "name": "stdout",
     "output_type": "stream",
     "text": [
      "KNN 16 \n",
      "\n"
     ]
    },
    {
     "data": {
      "text/markdown": [
       "https://ztf.snad.space/view/865116100005870"
      ]
     },
     "metadata": {},
     "output_type": "display_data"
    },
    {
     "name": "stdout",
     "output_type": "stream",
     "text": [
      "KNN 17 \n",
      "\n"
     ]
    },
    {
     "data": {
      "text/markdown": [
       "https://ztf.snad.space/view/725108400027791"
      ]
     },
     "metadata": {},
     "output_type": "display_data"
    },
    {
     "name": "stdout",
     "output_type": "stream",
     "text": [
      "KNN 18 \n",
      "\n"
     ]
    },
    {
     "data": {
      "text/markdown": [
       "https://ztf.snad.space/view/682102400023984"
      ]
     },
     "metadata": {},
     "output_type": "display_data"
    },
    {
     "name": "stdout",
     "output_type": "stream",
     "text": [
      "KNN 19 \n",
      "\n"
     ]
    },
    {
     "data": {
      "text/markdown": [
       "https://ztf.snad.space/view/681101100015804"
      ]
     },
     "metadata": {},
     "output_type": "display_data"
    },
    {
     "name": "stdout",
     "output_type": "stream",
     "text": [
      "KNN 20 \n",
      "\n"
     ]
    },
    {
     "data": {
      "text/markdown": [
       "https://ztf.snad.space/view/673107200003416"
      ]
     },
     "metadata": {},
     "output_type": "display_data"
    },
    {
     "name": "stdout",
     "output_type": "stream",
     "text": [
      "KNN 21 \n",
      "\n"
     ]
    },
    {
     "data": {
      "text/markdown": [
       "https://ztf.snad.space/view/726102400025028"
      ]
     },
     "metadata": {},
     "output_type": "display_data"
    },
    {
     "name": "stdout",
     "output_type": "stream",
     "text": [
      "KNN 22 \n",
      "\n"
     ]
    },
    {
     "data": {
      "text/markdown": [
       "https://ztf.snad.space/view/793110300009093"
      ]
     },
     "metadata": {},
     "output_type": "display_data"
    },
    {
     "name": "stdout",
     "output_type": "stream",
     "text": [
      "KNN 23 \n",
      "\n"
     ]
    },
    {
     "data": {
      "text/markdown": [
       "https://ztf.snad.space/view/587114300001085"
      ]
     },
     "metadata": {},
     "output_type": "display_data"
    },
    {
     "name": "stdout",
     "output_type": "stream",
     "text": [
      "KNN 24 \n",
      "\n"
     ]
    },
    {
     "data": {
      "text/markdown": [
       "https://ztf.snad.space/view/718102400005198"
      ]
     },
     "metadata": {},
     "output_type": "display_data"
    },
    {
     "name": "stdout",
     "output_type": "stream",
     "text": [
      "KNN 25 \n",
      "\n"
     ]
    },
    {
     "data": {
      "text/markdown": [
       "https://ztf.snad.space/view/757106400019857"
      ]
     },
     "metadata": {},
     "output_type": "display_data"
    },
    {
     "name": "stdout",
     "output_type": "stream",
     "text": [
      "KNN 26 \n",
      "\n"
     ]
    },
    {
     "data": {
      "text/markdown": [
       "https://ztf.snad.space/view/694108200003470"
      ]
     },
     "metadata": {},
     "output_type": "display_data"
    },
    {
     "name": "stdout",
     "output_type": "stream",
     "text": [
      "KNN 27 \n",
      "\n"
     ]
    },
    {
     "data": {
      "text/markdown": [
       "https://ztf.snad.space/view/757104100013459"
      ]
     },
     "metadata": {},
     "output_type": "display_data"
    },
    {
     "name": "stdout",
     "output_type": "stream",
     "text": [
      "KNN 28 \n",
      "\n"
     ]
    },
    {
     "data": {
      "text/markdown": [
       "https://ztf.snad.space/view/676102400000856"
      ]
     },
     "metadata": {},
     "output_type": "display_data"
    },
    {
     "name": "stdout",
     "output_type": "stream",
     "text": [
      "KNN 29 \n",
      "\n"
     ]
    },
    {
     "data": {
      "text/markdown": [
       "https://ztf.snad.space/view/757106200008371"
      ]
     },
     "metadata": {},
     "output_type": "display_data"
    },
    {
     "name": "stdout",
     "output_type": "stream",
     "text": [
      "KNN 30 \n",
      "\n"
     ]
    },
    {
     "data": {
      "text/markdown": [
       "https://ztf.snad.space/view/679114300023795"
      ]
     },
     "metadata": {},
     "output_type": "display_data"
    },
    {
     "name": "stdout",
     "output_type": "stream",
     "text": [
      "KNN 31 \n",
      "\n"
     ]
    },
    {
     "data": {
      "text/markdown": [
       "https://ztf.snad.space/view/799104200025318"
      ]
     },
     "metadata": {},
     "output_type": "display_data"
    },
    {
     "name": "stdout",
     "output_type": "stream",
     "text": [
      "KNN 32 \n",
      "\n"
     ]
    },
    {
     "data": {
      "text/markdown": [
       "https://ztf.snad.space/view/578101400000953"
      ]
     },
     "metadata": {},
     "output_type": "display_data"
    },
    {
     "name": "stdout",
     "output_type": "stream",
     "text": [
      "KNN 33 \n",
      "\n"
     ]
    },
    {
     "data": {
      "text/markdown": [
       "https://ztf.snad.space/view/633113400015478"
      ]
     },
     "metadata": {},
     "output_type": "display_data"
    },
    {
     "name": "stdout",
     "output_type": "stream",
     "text": [
      "KNN 34 \n",
      "\n"
     ]
    },
    {
     "data": {
      "text/markdown": [
       "https://ztf.snad.space/view/636104100033344"
      ]
     },
     "metadata": {},
     "output_type": "display_data"
    },
    {
     "name": "stdout",
     "output_type": "stream",
     "text": [
      "KNN 35 \n",
      "\n"
     ]
    },
    {
     "data": {
      "text/markdown": [
       "https://ztf.snad.space/view/684115200018744"
      ]
     },
     "metadata": {},
     "output_type": "display_data"
    },
    {
     "name": "stdout",
     "output_type": "stream",
     "text": [
      "KNN 36 \n",
      "\n"
     ]
    },
    {
     "data": {
      "text/markdown": [
       "https://ztf.snad.space/view/717114300007004"
      ]
     },
     "metadata": {},
     "output_type": "display_data"
    },
    {
     "name": "stdout",
     "output_type": "stream",
     "text": [
      "KNN 37 \n",
      "\n"
     ]
    },
    {
     "data": {
      "text/markdown": [
       "https://ztf.snad.space/view/711109400000771"
      ]
     },
     "metadata": {},
     "output_type": "display_data"
    },
    {
     "name": "stdout",
     "output_type": "stream",
     "text": [
      "KNN 38 \n",
      "\n"
     ]
    },
    {
     "data": {
      "text/markdown": [
       "https://ztf.snad.space/view/587105200023971"
      ]
     },
     "metadata": {},
     "output_type": "display_data"
    },
    {
     "name": "stdout",
     "output_type": "stream",
     "text": [
      "KNN 39 \n",
      "\n"
     ]
    },
    {
     "data": {
      "text/markdown": [
       "https://ztf.snad.space/view/726111400018915"
      ]
     },
     "metadata": {},
     "output_type": "display_data"
    },
    {
     "name": "stdout",
     "output_type": "stream",
     "text": [
      "KNN 40 \n",
      "\n"
     ]
    },
    {
     "data": {
      "text/markdown": [
       "https://ztf.snad.space/view/823101400006642"
      ]
     },
     "metadata": {},
     "output_type": "display_data"
    },
    {
     "name": "stdout",
     "output_type": "stream",
     "text": [
      "KNN 41 \n",
      "\n"
     ]
    },
    {
     "data": {
      "text/markdown": [
       "https://ztf.snad.space/view/587103400035771"
      ]
     },
     "metadata": {},
     "output_type": "display_data"
    },
    {
     "name": "stdout",
     "output_type": "stream",
     "text": [
      "KNN 42 \n",
      "\n"
     ]
    },
    {
     "data": {
      "text/markdown": [
       "https://ztf.snad.space/view/694107400004679"
      ]
     },
     "metadata": {},
     "output_type": "display_data"
    },
    {
     "name": "stdout",
     "output_type": "stream",
     "text": [
      "KNN 43 \n",
      "\n"
     ]
    },
    {
     "data": {
      "text/markdown": [
       "https://ztf.snad.space/view/764104400008193"
      ]
     },
     "metadata": {},
     "output_type": "display_data"
    },
    {
     "name": "stdout",
     "output_type": "stream",
     "text": [
      "KNN 44 \n",
      "\n"
     ]
    },
    {
     "data": {
      "text/markdown": [
       "https://ztf.snad.space/view/723104300027389"
      ]
     },
     "metadata": {},
     "output_type": "display_data"
    },
    {
     "name": "stdout",
     "output_type": "stream",
     "text": [
      "KNN 45 \n",
      "\n"
     ]
    },
    {
     "data": {
      "text/markdown": [
       "https://ztf.snad.space/view/844110200002092"
      ]
     },
     "metadata": {},
     "output_type": "display_data"
    },
    {
     "name": "stdout",
     "output_type": "stream",
     "text": [
      "KNN 46 \n",
      "\n"
     ]
    },
    {
     "data": {
      "text/markdown": [
       "https://ztf.snad.space/view/714104100002446"
      ]
     },
     "metadata": {},
     "output_type": "display_data"
    },
    {
     "name": "stdout",
     "output_type": "stream",
     "text": [
      "KNN 47 \n",
      "\n"
     ]
    },
    {
     "data": {
      "text/markdown": [
       "https://ztf.snad.space/view/636113400034409"
      ]
     },
     "metadata": {},
     "output_type": "display_data"
    },
    {
     "name": "stdout",
     "output_type": "stream",
     "text": [
      "KNN 48 \n",
      "\n"
     ]
    },
    {
     "data": {
      "text/markdown": [
       "https://ztf.snad.space/view/719116100008276"
      ]
     },
     "metadata": {},
     "output_type": "display_data"
    },
    {
     "name": "stdout",
     "output_type": "stream",
     "text": [
      "KNN 49 \n",
      "\n"
     ]
    },
    {
     "data": {
      "text/markdown": [
       "https://ztf.snad.space/view/754109300001159"
      ]
     },
     "metadata": {},
     "output_type": "display_data"
    },
    {
     "name": "stdout",
     "output_type": "stream",
     "text": [
      "KNN 50 \n",
      "\n"
     ]
    },
    {
     "data": {
      "text/markdown": [
       "https://ztf.snad.space/view/725107200021709"
      ]
     },
     "metadata": {},
     "output_type": "display_data"
    },
    {
     "name": "stdout",
     "output_type": "stream",
     "text": [
      "KNN 51 \n",
      "\n"
     ]
    },
    {
     "data": {
      "text/markdown": [
       "https://ztf.snad.space/view/716103200003136"
      ]
     },
     "metadata": {},
     "output_type": "display_data"
    },
    {
     "name": "stdout",
     "output_type": "stream",
     "text": [
      "KNN 52 \n",
      "\n"
     ]
    },
    {
     "data": {
      "text/markdown": [
       "https://ztf.snad.space/view/796115400006189"
      ]
     },
     "metadata": {},
     "output_type": "display_data"
    },
    {
     "name": "stdout",
     "output_type": "stream",
     "text": [
      "KNN 53 \n",
      "\n"
     ]
    },
    {
     "data": {
      "text/markdown": [
       "https://ztf.snad.space/view/794108100007532"
      ]
     },
     "metadata": {},
     "output_type": "display_data"
    },
    {
     "name": "stdout",
     "output_type": "stream",
     "text": [
      "KNN 54 \n",
      "\n"
     ]
    },
    {
     "data": {
      "text/markdown": [
       "https://ztf.snad.space/view/756102100017486"
      ]
     },
     "metadata": {},
     "output_type": "display_data"
    },
    {
     "name": "stdout",
     "output_type": "stream",
     "text": [
      "KNN 55 \n",
      "\n"
     ]
    },
    {
     "data": {
      "text/markdown": [
       "https://ztf.snad.space/view/718108300004739"
      ]
     },
     "metadata": {},
     "output_type": "display_data"
    },
    {
     "name": "stdout",
     "output_type": "stream",
     "text": [
      "KNN 56 \n",
      "\n"
     ]
    },
    {
     "data": {
      "text/markdown": [
       "https://ztf.snad.space/view/827106300032461"
      ]
     },
     "metadata": {},
     "output_type": "display_data"
    },
    {
     "name": "stdout",
     "output_type": "stream",
     "text": [
      "KNN 57 \n",
      "\n"
     ]
    },
    {
     "data": {
      "text/markdown": [
       "https://ztf.snad.space/view/757101300009856"
      ]
     },
     "metadata": {},
     "output_type": "display_data"
    },
    {
     "name": "stdout",
     "output_type": "stream",
     "text": [
      "KNN 58 \n",
      "\n"
     ]
    },
    {
     "data": {
      "text/markdown": [
       "https://ztf.snad.space/view/716109300004859"
      ]
     },
     "metadata": {},
     "output_type": "display_data"
    },
    {
     "name": "stdout",
     "output_type": "stream",
     "text": [
      "KNN 59 \n",
      "\n"
     ]
    },
    {
     "data": {
      "text/markdown": [
       "https://ztf.snad.space/view/818108400001165"
      ]
     },
     "metadata": {},
     "output_type": "display_data"
    },
    {
     "name": "stdout",
     "output_type": "stream",
     "text": [
      "KNN 60 \n",
      "\n"
     ]
    },
    {
     "data": {
      "text/markdown": [
       "https://ztf.snad.space/view/822101200002926"
      ]
     },
     "metadata": {},
     "output_type": "display_data"
    },
    {
     "name": "stdout",
     "output_type": "stream",
     "text": [
      "KNN 61 \n",
      "\n"
     ]
    },
    {
     "data": {
      "text/markdown": [
       "https://ztf.snad.space/view/635111400000448"
      ]
     },
     "metadata": {},
     "output_type": "display_data"
    },
    {
     "name": "stdout",
     "output_type": "stream",
     "text": [
      "KNN 62 \n",
      "\n"
     ]
    },
    {
     "data": {
      "text/markdown": [
       "https://ztf.snad.space/view/759101100003674"
      ]
     },
     "metadata": {},
     "output_type": "display_data"
    },
    {
     "name": "stdout",
     "output_type": "stream",
     "text": [
      "KNN 63 \n",
      "\n"
     ]
    },
    {
     "data": {
      "text/markdown": [
       "https://ztf.snad.space/view/643113300004423"
      ]
     },
     "metadata": {},
     "output_type": "display_data"
    },
    {
     "name": "stdout",
     "output_type": "stream",
     "text": [
      "KNN 64 \n",
      "\n"
     ]
    },
    {
     "data": {
      "text/markdown": [
       "https://ztf.snad.space/view/828113100009058"
      ]
     },
     "metadata": {},
     "output_type": "display_data"
    },
    {
     "name": "stdout",
     "output_type": "stream",
     "text": [
      "KNN 65 \n",
      "\n"
     ]
    },
    {
     "data": {
      "text/markdown": [
       "https://ztf.snad.space/view/765103400023904"
      ]
     },
     "metadata": {},
     "output_type": "display_data"
    },
    {
     "name": "stdout",
     "output_type": "stream",
     "text": [
      "KNN 66 \n",
      "\n"
     ]
    },
    {
     "data": {
      "text/markdown": [
       "https://ztf.snad.space/view/848111300000893"
      ]
     },
     "metadata": {},
     "output_type": "display_data"
    },
    {
     "name": "stdout",
     "output_type": "stream",
     "text": [
      "KNN 67 \n",
      "\n"
     ]
    },
    {
     "data": {
      "text/markdown": [
       "https://ztf.snad.space/view/861109300000431"
      ]
     },
     "metadata": {},
     "output_type": "display_data"
    },
    {
     "name": "stdout",
     "output_type": "stream",
     "text": [
      "KNN 68 \n",
      "\n"
     ]
    },
    {
     "data": {
      "text/markdown": [
       "https://ztf.snad.space/view/633109100025896"
      ]
     },
     "metadata": {},
     "output_type": "display_data"
    },
    {
     "name": "stdout",
     "output_type": "stream",
     "text": [
      "KNN 69 \n",
      "\n"
     ]
    },
    {
     "data": {
      "text/markdown": [
       "https://ztf.snad.space/view/672115100001897"
      ]
     },
     "metadata": {},
     "output_type": "display_data"
    },
    {
     "name": "stdout",
     "output_type": "stream",
     "text": [
      "KNN 70 \n",
      "\n"
     ]
    },
    {
     "data": {
      "text/markdown": [
       "https://ztf.snad.space/view/587106400017817"
      ]
     },
     "metadata": {},
     "output_type": "display_data"
    },
    {
     "name": "stdout",
     "output_type": "stream",
     "text": [
      "KNN 71 \n",
      "\n"
     ]
    },
    {
     "data": {
      "text/markdown": [
       "https://ztf.snad.space/view/843110100000083"
      ]
     },
     "metadata": {},
     "output_type": "display_data"
    },
    {
     "name": "stdout",
     "output_type": "stream",
     "text": [
      "KNN 72 \n",
      "\n"
     ]
    },
    {
     "data": {
      "text/markdown": [
       "https://ztf.snad.space/view/764107400027472"
      ]
     },
     "metadata": {},
     "output_type": "display_data"
    },
    {
     "name": "stdout",
     "output_type": "stream",
     "text": [
      "KNN 73 \n",
      "\n"
     ]
    },
    {
     "data": {
      "text/markdown": [
       "https://ztf.snad.space/view/746102200002564"
      ]
     },
     "metadata": {},
     "output_type": "display_data"
    },
    {
     "name": "stdout",
     "output_type": "stream",
     "text": [
      "KNN 74 \n",
      "\n"
     ]
    },
    {
     "data": {
      "text/markdown": [
       "https://ztf.snad.space/view/718101100007827"
      ]
     },
     "metadata": {},
     "output_type": "display_data"
    },
    {
     "name": "stdout",
     "output_type": "stream",
     "text": [
      "KNN 75 \n",
      "\n"
     ]
    },
    {
     "data": {
      "text/markdown": [
       "https://ztf.snad.space/view/672115200000744"
      ]
     },
     "metadata": {},
     "output_type": "display_data"
    },
    {
     "name": "stdout",
     "output_type": "stream",
     "text": [
      "KNN 76 \n",
      "\n"
     ]
    },
    {
     "data": {
      "text/markdown": [
       "https://ztf.snad.space/view/715114300005275"
      ]
     },
     "metadata": {},
     "output_type": "display_data"
    },
    {
     "name": "stdout",
     "output_type": "stream",
     "text": [
      "KNN 77 \n",
      "\n"
     ]
    },
    {
     "data": {
      "text/markdown": [
       "https://ztf.snad.space/view/717105400003201"
      ]
     },
     "metadata": {},
     "output_type": "display_data"
    },
    {
     "name": "stdout",
     "output_type": "stream",
     "text": [
      "KNN 78 \n",
      "\n"
     ]
    },
    {
     "data": {
      "text/markdown": [
       "https://ztf.snad.space/view/721106200008343"
      ]
     },
     "metadata": {},
     "output_type": "display_data"
    },
    {
     "name": "stdout",
     "output_type": "stream",
     "text": [
      "KNN 79 \n",
      "\n"
     ]
    },
    {
     "data": {
      "text/markdown": [
       "https://ztf.snad.space/view/794105300002705"
      ]
     },
     "metadata": {},
     "output_type": "display_data"
    },
    {
     "name": "stdout",
     "output_type": "stream",
     "text": [
      "KNN 80 \n",
      "\n"
     ]
    },
    {
     "data": {
      "text/markdown": [
       "https://ztf.snad.space/view/764101200013201"
      ]
     },
     "metadata": {},
     "output_type": "display_data"
    },
    {
     "name": "stdout",
     "output_type": "stream",
     "text": [
      "KNN 81 \n",
      "\n"
     ]
    },
    {
     "data": {
      "text/markdown": [
       "https://ztf.snad.space/view/625101400029189"
      ]
     },
     "metadata": {},
     "output_type": "display_data"
    },
    {
     "name": "stdout",
     "output_type": "stream",
     "text": [
      "KNN 82 \n",
      "\n"
     ]
    },
    {
     "data": {
      "text/markdown": [
       "https://ztf.snad.space/view/849102200015533"
      ]
     },
     "metadata": {},
     "output_type": "display_data"
    },
    {
     "name": "stdout",
     "output_type": "stream",
     "text": [
      "KNN 83 \n",
      "\n"
     ]
    },
    {
     "data": {
      "text/markdown": [
       "https://ztf.snad.space/view/683111100031930"
      ]
     },
     "metadata": {},
     "output_type": "display_data"
    },
    {
     "name": "stdout",
     "output_type": "stream",
     "text": [
      "KNN 84 \n",
      "\n"
     ]
    },
    {
     "data": {
      "text/markdown": [
       "https://ztf.snad.space/view/765112400020672"
      ]
     },
     "metadata": {},
     "output_type": "display_data"
    },
    {
     "name": "stdout",
     "output_type": "stream",
     "text": [
      "KNN 85 \n",
      "\n"
     ]
    },
    {
     "data": {
      "text/markdown": [
       "https://ztf.snad.space/view/633106200025605"
      ]
     },
     "metadata": {},
     "output_type": "display_data"
    },
    {
     "name": "stdout",
     "output_type": "stream",
     "text": [
      "KNN 86 \n",
      "\n"
     ]
    },
    {
     "data": {
      "text/markdown": [
       "https://ztf.snad.space/view/676102300004634"
      ]
     },
     "metadata": {},
     "output_type": "display_data"
    },
    {
     "name": "stdout",
     "output_type": "stream",
     "text": [
      "KNN 87 \n",
      "\n"
     ]
    },
    {
     "data": {
      "text/markdown": [
       "https://ztf.snad.space/view/843107300001967"
      ]
     },
     "metadata": {},
     "output_type": "display_data"
    },
    {
     "name": "stdout",
     "output_type": "stream",
     "text": [
      "KNN 88 \n",
      "\n"
     ]
    },
    {
     "data": {
      "text/markdown": [
       "https://ztf.snad.space/view/763106100000082"
      ]
     },
     "metadata": {},
     "output_type": "display_data"
    },
    {
     "name": "stdout",
     "output_type": "stream",
     "text": [
      "KNN 89 \n",
      "\n"
     ]
    },
    {
     "data": {
      "text/markdown": [
       "https://ztf.snad.space/view/683102400038498"
      ]
     },
     "metadata": {},
     "output_type": "display_data"
    },
    {
     "name": "stdout",
     "output_type": "stream",
     "text": [
      "KNN 90 \n",
      "\n"
     ]
    },
    {
     "data": {
      "text/markdown": [
       "https://ztf.snad.space/view/794102100004901"
      ]
     },
     "metadata": {},
     "output_type": "display_data"
    },
    {
     "name": "stdout",
     "output_type": "stream",
     "text": [
      "KNN 91 \n",
      "\n"
     ]
    },
    {
     "data": {
      "text/markdown": [
       "https://ztf.snad.space/view/691102400004244"
      ]
     },
     "metadata": {},
     "output_type": "display_data"
    },
    {
     "name": "stdout",
     "output_type": "stream",
     "text": [
      "KNN 92 \n",
      "\n"
     ]
    },
    {
     "data": {
      "text/markdown": [
       "https://ztf.snad.space/view/634110300013002"
      ]
     },
     "metadata": {},
     "output_type": "display_data"
    },
    {
     "name": "stdout",
     "output_type": "stream",
     "text": [
      "KNN 93 \n",
      "\n"
     ]
    },
    {
     "data": {
      "text/markdown": [
       "https://ztf.snad.space/view/765116400008586"
      ]
     },
     "metadata": {},
     "output_type": "display_data"
    },
    {
     "name": "stdout",
     "output_type": "stream",
     "text": [
      "KNN 94 \n",
      "\n"
     ]
    },
    {
     "data": {
      "text/markdown": [
       "https://ztf.snad.space/view/798101400000531"
      ]
     },
     "metadata": {},
     "output_type": "display_data"
    },
    {
     "name": "stdout",
     "output_type": "stream",
     "text": [
      "KNN 95 \n",
      "\n"
     ]
    },
    {
     "data": {
      "text/markdown": [
       "https://ztf.snad.space/view/734103200006995"
      ]
     },
     "metadata": {},
     "output_type": "display_data"
    },
    {
     "name": "stdout",
     "output_type": "stream",
     "text": [
      "KNN 96 \n",
      "\n"
     ]
    },
    {
     "data": {
      "text/markdown": [
       "https://ztf.snad.space/view/843111200004238"
      ]
     },
     "metadata": {},
     "output_type": "display_data"
    },
    {
     "name": "stdout",
     "output_type": "stream",
     "text": [
      "KNN 97 \n",
      "\n"
     ]
    },
    {
     "data": {
      "text/markdown": [
       "https://ztf.snad.space/view/718108100000271"
      ]
     },
     "metadata": {},
     "output_type": "display_data"
    },
    {
     "name": "stdout",
     "output_type": "stream",
     "text": [
      "KNN 98 \n",
      "\n"
     ]
    },
    {
     "data": {
      "text/markdown": [
       "https://ztf.snad.space/view/788104300011271"
      ]
     },
     "metadata": {},
     "output_type": "display_data"
    },
    {
     "name": "stdout",
     "output_type": "stream",
     "text": [
      "KNN 99 \n",
      "\n"
     ]
    },
    {
     "data": {
      "text/markdown": [
       "https://ztf.snad.space/view/719104300014084"
      ]
     },
     "metadata": {},
     "output_type": "display_data"
    },
    {
     "name": "stdout",
     "output_type": "stream",
     "text": [
      "KNN 100 \n",
      "\n"
     ]
    },
    {
     "data": {
      "text/markdown": [
       "https://ztf.snad.space/view/587111200031270"
      ]
     },
     "metadata": {},
     "output_type": "display_data"
    },
    {
     "name": "stdout",
     "output_type": "stream",
     "text": [
      "KNN 101 \n",
      "\n"
     ]
    },
    {
     "data": {
      "text/markdown": [
       "https://ztf.snad.space/view/813111400009867"
      ]
     },
     "metadata": {},
     "output_type": "display_data"
    },
    {
     "name": "stdout",
     "output_type": "stream",
     "text": [
      "KNN 102 \n",
      "\n"
     ]
    },
    {
     "data": {
      "text/markdown": [
       "https://ztf.snad.space/view/635106300013599"
      ]
     },
     "metadata": {},
     "output_type": "display_data"
    },
    {
     "name": "stdout",
     "output_type": "stream",
     "text": [
      "KNN 103 \n",
      "\n"
     ]
    },
    {
     "data": {
      "text/markdown": [
       "https://ztf.snad.space/view/753116100003683"
      ]
     },
     "metadata": {},
     "output_type": "display_data"
    },
    {
     "name": "stdout",
     "output_type": "stream",
     "text": [
      "KNN 104 \n",
      "\n"
     ]
    },
    {
     "data": {
      "text/markdown": [
       "https://ztf.snad.space/view/799110400027285"
      ]
     },
     "metadata": {},
     "output_type": "display_data"
    },
    {
     "name": "stdout",
     "output_type": "stream",
     "text": [
      "KNN 105 \n",
      "\n"
     ]
    },
    {
     "data": {
      "text/markdown": [
       "https://ztf.snad.space/view/692114400005111"
      ]
     },
     "metadata": {},
     "output_type": "display_data"
    },
    {
     "name": "stdout",
     "output_type": "stream",
     "text": [
      "KNN 106 \n",
      "\n"
     ]
    },
    {
     "data": {
      "text/markdown": [
       "https://ztf.snad.space/view/683115100011812"
      ]
     },
     "metadata": {},
     "output_type": "display_data"
    },
    {
     "name": "stdout",
     "output_type": "stream",
     "text": [
      "KNN 107 \n",
      "\n"
     ]
    },
    {
     "data": {
      "text/markdown": [
       "https://ztf.snad.space/view/676104100007808"
      ]
     },
     "metadata": {},
     "output_type": "display_data"
    },
    {
     "name": "stdout",
     "output_type": "stream",
     "text": [
      "KNN 108 \n",
      "\n"
     ]
    },
    {
     "data": {
      "text/markdown": [
       "https://ztf.snad.space/view/756102100004031"
      ]
     },
     "metadata": {},
     "output_type": "display_data"
    },
    {
     "name": "stdout",
     "output_type": "stream",
     "text": [
      "KNN 109 \n",
      "\n"
     ]
    },
    {
     "data": {
      "text/markdown": [
       "https://ztf.snad.space/view/545114100008154"
      ]
     },
     "metadata": {},
     "output_type": "display_data"
    },
    {
     "name": "stdout",
     "output_type": "stream",
     "text": [
      "KNN 110 \n",
      "\n"
     ]
    },
    {
     "data": {
      "text/markdown": [
       "https://ztf.snad.space/view/726101100030970"
      ]
     },
     "metadata": {},
     "output_type": "display_data"
    },
    {
     "name": "stdout",
     "output_type": "stream",
     "text": [
      "KNN 111 \n",
      "\n"
     ]
    },
    {
     "data": {
      "text/markdown": [
       "https://ztf.snad.space/view/725110200018216"
      ]
     },
     "metadata": {},
     "output_type": "display_data"
    },
    {
     "name": "stdout",
     "output_type": "stream",
     "text": [
      "KNN 112 \n",
      "\n"
     ]
    },
    {
     "data": {
      "text/markdown": [
       "https://ztf.snad.space/view/716106200013040"
      ]
     },
     "metadata": {},
     "output_type": "display_data"
    },
    {
     "name": "stdout",
     "output_type": "stream",
     "text": [
      "KNN 113 \n",
      "\n"
     ]
    },
    {
     "data": {
      "text/markdown": [
       "https://ztf.snad.space/view/819111400003349"
      ]
     },
     "metadata": {},
     "output_type": "display_data"
    },
    {
     "name": "stdout",
     "output_type": "stream",
     "text": [
      "KNN 114 \n",
      "\n"
     ]
    },
    {
     "data": {
      "text/markdown": [
       "https://ztf.snad.space/view/817105200003576"
      ]
     },
     "metadata": {},
     "output_type": "display_data"
    },
    {
     "name": "stdout",
     "output_type": "stream",
     "text": [
      "KNN 115 \n",
      "\n"
     ]
    },
    {
     "data": {
      "text/markdown": [
       "https://ztf.snad.space/view/633105400014971"
      ]
     },
     "metadata": {},
     "output_type": "display_data"
    },
    {
     "name": "stdout",
     "output_type": "stream",
     "text": [
      "KNN 116 \n",
      "\n"
     ]
    },
    {
     "data": {
      "text/markdown": [
       "https://ztf.snad.space/view/673103400002781"
      ]
     },
     "metadata": {},
     "output_type": "display_data"
    },
    {
     "name": "stdout",
     "output_type": "stream",
     "text": [
      "KNN 117 \n",
      "\n"
     ]
    },
    {
     "data": {
      "text/markdown": [
       "https://ztf.snad.space/view/843110200002130"
      ]
     },
     "metadata": {},
     "output_type": "display_data"
    },
    {
     "name": "stdout",
     "output_type": "stream",
     "text": [
      "KNN 118 \n",
      "\n"
     ]
    },
    {
     "data": {
      "text/markdown": [
       "https://ztf.snad.space/view/760112400004567"
      ]
     },
     "metadata": {},
     "output_type": "display_data"
    },
    {
     "name": "stdout",
     "output_type": "stream",
     "text": [
      "KNN 119 \n",
      "\n"
     ]
    },
    {
     "data": {
      "text/markdown": [
       "https://ztf.snad.space/view/724108400016180"
      ]
     },
     "metadata": {},
     "output_type": "display_data"
    },
    {
     "name": "stdout",
     "output_type": "stream",
     "text": [
      "KNN 120 \n",
      "\n"
     ]
    },
    {
     "data": {
      "text/markdown": [
       "https://ztf.snad.space/view/793103100000302"
      ]
     },
     "metadata": {},
     "output_type": "display_data"
    },
    {
     "name": "stdout",
     "output_type": "stream",
     "text": [
      "KNN 121 \n",
      "\n"
     ]
    },
    {
     "data": {
      "text/markdown": [
       "https://ztf.snad.space/view/828107200034609"
      ]
     },
     "metadata": {},
     "output_type": "display_data"
    },
    {
     "name": "stdout",
     "output_type": "stream",
     "text": [
      "KNN 122 \n",
      "\n"
     ]
    },
    {
     "data": {
      "text/markdown": [
       "https://ztf.snad.space/view/677103200002903"
      ]
     },
     "metadata": {},
     "output_type": "display_data"
    },
    {
     "name": "stdout",
     "output_type": "stream",
     "text": [
      "KNN 123 \n",
      "\n"
     ]
    },
    {
     "data": {
      "text/markdown": [
       "https://ztf.snad.space/view/847107200018080"
      ]
     },
     "metadata": {},
     "output_type": "display_data"
    },
    {
     "name": "stdout",
     "output_type": "stream",
     "text": [
      "KNN 124 \n",
      "\n"
     ]
    },
    {
     "data": {
      "text/markdown": [
       "https://ztf.snad.space/view/799102200007344"
      ]
     },
     "metadata": {},
     "output_type": "display_data"
    },
    {
     "name": "stdout",
     "output_type": "stream",
     "text": [
      "KNN 125 \n",
      "\n"
     ]
    },
    {
     "data": {
      "text/markdown": [
       "https://ztf.snad.space/view/788105100004444"
      ]
     },
     "metadata": {},
     "output_type": "display_data"
    },
    {
     "name": "stdout",
     "output_type": "stream",
     "text": [
      "KNN 126 \n",
      "\n"
     ]
    },
    {
     "data": {
      "text/markdown": [
       "https://ztf.snad.space/view/587110200030917"
      ]
     },
     "metadata": {},
     "output_type": "display_data"
    },
    {
     "name": "stdout",
     "output_type": "stream",
     "text": [
      "KNN 127 \n",
      "\n"
     ]
    },
    {
     "data": {
      "text/markdown": [
       "https://ztf.snad.space/view/766104300023414"
      ]
     },
     "metadata": {},
     "output_type": "display_data"
    },
    {
     "name": "stdout",
     "output_type": "stream",
     "text": [
      "KNN 128 \n",
      "\n"
     ]
    },
    {
     "data": {
      "text/markdown": [
       "https://ztf.snad.space/view/587112100025293"
      ]
     },
     "metadata": {},
     "output_type": "display_data"
    },
    {
     "name": "stdout",
     "output_type": "stream",
     "text": [
      "KNN 129 \n",
      "\n"
     ]
    },
    {
     "data": {
      "text/markdown": [
       "https://ztf.snad.space/view/716107200000408"
      ]
     },
     "metadata": {},
     "output_type": "display_data"
    },
    {
     "name": "stdout",
     "output_type": "stream",
     "text": [
      "KNN 130 \n",
      "\n"
     ]
    },
    {
     "data": {
      "text/markdown": [
       "https://ztf.snad.space/view/863111400001088"
      ]
     },
     "metadata": {},
     "output_type": "display_data"
    },
    {
     "name": "stdout",
     "output_type": "stream",
     "text": [
      "KNN 131 \n",
      "\n"
     ]
    },
    {
     "data": {
      "text/markdown": [
       "https://ztf.snad.space/view/668106100003131"
      ]
     },
     "metadata": {},
     "output_type": "display_data"
    },
    {
     "name": "stdout",
     "output_type": "stream",
     "text": [
      "KNN 132 \n",
      "\n"
     ]
    },
    {
     "data": {
      "text/markdown": [
       "https://ztf.snad.space/view/635105200019309"
      ]
     },
     "metadata": {},
     "output_type": "display_data"
    },
    {
     "name": "stdout",
     "output_type": "stream",
     "text": [
      "KNN 133 \n",
      "\n"
     ]
    },
    {
     "data": {
      "text/markdown": [
       "https://ztf.snad.space/view/797205400001217"
      ]
     },
     "metadata": {},
     "output_type": "display_data"
    },
    {
     "name": "stdout",
     "output_type": "stream",
     "text": [
      "KNN 134 \n",
      "\n"
     ]
    },
    {
     "data": {
      "text/markdown": [
       "https://ztf.snad.space/view/722106200028006"
      ]
     },
     "metadata": {},
     "output_type": "display_data"
    },
    {
     "name": "stdout",
     "output_type": "stream",
     "text": [
      "KNN 135 \n",
      "\n"
     ]
    },
    {
     "data": {
      "text/markdown": [
       "https://ztf.snad.space/view/747115300006302"
      ]
     },
     "metadata": {},
     "output_type": "display_data"
    },
    {
     "name": "stdout",
     "output_type": "stream",
     "text": [
      "KNN 136 \n",
      "\n"
     ]
    },
    {
     "data": {
      "text/markdown": [
       "https://ztf.snad.space/view/821102400025130"
      ]
     },
     "metadata": {},
     "output_type": "display_data"
    },
    {
     "name": "stdout",
     "output_type": "stream",
     "text": [
      "KNN 137 \n",
      "\n"
     ]
    },
    {
     "data": {
      "text/markdown": [
       "https://ztf.snad.space/view/587101300021768"
      ]
     },
     "metadata": {},
     "output_type": "display_data"
    },
    {
     "name": "stdout",
     "output_type": "stream",
     "text": [
      "KNN 138 \n",
      "\n"
     ]
    },
    {
     "data": {
      "text/markdown": [
       "https://ztf.snad.space/view/763108100005990"
      ]
     },
     "metadata": {},
     "output_type": "display_data"
    },
    {
     "name": "stdout",
     "output_type": "stream",
     "text": [
      "KNN 139 \n",
      "\n"
     ]
    },
    {
     "data": {
      "text/markdown": [
       "https://ztf.snad.space/view/841109300002560"
      ]
     },
     "metadata": {},
     "output_type": "display_data"
    },
    {
     "name": "stdout",
     "output_type": "stream",
     "text": [
      "KNN 140 \n",
      "\n"
     ]
    },
    {
     "data": {
      "text/markdown": [
       "https://ztf.snad.space/view/633104100005749"
      ]
     },
     "metadata": {},
     "output_type": "display_data"
    },
    {
     "name": "stdout",
     "output_type": "stream",
     "text": [
      "KNN 141 \n",
      "\n"
     ]
    },
    {
     "data": {
      "text/markdown": [
       "https://ztf.snad.space/view/783109400002438"
      ]
     },
     "metadata": {},
     "output_type": "display_data"
    },
    {
     "name": "stdout",
     "output_type": "stream",
     "text": [
      "KNN 142 \n",
      "\n"
     ]
    },
    {
     "data": {
      "text/markdown": [
       "https://ztf.snad.space/view/793115200011943"
      ]
     },
     "metadata": {},
     "output_type": "display_data"
    },
    {
     "name": "stdout",
     "output_type": "stream",
     "text": [
      "KNN 143 \n",
      "\n"
     ]
    },
    {
     "data": {
      "text/markdown": [
       "https://ztf.snad.space/view/762113400021026"
      ]
     },
     "metadata": {},
     "output_type": "display_data"
    },
    {
     "name": "stdout",
     "output_type": "stream",
     "text": [
      "KNN 144 \n",
      "\n"
     ]
    },
    {
     "data": {
      "text/markdown": [
       "https://ztf.snad.space/view/676108200017280"
      ]
     },
     "metadata": {},
     "output_type": "display_data"
    },
    {
     "name": "stdout",
     "output_type": "stream",
     "text": [
      "KNN 145 \n",
      "\n"
     ]
    },
    {
     "data": {
      "text/markdown": [
       "https://ztf.snad.space/view/725108400013631"
      ]
     },
     "metadata": {},
     "output_type": "display_data"
    },
    {
     "name": "stdout",
     "output_type": "stream",
     "text": [
      "KNN 146 \n",
      "\n"
     ]
    },
    {
     "data": {
      "text/markdown": [
       "https://ztf.snad.space/view/681101400016361"
      ]
     },
     "metadata": {},
     "output_type": "display_data"
    },
    {
     "name": "stdout",
     "output_type": "stream",
     "text": [
      "KNN 147 \n",
      "\n"
     ]
    },
    {
     "data": {
      "text/markdown": [
       "https://ztf.snad.space/view/796309100016931"
      ]
     },
     "metadata": {},
     "output_type": "display_data"
    },
    {
     "name": "stdout",
     "output_type": "stream",
     "text": [
      "KNN 148 \n",
      "\n"
     ]
    },
    {
     "data": {
      "text/markdown": [
       "https://ztf.snad.space/view/725108400026110"
      ]
     },
     "metadata": {},
     "output_type": "display_data"
    },
    {
     "name": "stdout",
     "output_type": "stream",
     "text": [
      "KNN 149 \n",
      "\n"
     ]
    },
    {
     "data": {
      "text/markdown": [
       "https://ztf.snad.space/view/632209400014771"
      ]
     },
     "metadata": {},
     "output_type": "display_data"
    },
    {
     "name": "stdout",
     "output_type": "stream",
     "text": [
      "KNN 150 \n",
      "\n"
     ]
    },
    {
     "data": {
      "text/markdown": [
       "https://ztf.snad.space/view/797105300030427"
      ]
     },
     "metadata": {},
     "output_type": "display_data"
    },
    {
     "name": "stdout",
     "output_type": "stream",
     "text": [
      "KNN 151 \n",
      "\n"
     ]
    },
    {
     "data": {
      "text/markdown": [
       "https://ztf.snad.space/view/763102400026763"
      ]
     },
     "metadata": {},
     "output_type": "display_data"
    },
    {
     "name": "stdout",
     "output_type": "stream",
     "text": [
      "KNN 152 \n",
      "\n"
     ]
    },
    {
     "data": {
      "text/markdown": [
       "https://ztf.snad.space/view/820110400000260"
      ]
     },
     "metadata": {},
     "output_type": "display_data"
    },
    {
     "name": "stdout",
     "output_type": "stream",
     "text": [
      "KNN 153 \n",
      "\n"
     ]
    },
    {
     "data": {
      "text/markdown": [
       "https://ztf.snad.space/view/443116100000521"
      ]
     },
     "metadata": {},
     "output_type": "display_data"
    },
    {
     "name": "stdout",
     "output_type": "stream",
     "text": [
      "KNN 154 \n",
      "\n"
     ]
    },
    {
     "data": {
      "text/markdown": [
       "https://ztf.snad.space/view/845107400004506"
      ]
     },
     "metadata": {},
     "output_type": "display_data"
    },
    {
     "name": "stdout",
     "output_type": "stream",
     "text": [
      "KNN 155 \n",
      "\n"
     ]
    },
    {
     "data": {
      "text/markdown": [
       "https://ztf.snad.space/view/756102400000723"
      ]
     },
     "metadata": {},
     "output_type": "display_data"
    },
    {
     "name": "stdout",
     "output_type": "stream",
     "text": [
      "KNN 156 \n",
      "\n"
     ]
    },
    {
     "data": {
      "text/markdown": [
       "https://ztf.snad.space/view/827105400011160"
      ]
     },
     "metadata": {},
     "output_type": "display_data"
    },
    {
     "name": "stdout",
     "output_type": "stream",
     "text": [
      "KNN 157 \n",
      "\n"
     ]
    },
    {
     "data": {
      "text/markdown": [
       "https://ztf.snad.space/view/828103200022523"
      ]
     },
     "metadata": {},
     "output_type": "display_data"
    },
    {
     "name": "stdout",
     "output_type": "stream",
     "text": [
      "KNN 158 \n",
      "\n"
     ]
    },
    {
     "data": {
      "text/markdown": [
       "https://ztf.snad.space/view/717103300005320"
      ]
     },
     "metadata": {},
     "output_type": "display_data"
    },
    {
     "name": "stdout",
     "output_type": "stream",
     "text": [
      "KNN 159 \n",
      "\n"
     ]
    },
    {
     "data": {
      "text/markdown": [
       "https://ztf.snad.space/view/716114100002228"
      ]
     },
     "metadata": {},
     "output_type": "display_data"
    },
    {
     "name": "stdout",
     "output_type": "stream",
     "text": [
      "KNN 160 \n",
      "\n"
     ]
    },
    {
     "data": {
      "text/markdown": [
       "https://ztf.snad.space/view/718105300009655"
      ]
     },
     "metadata": {},
     "output_type": "display_data"
    },
    {
     "name": "stdout",
     "output_type": "stream",
     "text": [
      "KNN 161 \n",
      "\n"
     ]
    },
    {
     "data": {
      "text/markdown": [
       "https://ztf.snad.space/view/634108100005436"
      ]
     },
     "metadata": {},
     "output_type": "display_data"
    },
    {
     "name": "stdout",
     "output_type": "stream",
     "text": [
      "KNN 162 \n",
      "\n"
     ]
    },
    {
     "data": {
      "text/markdown": [
       "https://ztf.snad.space/view/720109100022221"
      ]
     },
     "metadata": {},
     "output_type": "display_data"
    },
    {
     "name": "stdout",
     "output_type": "stream",
     "text": [
      "KNN 163 \n",
      "\n"
     ]
    },
    {
     "data": {
      "text/markdown": [
       "https://ztf.snad.space/view/676102100009347"
      ]
     },
     "metadata": {},
     "output_type": "display_data"
    },
    {
     "name": "stdout",
     "output_type": "stream",
     "text": [
      "KNN 164 \n",
      "\n"
     ]
    },
    {
     "data": {
      "text/markdown": [
       "https://ztf.snad.space/view/726111400020760"
      ]
     },
     "metadata": {},
     "output_type": "display_data"
    },
    {
     "name": "stdout",
     "output_type": "stream",
     "text": [
      "KNN 165 \n",
      "\n"
     ]
    },
    {
     "data": {
      "text/markdown": [
       "https://ztf.snad.space/view/799107200022055"
      ]
     },
     "metadata": {},
     "output_type": "display_data"
    },
    {
     "name": "stdout",
     "output_type": "stream",
     "text": [
      "KNN 166 \n",
      "\n"
     ]
    },
    {
     "data": {
      "text/markdown": [
       "https://ztf.snad.space/view/725106100010000"
      ]
     },
     "metadata": {},
     "output_type": "display_data"
    },
    {
     "name": "stdout",
     "output_type": "stream",
     "text": [
      "KNN 167 \n",
      "\n"
     ]
    },
    {
     "data": {
      "text/markdown": [
       "https://ztf.snad.space/view/721107400003828"
      ]
     },
     "metadata": {},
     "output_type": "display_data"
    },
    {
     "name": "stdout",
     "output_type": "stream",
     "text": [
      "KNN 168 \n",
      "\n"
     ]
    },
    {
     "data": {
      "text/markdown": [
       "https://ztf.snad.space/view/754114200001419"
      ]
     },
     "metadata": {},
     "output_type": "display_data"
    },
    {
     "name": "stdout",
     "output_type": "stream",
     "text": [
      "KNN 169 \n",
      "\n"
     ]
    },
    {
     "data": {
      "text/markdown": [
       "https://ztf.snad.space/view/721106300009409"
      ]
     },
     "metadata": {},
     "output_type": "display_data"
    },
    {
     "name": "stdout",
     "output_type": "stream",
     "text": [
      "KNN 170 \n",
      "\n"
     ]
    },
    {
     "data": {
      "text/markdown": [
       "https://ztf.snad.space/view/793114300001267"
      ]
     },
     "metadata": {},
     "output_type": "display_data"
    },
    {
     "name": "stdout",
     "output_type": "stream",
     "text": [
      "KNN 171 \n",
      "\n"
     ]
    },
    {
     "data": {
      "text/markdown": [
       "https://ztf.snad.space/view/844109200003006"
      ]
     },
     "metadata": {},
     "output_type": "display_data"
    },
    {
     "name": "stdout",
     "output_type": "stream",
     "text": [
      "KNN 172 \n",
      "\n"
     ]
    },
    {
     "data": {
      "text/markdown": [
       "https://ztf.snad.space/view/726102400026107"
      ]
     },
     "metadata": {},
     "output_type": "display_data"
    },
    {
     "name": "stdout",
     "output_type": "stream",
     "text": [
      "KNN 173 \n",
      "\n"
     ]
    },
    {
     "data": {
      "text/markdown": [
       "https://ztf.snad.space/view/798106300034517"
      ]
     },
     "metadata": {},
     "output_type": "display_data"
    },
    {
     "name": "stdout",
     "output_type": "stream",
     "text": [
      "KNN 174 \n",
      "\n"
     ]
    },
    {
     "data": {
      "text/markdown": [
       "https://ztf.snad.space/view/626107400004433"
      ]
     },
     "metadata": {},
     "output_type": "display_data"
    },
    {
     "name": "stdout",
     "output_type": "stream",
     "text": [
      "KNN 175 \n",
      "\n"
     ]
    },
    {
     "data": {
      "text/markdown": [
       "https://ztf.snad.space/view/721105100002309"
      ]
     },
     "metadata": {},
     "output_type": "display_data"
    },
    {
     "name": "stdout",
     "output_type": "stream",
     "text": [
      "KNN 176 \n",
      "\n"
     ]
    },
    {
     "data": {
      "text/markdown": [
       "https://ztf.snad.space/view/765101400038908"
      ]
     },
     "metadata": {},
     "output_type": "display_data"
    },
    {
     "name": "stdout",
     "output_type": "stream",
     "text": [
      "KNN 177 \n",
      "\n"
     ]
    },
    {
     "data": {
      "text/markdown": [
       "https://ztf.snad.space/view/633111400007672"
      ]
     },
     "metadata": {},
     "output_type": "display_data"
    },
    {
     "name": "stdout",
     "output_type": "stream",
     "text": [
      "KNN 178 \n",
      "\n"
     ]
    },
    {
     "data": {
      "text/markdown": [
       "https://ztf.snad.space/view/794108200005886"
      ]
     },
     "metadata": {},
     "output_type": "display_data"
    },
    {
     "name": "stdout",
     "output_type": "stream",
     "text": [
      "KNN 179 \n",
      "\n"
     ]
    },
    {
     "data": {
      "text/markdown": [
       "https://ztf.snad.space/view/820101100001969"
      ]
     },
     "metadata": {},
     "output_type": "display_data"
    },
    {
     "name": "stdout",
     "output_type": "stream",
     "text": [
      "KNN 180 \n",
      "\n"
     ]
    },
    {
     "data": {
      "text/markdown": [
       "https://ztf.snad.space/view/594109100004321"
      ]
     },
     "metadata": {},
     "output_type": "display_data"
    },
    {
     "name": "stdout",
     "output_type": "stream",
     "text": [
      "KNN 181 \n",
      "\n"
     ]
    },
    {
     "data": {
      "text/markdown": [
       "https://ztf.snad.space/view/673103100001638"
      ]
     },
     "metadata": {},
     "output_type": "display_data"
    },
    {
     "name": "stdout",
     "output_type": "stream",
     "text": [
      "KNN 182 \n",
      "\n"
     ]
    },
    {
     "data": {
      "text/markdown": [
       "https://ztf.snad.space/view/720108400000417"
      ]
     },
     "metadata": {},
     "output_type": "display_data"
    },
    {
     "name": "stdout",
     "output_type": "stream",
     "text": [
      "KNN 183 \n",
      "\n"
     ]
    },
    {
     "data": {
      "text/markdown": [
       "https://ztf.snad.space/view/799115100000654"
      ]
     },
     "metadata": {},
     "output_type": "display_data"
    },
    {
     "name": "stdout",
     "output_type": "stream",
     "text": [
      "KNN 184 \n",
      "\n"
     ]
    },
    {
     "data": {
      "text/markdown": [
       "https://ztf.snad.space/view/723102100006159"
      ]
     },
     "metadata": {},
     "output_type": "display_data"
    },
    {
     "name": "stdout",
     "output_type": "stream",
     "text": [
      "KNN 185 \n",
      "\n"
     ]
    },
    {
     "data": {
      "text/markdown": [
       "https://ztf.snad.space/view/765101400037993"
      ]
     },
     "metadata": {},
     "output_type": "display_data"
    },
    {
     "name": "stdout",
     "output_type": "stream",
     "text": [
      "KNN 186 \n",
      "\n"
     ]
    },
    {
     "data": {
      "text/markdown": [
       "https://ztf.snad.space/view/789114400008943"
      ]
     },
     "metadata": {},
     "output_type": "display_data"
    },
    {
     "name": "stdout",
     "output_type": "stream",
     "text": [
      "KNN 187 \n",
      "\n"
     ]
    },
    {
     "data": {
      "text/markdown": [
       "https://ztf.snad.space/view/635105300019099"
      ]
     },
     "metadata": {},
     "output_type": "display_data"
    },
    {
     "name": "stdout",
     "output_type": "stream",
     "text": [
      "KNN 188 \n",
      "\n"
     ]
    },
    {
     "data": {
      "text/markdown": [
       "https://ztf.snad.space/view/636103300014529"
      ]
     },
     "metadata": {},
     "output_type": "display_data"
    },
    {
     "name": "stdout",
     "output_type": "stream",
     "text": [
      "KNN 189 \n",
      "\n"
     ]
    },
    {
     "data": {
      "text/markdown": [
       "https://ztf.snad.space/view/711105100000145"
      ]
     },
     "metadata": {},
     "output_type": "display_data"
    },
    {
     "name": "stdout",
     "output_type": "stream",
     "text": [
      "KNN 190 \n",
      "\n"
     ]
    },
    {
     "data": {
      "text/markdown": [
       "https://ztf.snad.space/view/536107100007124"
      ]
     },
     "metadata": {},
     "output_type": "display_data"
    },
    {
     "name": "stdout",
     "output_type": "stream",
     "text": [
      "KNN 191 \n",
      "\n"
     ]
    },
    {
     "data": {
      "text/markdown": [
       "https://ztf.snad.space/view/799111400025654"
      ]
     },
     "metadata": {},
     "output_type": "display_data"
    },
    {
     "name": "stdout",
     "output_type": "stream",
     "text": [
      "KNN 192 \n",
      "\n"
     ]
    },
    {
     "data": {
      "text/markdown": [
       "https://ztf.snad.space/view/683106100033432"
      ]
     },
     "metadata": {},
     "output_type": "display_data"
    },
    {
     "name": "stdout",
     "output_type": "stream",
     "text": [
      "KNN 193 \n",
      "\n"
     ]
    },
    {
     "data": {
      "text/markdown": [
       "https://ztf.snad.space/view/646113200001492"
      ]
     },
     "metadata": {},
     "output_type": "display_data"
    },
    {
     "name": "stdout",
     "output_type": "stream",
     "text": [
      "KNN 194 \n",
      "\n"
     ]
    },
    {
     "data": {
      "text/markdown": [
       "https://ztf.snad.space/view/677101100002183"
      ]
     },
     "metadata": {},
     "output_type": "display_data"
    },
    {
     "name": "stdout",
     "output_type": "stream",
     "text": [
      "KNN 195 \n",
      "\n"
     ]
    },
    {
     "data": {
      "text/markdown": [
       "https://ztf.snad.space/view/752113100002574"
      ]
     },
     "metadata": {},
     "output_type": "display_data"
    },
    {
     "name": "stdout",
     "output_type": "stream",
     "text": [
      "KNN 196 \n",
      "\n"
     ]
    },
    {
     "data": {
      "text/markdown": [
       "https://ztf.snad.space/view/681106200027577"
      ]
     },
     "metadata": {},
     "output_type": "display_data"
    },
    {
     "name": "stdout",
     "output_type": "stream",
     "text": [
      "KNN 197 \n",
      "\n"
     ]
    },
    {
     "data": {
      "text/markdown": [
       "https://ztf.snad.space/view/681106400000714"
      ]
     },
     "metadata": {},
     "output_type": "display_data"
    },
    {
     "name": "stdout",
     "output_type": "stream",
     "text": [
      "KNN 198 \n",
      "\n"
     ]
    },
    {
     "data": {
      "text/markdown": [
       "https://ztf.snad.space/view/682113300013408"
      ]
     },
     "metadata": {},
     "output_type": "display_data"
    },
    {
     "name": "stdout",
     "output_type": "stream",
     "text": [
      "KNN 199 \n",
      "\n"
     ]
    },
    {
     "data": {
      "text/markdown": [
       "https://ztf.snad.space/view/821115300012972"
      ]
     },
     "metadata": {},
     "output_type": "display_data"
    },
    {
     "name": "stdout",
     "output_type": "stream",
     "text": [
      "KNN 200 \n",
      "\n"
     ]
    },
    {
     "data": {
      "text/markdown": [
       "https://ztf.snad.space/view/817103100001382"
      ]
     },
     "metadata": {},
     "output_type": "display_data"
    }
   ],
   "source": [
    "from IPython.display import display_markdown\n",
    "\n",
    "for knn in range(0,ktot):\n",
    "    print(f\"KNN {knn+1} \\n\")\n",
    "    _ = [display_markdown(f'https://ztf.snad.space/view/{oid}', raw=True) for oid in \\\n",
    "         kdtree_results_df[f'knn={knn+1}_match_OID']]"
   ]
  },
  {
   "cell_type": "markdown",
   "metadata": {},
   "source": [
    "https://ztf.snad.space/view/587106400017817 AGN\n",
    "https://ztf.snad.space/view/633105400014971 AGN\n",
    "https://ztf.snad.space/view/635105200019309 SN (template image taken during SN, see https://alerce.online/object/ZTF18aakzlnq)\n",
    "https://ztf.snad.space/view/635111400000448 (template image taken during SN, see https://alerce.online/object/ZTF18aamnquz)\n",
    "https://ztf.snad.space/view/676102400000856 SN, not in Alert stream\n",
    "https://ztf.snad.space/view/676104100007808 SN/AGN, not in Alert stream\n",
    "https://ztf.snad.space/view/681106400000714 SN/AGN, not in Alert stream\n",
    "https://ztf.snad.space/view/783109400002438 SN\n",
    "https://ztf.snad.space/view/788105100004444 SN?/AGN\n",
    "https://ztf.snad.space/view/794105300002705 SN, not in Alert stream\n",
    "https://ztf.snad.space/view/798101400000531 Double peak SN!(maybe!) (see https://antares.noirlab.edu/loci/ANT2018dbixe)\n",
    "https://ztf.snad.space/view/822101200002926 SN\n",
    "https://ztf.snad.space/view/823101400006642 SN, not in Alert stream"
   ]
  }
 ],
 "metadata": {
  "kernelspec": {
   "display_name": "Python 3",
   "language": "python",
   "name": "python3"
  },
  "language_info": {
   "codemirror_mode": {
    "name": "ipython",
    "version": 3
   },
   "file_extension": ".py",
   "mimetype": "text/x-python",
   "name": "python",
   "nbconvert_exporter": "python",
   "pygments_lexer": "ipython3",
   "version": "3.8.12"
  }
 },
 "nbformat": 4,
 "nbformat_minor": 4
}
