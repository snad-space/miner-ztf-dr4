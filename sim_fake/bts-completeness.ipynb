{
 "cells": [
  {
   "cell_type": "code",
   "execution_count": 1,
   "id": "a1d27bb6",
   "metadata": {},
   "outputs": [],
   "source": [
    "import matplotlib; matplotlib.rc('font', size=14)\n",
    "import matplotlib.pyplot as plt\n",
    "import numpy as np\n",
    "import pandas as pd\n",
    "from datetime import datetime, timedelta\n",
    "from collections import Counter"
   ]
  },
  {
   "cell_type": "code",
   "execution_count": 2,
   "id": "826cd90b",
   "metadata": {},
   "outputs": [],
   "source": [
    "df = pd.read_csv(\n",
    "    'https://sites.astro.caltech.edu/ztf/bts/explorer.php?f=s&subsample=sn&classstring=&classexclude=&showdiscdate=y&ztflink=lasair&lastdet=&startsavedate=&startpeakdate=&startra=&startdec=&startz=&startdur=&startrise=&startfade=&startpeakmag=&startabsmag=&starthostabs=&starthostcol=&startb=&startav=&endsavedate=&endpeakdate=&endra=&enddec=&endz=&enddur=&endrise=&endfade=&endpeakmag=&endabsmag=&endhostabs=&endhostcol=&endb=&endav=&format=csv',\n",
    ")\n",
    "df['discdate'] = pd.to_datetime(df['discdate'])"
   ]
  },
  {
   "cell_type": "code",
   "execution_count": 3,
   "id": "a3384447",
   "metadata": {
    "scrolled": false
   },
   "outputs": [
    {
     "name": "stdout",
     "output_type": "stream",
     "text": [
      "2018-03-01 00:00:00, count=1012 +- 32.0\n",
      "2019-03-01 00:00:00, count=1753 +- 42.0\n"
     ]
    },
    {
     "data": {
      "image/png": "[encoded data removed]",
      "text/plain": [
       "<Figure size 720x432 with 1 Axes>"
      ]
     },
     "metadata": {
      "needs_background": "light"
     },
     "output_type": "display_data"
    }
   ],
   "source": [
    "counter = Counter()\n",
    "counter.update(datetime(d.year, d.month, 1) for d in df['discdate'])\n",
    "year = timedelta(days=365)\n",
    "plt.figure(figsize=(10, 6))\n",
    "colors = ['#377eb8', '#ff7f00']\n",
    "for i, dt1 in enumerate([datetime(2018, 3, 1), datetime(2019, 3, 1)]):\n",
    "    dt2 = dt1 + year\n",
    "    dates, counts = zip(*((date - year * (dt1.year == 2019), count)\n",
    "                        for date, count in counter.items() if dt1 <= date < dt2))\n",
    "    tot_counts = sum(counts)\n",
    "    print(f'{dt1}, count={tot_counts} +- {np.round(np.sqrt(tot_counts))}')\n",
    "    plt.bar(dates, counts, width=20, alpha=0.6 - i*0.1, zorder=-i, color=colors[i],\n",
    "            label=f'Mar {dt1.year} — Feb {dt2.year}, N = {tot_counts}')\n",
    "plt.xticks([datetime(2018, i, 1) for i in range(3, 13)] + [datetime(2019, i, 1) for i in range(1, 3)],\n",
    "           ['Mar', 'Apr', 'May', 'Jun', 'Jul', 'Aug', 'Sep', 'Oct', 'Nov', 'Dec', 'Jan', 'Feb'])\n",
    "plt.legend()\n",
    "plt.savefig('bts-chart.pdf')"
   ]
  }
 ],
 "metadata": {
  "kernelspec": {
   "display_name": "Python 3 (ipykernel)",
   "language": "python",
   "name": "python3"
  },
  "language_info": {
   "codemirror_mode": {
    "name": "ipython",
    "version": 3
   },
   "file_extension": ".py",
   "mimetype": "text/x-python",
   "name": "python",
   "nbconvert_exporter": "python",
   "pygments_lexer": "ipython3",
   "version": "3.9.10"
  }
 },
 "nbformat": 4,
 "nbformat_minor": 5
}
