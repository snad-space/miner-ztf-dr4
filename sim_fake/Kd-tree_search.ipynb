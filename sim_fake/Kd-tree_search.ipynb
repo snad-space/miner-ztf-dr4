{
 "cells": [
  {
   "cell_type": "code",
   "execution_count": 1,
   "metadata": {},
   "outputs": [],
   "source": [
    "%matplotlib inline\n",
    "\n",
    "import time\n",
    "import numpy as np\n",
    "import pandas as pd\n",
    "import os\n",
    "import sys\n",
    "import pickle\n",
    "import matplotlib.pyplot as plt\n",
    "\n",
    "%config InlineBackend.figure_format = 'retina'"
   ]
  },
  {
   "cell_type": "code",
   "execution_count": 2,
   "metadata": {},
   "outputs": [],
   "source": [
    "from pathlib import Path\n",
    "import os\n",
    "import sys\n",
    "from validutils_zwad.read_data import read_data"
   ]
  },
  {
   "cell_type": "code",
   "execution_count": 3,
   "metadata": {},
   "outputs": [],
   "source": [
    "# First of all: load data\n",
    "\n",
    "from zwad.utils import load_data\n",
    "\n",
    "def feature_file(oid_file):\n",
    "    parent = oid_file.parent\n",
    "    if oid_file.name.startswith('oid_'):\n",
    "        name = oid_file.name.replace('oid_', 'feature_')\n",
    "    else:\n",
    "        name = oid_file.name.replace('sid_', 'feature_')\n",
    "    \n",
    "    return parent.joinpath(name)\n",
    "    \n",
    "\n",
    "datadir = Path('../features_data', 'dr4_new')\n",
    "sid_extragal_gr = datadir.joinpath('sid_extragal_short_gr_100_rchi2min3.dat')\n",
    "feature_extragal_gr = feature_file(sid_extragal_gr)\n",
    "\n",
    "fakesdir = Path('../sim_fake', 'output')\n",
    "sid_fakes = list(fakesdir.glob('oid_*.dat'))\n",
    "feature_fakes = [feature_file(s) for s in sid_fakes]\n",
    "\n",
    "\n",
    "fakesids, fakefeatures = load_data(sid_fakes, feature_fakes)\n",
    "dr4sids, dr4features = load_data([sid_extragal_gr], [feature_extragal_gr])\n",
    "sids, features = load_data([sid_extragal_gr] + sid_fakes, [feature_extragal_gr] + feature_fakes)"
   ]
  },
  {
   "cell_type": "code",
   "execution_count": 4,
   "metadata": {},
   "outputs": [
    {
     "name": "stderr",
     "output_type": "stream",
     "text": [
      "<ipython-input-4-7ab99dbe4acd>:2: FutureWarning: Using a non-tuple sequence for multidimensional indexing is deprecated; use `arr[tuple(seq)]` instead of `arr[seq]`. In the future this will be interpreted as an array index, `arr[np.array(seq)]`, which will result either in an error or a different result.\n",
      "  dr4_sids = sids[dr4_index]\n",
      "<ipython-input-4-7ab99dbe4acd>:3: FutureWarning: Using a non-tuple sequence for multidimensional indexing is deprecated; use `arr[tuple(seq)]` instead of `arr[seq]`. In the future this will be interpreted as an array index, `arr[np.array(seq)]`, which will result either in an error or a different result.\n",
      "  dr4_features = features[dr4_index]\n",
      "<ipython-input-4-7ab99dbe4acd>:6: FutureWarning: Using a non-tuple sequence for multidimensional indexing is deprecated; use `arr[tuple(seq)]` instead of `arr[seq]`. In the future this will be interpreted as an array index, `arr[np.array(seq)]`, which will result either in an error or a different result.\n",
      "  fakes_sids = sids[fakes_index]\n",
      "<ipython-input-4-7ab99dbe4acd>:7: FutureWarning: Using a non-tuple sequence for multidimensional indexing is deprecated; use `arr[tuple(seq)]` instead of `arr[seq]`. In the future this will be interpreted as an array index, `arr[np.array(seq)]`, which will result either in an error or a different result.\n",
      "  fakes_features = features[fakes_index]\n"
     ]
    }
   ],
   "source": [
    "dr4_index = [sids > 1e10]\n",
    "dr4_sids = sids[dr4_index]\n",
    "dr4_features = features[dr4_index]\n",
    "\n",
    "fakes_index = [sids < 1e10]\n",
    "fakes_sids = sids[fakes_index]\n",
    "fakes_features = features[fakes_index]\n",
    "\n",
    "feature_names = Path('../features_data', \n",
    "                     'dr4_new', \n",
    "                     'feature_extragal_short_gr_100_rchi2min3.name').open('r').read().split('\\n')[:-1] #drop extra white space at end\n",
    "\n",
    "dr4_df = pd.DataFrame(dr4_features, index=dr4_sids, columns=feature_names)\n",
    "fakes_df = pd.DataFrame(fakes_features, index=fakes_sids, columns=feature_names)\n"
   ]
  },
  {
   "cell_type": "code",
   "execution_count": 5,
   "metadata": {},
   "outputs": [
    {
     "data": {
      "text/plain": [
       "['amplitude_magn_g',\n",
       " 'anderson_darling_normal_magn_g',\n",
       " 'beyond_1_std_magn_g',\n",
       " 'beyond_2_std_magn_g',\n",
       " 'cusum_magn_g',\n",
       " 'eta_e_magn_g',\n",
       " 'inter_percentile_range_2_magn_g',\n",
       " 'inter_percentile_range_10_magn_g',\n",
       " 'inter_percentile_range_25_magn_g',\n",
       " 'kurtosis_magn_g',\n",
       " 'linear_fit_slope_magn_g',\n",
       " 'linear_fit_slope_sigma_magn_g',\n",
       " 'linear_fit_reduced_chi2_magn_g',\n",
       " 'linear_trend_magn_g',\n",
       " 'linear_trend_sigma_magn_g',\n",
       " 'magnitude_percentage_ratio_40_5_magn_g',\n",
       " 'magnitude_percentage_ratio_20_5_magn_g',\n",
       " 'maximum_slope_magn_g',\n",
       " 'mean_magn_g',\n",
       " 'median_absolute_deviation_magn_g',\n",
       " 'median_buffer_range_percentage_10_magn_g',\n",
       " 'median_buffer_range_percentage_20_magn_g',\n",
       " 'percent_amplitude_magn_g',\n",
       " 'percent_difference_magnitude_percentile_5_magn_g',\n",
       " 'percent_difference_magnitude_percentile_10_magn_g',\n",
       " 'period_0_magn_g',\n",
       " 'period_s_to_n_0_magn_g',\n",
       " 'period_1_magn_g',\n",
       " 'period_s_to_n_1_magn_g',\n",
       " 'period_2_magn_g',\n",
       " 'period_s_to_n_2_magn_g',\n",
       " 'period_3_magn_g',\n",
       " 'period_s_to_n_3_magn_g',\n",
       " 'period_4_magn_g',\n",
       " 'period_s_to_n_4_magn_g',\n",
       " 'periodogram_amplitude_magn_g',\n",
       " 'periodogram_beyond_2_std_magn_g',\n",
       " 'periodogram_beyond_3_std_magn_g',\n",
       " 'periodogram_standard_deviation_magn_g',\n",
       " 'chi2_magn_g',\n",
       " 'skew_magn_g',\n",
       " 'standard_deviation_magn_g',\n",
       " 'stetson_K_magn_g',\n",
       " 'weighted_mean_magn_g',\n",
       " 'anderson_darling_normal_flux_g',\n",
       " 'cusum_flux_g',\n",
       " 'eta_e_flux_g',\n",
       " 'excess_variance_flux_g',\n",
       " 'kurtosis_flux_g',\n",
       " 'mean_variance_flux_g',\n",
       " 'chi2_flux_g',\n",
       " 'skew_flux_g',\n",
       " 'stetson_K_flux_g',\n",
       " 'amplitude_magn_r',\n",
       " 'anderson_darling_normal_magn_r',\n",
       " 'beyond_1_std_magn_r',\n",
       " 'beyond_2_std_magn_r',\n",
       " 'cusum_magn_r',\n",
       " 'eta_e_magn_r',\n",
       " 'inter_percentile_range_2_magn_r',\n",
       " 'inter_percentile_range_10_magn_r',\n",
       " 'inter_percentile_range_25_magn_r',\n",
       " 'kurtosis_magn_r',\n",
       " 'linear_fit_slope_magn_r',\n",
       " 'linear_fit_slope_sigma_magn_r',\n",
       " 'linear_fit_reduced_chi2_magn_r',\n",
       " 'linear_trend_magn_r',\n",
       " 'linear_trend_sigma_magn_r',\n",
       " 'magnitude_percentage_ratio_40_5_magn_r',\n",
       " 'magnitude_percentage_ratio_20_5_magn_r',\n",
       " 'maximum_slope_magn_r',\n",
       " 'mean_magn_r',\n",
       " 'median_absolute_deviation_magn_r',\n",
       " 'median_buffer_range_percentage_10_magn_r',\n",
       " 'median_buffer_range_percentage_20_magn_r',\n",
       " 'percent_amplitude_magn_r',\n",
       " 'percent_difference_magnitude_percentile_5_magn_r',\n",
       " 'percent_difference_magnitude_percentile_10_magn_r',\n",
       " 'period_0_magn_r',\n",
       " 'period_s_to_n_0_magn_r',\n",
       " 'period_1_magn_r',\n",
       " 'period_s_to_n_1_magn_r',\n",
       " 'period_2_magn_r',\n",
       " 'period_s_to_n_2_magn_r',\n",
       " 'period_3_magn_r',\n",
       " 'period_s_to_n_3_magn_r',\n",
       " 'period_4_magn_r',\n",
       " 'period_s_to_n_4_magn_r',\n",
       " 'periodogram_amplitude_magn_r',\n",
       " 'periodogram_beyond_2_std_magn_r',\n",
       " 'periodogram_beyond_3_std_magn_r',\n",
       " 'periodogram_standard_deviation_magn_r',\n",
       " 'chi2_magn_r',\n",
       " 'skew_magn_r',\n",
       " 'standard_deviation_magn_r',\n",
       " 'stetson_K_magn_r',\n",
       " 'weighted_mean_magn_r',\n",
       " 'anderson_darling_normal_flux_r',\n",
       " 'cusum_flux_r',\n",
       " 'eta_e_flux_r',\n",
       " 'excess_variance_flux_r',\n",
       " 'kurtosis_flux_r',\n",
       " 'mean_variance_flux_r',\n",
       " 'chi2_flux_r',\n",
       " 'skew_flux_r',\n",
       " 'stetson_K_flux_r']"
      ]
     },
     "execution_count": 5,
     "metadata": {},
     "output_type": "execute_result"
    }
   ],
   "source": [
    "feature_names"
   ]
  },
  {
   "cell_type": "code",
   "execution_count": 6,
   "metadata": {},
   "outputs": [],
   "source": [
    "drop_features_list = ['eta_e_magn_g', \n",
    "                      'linear_fit_reduced_chi2_magn_g',\n",
    "                      'maximum_slope_magn_g', \n",
    "                      'period_0_magn_g', \n",
    "                      'period_1_magn_g',\n",
    "                      'period_2_magn_g',\n",
    "                      'period_3_magn_g',\n",
    "                      'period_4_magn_g',\n",
    "                      'periodogram_amplitude_magn_g',\n",
    "                      'chi2_magn_g',\n",
    "                      'eta_e_flux_g',\n",
    "                      'chi2_flux_g',\n",
    "                      'eta_e_magn_r',\n",
    "                      'linear_fit_reduced_chi2_magn_r',\n",
    "                      'maximum_slope_magn_r',\n",
    "                      'period_0_magn_r',\n",
    "                      'period_1_magn_r',\n",
    "                      'period_2_magn_r',\n",
    "                      'period_3_magn_r',\n",
    "                      'period_4_magn_r',\n",
    "                      'periodogram_amplitude_magn_r',\n",
    "                      'chi2_magn_r',\n",
    "                      'eta_e_flux_r',\n",
    "                      'chi2_flux_r']\n",
    "\n",
    "dr4_df = dr4_df.drop(columns=drop_features_list)\n",
    "fakes_df = fakes_df.drop(columns=drop_features_list)\n",
    "\n",
    "dr4_df.index.name = 'sid'\n",
    "fakes_df.index.name = 'sid'\n",
    "\n",
    "# Restrict fakes_df to the 7 we used in the mining\n",
    "#'6439074373', #TDE \n",
    "#'9020928999', #SN Ia\n",
    "#'6011793767', #SLSN\n",
    "#'4229763628', #SN II\n",
    "#'6417979422', #TDE-- \n",
    "#'6031286883', #SLSN\n",
    "#'604029941', #SLSN--\n",
    "\n",
    "fakes_mining_sids = ['6439074373', '9020928999', '6011793767', '4229763628', '6417979422', '6031286883', '604029941']\n",
    "fakes_mining_sids_int = list(map(int, fakes_mining_sids))\n",
    "\n",
    "fakes_df = fakes_df[fakes_df.index.isin(fakes_mining_sids)].drop_duplicates()\n",
    "fakes_df = fakes_df.reindex(fakes_mining_sids_int)\n",
    "\n",
    "# Save fakes Df and DR4 DF \n",
    "#fakes_df.to_csv(\"./dataframes/orig_fakes_df.csv.gzip\", compression='gzip')\n",
    "#dr4_df.to_csv(\"./dataframes/orig_dr4_df.csv.gzip\", compression='gzip')"
   ]
  },
  {
   "cell_type": "markdown",
   "metadata": {},
   "source": [
    "# Load"
   ]
  },
  {
   "cell_type": "code",
   "execution_count": 7,
   "metadata": {},
   "outputs": [],
   "source": [
    "# Load fakes Df and DR4 DF from find_closest_fake_detction\n",
    "#fakes_df = pd.read_csv(\"./dataframes/orig_fakes_df.csv.gzip\", compression='gzip', index_col=0)\n",
    "#dr4_df = pd.read_csv(\"./dataframes/orig_dr4_df.csv.gzip\", compression='gzip', index_col=0)\n",
    "\n",
    "fakes_mining_sids = ['6439074373', '9020928999', '6011793767', '4229763628', '6417979422', '6031286883', '604029941']\n",
    "fakes_mining_sids_int = list(map(int, fakes_mining_sids))\n",
    "\n",
    "fakes_df = fakes_df.reindex(fakes_mining_sids_int)\n",
    "\n",
    "# Load fakes Df and DR4 DF from find_closest_fake_detction\n",
    "#fakes_df = pd.read_csv(\"./dataframes/fakes_df.csv.gzip\", compression='gzip', index_col=0)\n",
    "#dr4_df = pd.read_csv(\"./dataframes/dr4_df.csv.gzip\", compression='gzip', index_col=0)"
   ]
  },
  {
   "cell_type": "code",
   "execution_count": 8,
   "metadata": {},
   "outputs": [
    {
     "data": {
      "text/html": [
       "<div>\n",
       "<style scoped>\n",
       "    .dataframe tbody tr th:only-of-type {\n",
       "        vertical-align: middle;\n",
       "    }\n",
       "\n",
       "    .dataframe tbody tr th {\n",
       "        vertical-align: top;\n",
       "    }\n",
       "\n",
       "    .dataframe thead th {\n",
       "        text-align: right;\n",
       "    }\n",
       "</style>\n",
       "<table border=\"1\" class=\"dataframe\">\n",
       "  <thead>\n",
       "    <tr style=\"text-align: right;\">\n",
       "      <th></th>\n",
       "      <th>amplitude_magn_g</th>\n",
       "      <th>anderson_darling_normal_magn_g</th>\n",
       "      <th>beyond_1_std_magn_g</th>\n",
       "      <th>beyond_2_std_magn_g</th>\n",
       "      <th>cusum_magn_g</th>\n",
       "      <th>inter_percentile_range_2_magn_g</th>\n",
       "      <th>inter_percentile_range_10_magn_g</th>\n",
       "      <th>inter_percentile_range_25_magn_g</th>\n",
       "      <th>kurtosis_magn_g</th>\n",
       "      <th>linear_fit_slope_magn_g</th>\n",
       "      <th>...</th>\n",
       "      <th>standard_deviation_magn_r</th>\n",
       "      <th>stetson_K_magn_r</th>\n",
       "      <th>weighted_mean_magn_r</th>\n",
       "      <th>anderson_darling_normal_flux_r</th>\n",
       "      <th>cusum_flux_r</th>\n",
       "      <th>excess_variance_flux_r</th>\n",
       "      <th>kurtosis_flux_r</th>\n",
       "      <th>mean_variance_flux_r</th>\n",
       "      <th>skew_flux_r</th>\n",
       "      <th>stetson_K_flux_r</th>\n",
       "    </tr>\n",
       "    <tr>\n",
       "      <th>sid</th>\n",
       "      <th></th>\n",
       "      <th></th>\n",
       "      <th></th>\n",
       "      <th></th>\n",
       "      <th></th>\n",
       "      <th></th>\n",
       "      <th></th>\n",
       "      <th></th>\n",
       "      <th></th>\n",
       "      <th></th>\n",
       "      <th></th>\n",
       "      <th></th>\n",
       "      <th></th>\n",
       "      <th></th>\n",
       "      <th></th>\n",
       "      <th></th>\n",
       "      <th></th>\n",
       "      <th></th>\n",
       "      <th></th>\n",
       "      <th></th>\n",
       "      <th></th>\n",
       "    </tr>\n",
       "  </thead>\n",
       "  <tbody>\n",
       "    <tr>\n",
       "      <th>245101100000933</th>\n",
       "      <td>0.177000</td>\n",
       "      <td>3.696596</td>\n",
       "      <td>0.370000</td>\n",
       "      <td>0.030000</td>\n",
       "      <td>0.158870</td>\n",
       "      <td>0.341499</td>\n",
       "      <td>0.286501</td>\n",
       "      <td>0.158501</td>\n",
       "      <td>-0.787381</td>\n",
       "      <td>-0.000212</td>\n",
       "      <td>...</td>\n",
       "      <td>0.097860</td>\n",
       "      <td>0.851286</td>\n",
       "      <td>15.842624</td>\n",
       "      <td>2.711263</td>\n",
       "      <td>0.099072</td>\n",
       "      <td>0.007498</td>\n",
       "      <td>-0.944294</td>\n",
       "      <td>0.087656</td>\n",
       "      <td>-0.507747</td>\n",
       "      <td>0.844530</td>\n",
       "    </tr>\n",
       "    <tr>\n",
       "      <th>245101100009703</th>\n",
       "      <td>0.293500</td>\n",
       "      <td>2.724011</td>\n",
       "      <td>0.290000</td>\n",
       "      <td>0.060000</td>\n",
       "      <td>0.184453</td>\n",
       "      <td>0.523001</td>\n",
       "      <td>0.333000</td>\n",
       "      <td>0.104000</td>\n",
       "      <td>0.201318</td>\n",
       "      <td>-0.001444</td>\n",
       "      <td>...</td>\n",
       "      <td>0.130134</td>\n",
       "      <td>0.869721</td>\n",
       "      <td>15.653200</td>\n",
       "      <td>4.130320</td>\n",
       "      <td>0.156431</td>\n",
       "      <td>0.013800</td>\n",
       "      <td>-1.050300</td>\n",
       "      <td>0.118238</td>\n",
       "      <td>-0.059173</td>\n",
       "      <td>0.909857</td>\n",
       "    </tr>\n",
       "    <tr>\n",
       "      <th>245101100010242</th>\n",
       "      <td>0.328500</td>\n",
       "      <td>5.493390</td>\n",
       "      <td>0.190000</td>\n",
       "      <td>0.050000</td>\n",
       "      <td>0.229448</td>\n",
       "      <td>0.559999</td>\n",
       "      <td>0.220499</td>\n",
       "      <td>0.094999</td>\n",
       "      <td>5.286414</td>\n",
       "      <td>-0.001808</td>\n",
       "      <td>...</td>\n",
       "      <td>0.068449</td>\n",
       "      <td>0.672620</td>\n",
       "      <td>16.533829</td>\n",
       "      <td>4.853297</td>\n",
       "      <td>0.187999</td>\n",
       "      <td>0.004273</td>\n",
       "      <td>8.948397</td>\n",
       "      <td>0.067449</td>\n",
       "      <td>2.465220</td>\n",
       "      <td>0.683464</td>\n",
       "    </tr>\n",
       "    <tr>\n",
       "      <th>245104200000799</th>\n",
       "      <td>0.329500</td>\n",
       "      <td>2.502895</td>\n",
       "      <td>0.467290</td>\n",
       "      <td>0.000000</td>\n",
       "      <td>0.089224</td>\n",
       "      <td>0.593760</td>\n",
       "      <td>0.490400</td>\n",
       "      <td>0.350000</td>\n",
       "      <td>-1.362500</td>\n",
       "      <td>0.000242</td>\n",
       "      <td>...</td>\n",
       "      <td>0.123850</td>\n",
       "      <td>0.858237</td>\n",
       "      <td>17.937359</td>\n",
       "      <td>1.524028</td>\n",
       "      <td>0.131790</td>\n",
       "      <td>0.011540</td>\n",
       "      <td>-0.980239</td>\n",
       "      <td>0.112776</td>\n",
       "      <td>-0.026306</td>\n",
       "      <td>0.870056</td>\n",
       "    </tr>\n",
       "    <tr>\n",
       "      <th>245104200000939</th>\n",
       "      <td>2.293000</td>\n",
       "      <td>12.605539</td>\n",
       "      <td>0.066038</td>\n",
       "      <td>0.056604</td>\n",
       "      <td>0.177457</td>\n",
       "      <td>4.114202</td>\n",
       "      <td>1.156300</td>\n",
       "      <td>0.426999</td>\n",
       "      <td>9.274009</td>\n",
       "      <td>-0.003301</td>\n",
       "      <td>...</td>\n",
       "      <td>0.394907</td>\n",
       "      <td>0.789900</td>\n",
       "      <td>15.854793</td>\n",
       "      <td>1.492581</td>\n",
       "      <td>0.322914</td>\n",
       "      <td>0.081920</td>\n",
       "      <td>0.337605</td>\n",
       "      <td>0.286570</td>\n",
       "      <td>0.109400</td>\n",
       "      <td>0.675794</td>\n",
       "    </tr>\n",
       "    <tr>\n",
       "      <th>...</th>\n",
       "      <td>...</td>\n",
       "      <td>...</td>\n",
       "      <td>...</td>\n",
       "      <td>...</td>\n",
       "      <td>...</td>\n",
       "      <td>...</td>\n",
       "      <td>...</td>\n",
       "      <td>...</td>\n",
       "      <td>...</td>\n",
       "      <td>...</td>\n",
       "      <td>...</td>\n",
       "      <td>...</td>\n",
       "      <td>...</td>\n",
       "      <td>...</td>\n",
       "      <td>...</td>\n",
       "      <td>...</td>\n",
       "      <td>...</td>\n",
       "      <td>...</td>\n",
       "      <td>...</td>\n",
       "      <td>...</td>\n",
       "      <td>...</td>\n",
       "    </tr>\n",
       "    <tr>\n",
       "      <th>1597113100010642</th>\n",
       "      <td>0.483999</td>\n",
       "      <td>1.274301</td>\n",
       "      <td>0.293578</td>\n",
       "      <td>0.055046</td>\n",
       "      <td>0.187018</td>\n",
       "      <td>0.595680</td>\n",
       "      <td>0.369799</td>\n",
       "      <td>0.157999</td>\n",
       "      <td>1.613005</td>\n",
       "      <td>-0.001550</td>\n",
       "      <td>...</td>\n",
       "      <td>0.107312</td>\n",
       "      <td>0.680863</td>\n",
       "      <td>18.940697</td>\n",
       "      <td>5.417244</td>\n",
       "      <td>0.233112</td>\n",
       "      <td>0.008082</td>\n",
       "      <td>5.852146</td>\n",
       "      <td>0.105139</td>\n",
       "      <td>1.738649</td>\n",
       "      <td>0.670839</td>\n",
       "    </tr>\n",
       "    <tr>\n",
       "      <th>1597113100019088</th>\n",
       "      <td>0.323501</td>\n",
       "      <td>1.453954</td>\n",
       "      <td>0.271186</td>\n",
       "      <td>0.076271</td>\n",
       "      <td>0.202899</td>\n",
       "      <td>0.490780</td>\n",
       "      <td>0.252100</td>\n",
       "      <td>0.097000</td>\n",
       "      <td>1.162233</td>\n",
       "      <td>-0.001054</td>\n",
       "      <td>...</td>\n",
       "      <td>0.079516</td>\n",
       "      <td>0.702109</td>\n",
       "      <td>17.359133</td>\n",
       "      <td>3.377403</td>\n",
       "      <td>0.154508</td>\n",
       "      <td>0.005559</td>\n",
       "      <td>5.974216</td>\n",
       "      <td>0.076836</td>\n",
       "      <td>1.682657</td>\n",
       "      <td>0.710270</td>\n",
       "    </tr>\n",
       "    <tr>\n",
       "      <th>1597113100031221</th>\n",
       "      <td>0.074500</td>\n",
       "      <td>0.266636</td>\n",
       "      <td>0.307692</td>\n",
       "      <td>0.025641</td>\n",
       "      <td>0.153808</td>\n",
       "      <td>0.093640</td>\n",
       "      <td>0.060800</td>\n",
       "      <td>0.032499</td>\n",
       "      <td>1.197538</td>\n",
       "      <td>-0.000101</td>\n",
       "      <td>...</td>\n",
       "      <td>0.031295</td>\n",
       "      <td>0.753234</td>\n",
       "      <td>13.399863</td>\n",
       "      <td>0.861085</td>\n",
       "      <td>0.155385</td>\n",
       "      <td>0.000762</td>\n",
       "      <td>1.899416</td>\n",
       "      <td>0.029034</td>\n",
       "      <td>0.619902</td>\n",
       "      <td>0.756356</td>\n",
       "    </tr>\n",
       "    <tr>\n",
       "      <th>1687113100001669</th>\n",
       "      <td>0.159000</td>\n",
       "      <td>1.292889</td>\n",
       "      <td>0.290000</td>\n",
       "      <td>0.030000</td>\n",
       "      <td>0.197375</td>\n",
       "      <td>0.234001</td>\n",
       "      <td>0.160500</td>\n",
       "      <td>0.078501</td>\n",
       "      <td>0.713989</td>\n",
       "      <td>0.000201</td>\n",
       "      <td>...</td>\n",
       "      <td>0.080559</td>\n",
       "      <td>0.760526</td>\n",
       "      <td>16.968489</td>\n",
       "      <td>2.260365</td>\n",
       "      <td>0.096540</td>\n",
       "      <td>0.005724</td>\n",
       "      <td>2.714355</td>\n",
       "      <td>0.077019</td>\n",
       "      <td>1.257489</td>\n",
       "      <td>0.769287</td>\n",
       "    </tr>\n",
       "    <tr>\n",
       "      <th>1687113100029111</th>\n",
       "      <td>0.138000</td>\n",
       "      <td>1.068936</td>\n",
       "      <td>0.350000</td>\n",
       "      <td>0.020000</td>\n",
       "      <td>0.183042</td>\n",
       "      <td>0.242001</td>\n",
       "      <td>0.198501</td>\n",
       "      <td>0.103000</td>\n",
       "      <td>-0.792017</td>\n",
       "      <td>0.000233</td>\n",
       "      <td>...</td>\n",
       "      <td>0.081708</td>\n",
       "      <td>0.794921</td>\n",
       "      <td>14.718286</td>\n",
       "      <td>2.403147</td>\n",
       "      <td>0.126173</td>\n",
       "      <td>0.005905</td>\n",
       "      <td>0.803636</td>\n",
       "      <td>0.077406</td>\n",
       "      <td>0.935121</td>\n",
       "      <td>0.793232</td>\n",
       "    </tr>\n",
       "  </tbody>\n",
       "</table>\n",
       "<p>990220 rows × 82 columns</p>\n",
       "</div>"
      ],
      "text/plain": [
       "                  amplitude_magn_g  anderson_darling_normal_magn_g  \\\n",
       "sid                                                                  \n",
       "245101100000933           0.177000                        3.696596   \n",
       "245101100009703           0.293500                        2.724011   \n",
       "245101100010242           0.328500                        5.493390   \n",
       "245104200000799           0.329500                        2.502895   \n",
       "245104200000939           2.293000                       12.605539   \n",
       "...                            ...                             ...   \n",
       "1597113100010642          0.483999                        1.274301   \n",
       "1597113100019088          0.323501                        1.453954   \n",
       "1597113100031221          0.074500                        0.266636   \n",
       "1687113100001669          0.159000                        1.292889   \n",
       "1687113100029111          0.138000                        1.068936   \n",
       "\n",
       "                  beyond_1_std_magn_g  beyond_2_std_magn_g  cusum_magn_g  \\\n",
       "sid                                                                        \n",
       "245101100000933              0.370000             0.030000      0.158870   \n",
       "245101100009703              0.290000             0.060000      0.184453   \n",
       "245101100010242              0.190000             0.050000      0.229448   \n",
       "245104200000799              0.467290             0.000000      0.089224   \n",
       "245104200000939              0.066038             0.056604      0.177457   \n",
       "...                               ...                  ...           ...   \n",
       "1597113100010642             0.293578             0.055046      0.187018   \n",
       "1597113100019088             0.271186             0.076271      0.202899   \n",
       "1597113100031221             0.307692             0.025641      0.153808   \n",
       "1687113100001669             0.290000             0.030000      0.197375   \n",
       "1687113100029111             0.350000             0.020000      0.183042   \n",
       "\n",
       "                  inter_percentile_range_2_magn_g  \\\n",
       "sid                                                 \n",
       "245101100000933                          0.341499   \n",
       "245101100009703                          0.523001   \n",
       "245101100010242                          0.559999   \n",
       "245104200000799                          0.593760   \n",
       "245104200000939                          4.114202   \n",
       "...                                           ...   \n",
       "1597113100010642                         0.595680   \n",
       "1597113100019088                         0.490780   \n",
       "1597113100031221                         0.093640   \n",
       "1687113100001669                         0.234001   \n",
       "1687113100029111                         0.242001   \n",
       "\n",
       "                  inter_percentile_range_10_magn_g  \\\n",
       "sid                                                  \n",
       "245101100000933                           0.286501   \n",
       "245101100009703                           0.333000   \n",
       "245101100010242                           0.220499   \n",
       "245104200000799                           0.490400   \n",
       "245104200000939                           1.156300   \n",
       "...                                            ...   \n",
       "1597113100010642                          0.369799   \n",
       "1597113100019088                          0.252100   \n",
       "1597113100031221                          0.060800   \n",
       "1687113100001669                          0.160500   \n",
       "1687113100029111                          0.198501   \n",
       "\n",
       "                  inter_percentile_range_25_magn_g  kurtosis_magn_g  \\\n",
       "sid                                                                   \n",
       "245101100000933                           0.158501        -0.787381   \n",
       "245101100009703                           0.104000         0.201318   \n",
       "245101100010242                           0.094999         5.286414   \n",
       "245104200000799                           0.350000        -1.362500   \n",
       "245104200000939                           0.426999         9.274009   \n",
       "...                                            ...              ...   \n",
       "1597113100010642                          0.157999         1.613005   \n",
       "1597113100019088                          0.097000         1.162233   \n",
       "1597113100031221                          0.032499         1.197538   \n",
       "1687113100001669                          0.078501         0.713989   \n",
       "1687113100029111                          0.103000        -0.792017   \n",
       "\n",
       "                  linear_fit_slope_magn_g  ...  standard_deviation_magn_r  \\\n",
       "sid                                        ...                              \n",
       "245101100000933                 -0.000212  ...                   0.097860   \n",
       "245101100009703                 -0.001444  ...                   0.130134   \n",
       "245101100010242                 -0.001808  ...                   0.068449   \n",
       "245104200000799                  0.000242  ...                   0.123850   \n",
       "245104200000939                 -0.003301  ...                   0.394907   \n",
       "...                                   ...  ...                        ...   \n",
       "1597113100010642                -0.001550  ...                   0.107312   \n",
       "1597113100019088                -0.001054  ...                   0.079516   \n",
       "1597113100031221                -0.000101  ...                   0.031295   \n",
       "1687113100001669                 0.000201  ...                   0.080559   \n",
       "1687113100029111                 0.000233  ...                   0.081708   \n",
       "\n",
       "                  stetson_K_magn_r  weighted_mean_magn_r  \\\n",
       "sid                                                        \n",
       "245101100000933           0.851286             15.842624   \n",
       "245101100009703           0.869721             15.653200   \n",
       "245101100010242           0.672620             16.533829   \n",
       "245104200000799           0.858237             17.937359   \n",
       "245104200000939           0.789900             15.854793   \n",
       "...                            ...                   ...   \n",
       "1597113100010642          0.680863             18.940697   \n",
       "1597113100019088          0.702109             17.359133   \n",
       "1597113100031221          0.753234             13.399863   \n",
       "1687113100001669          0.760526             16.968489   \n",
       "1687113100029111          0.794921             14.718286   \n",
       "\n",
       "                  anderson_darling_normal_flux_r  cusum_flux_r  \\\n",
       "sid                                                              \n",
       "245101100000933                         2.711263      0.099072   \n",
       "245101100009703                         4.130320      0.156431   \n",
       "245101100010242                         4.853297      0.187999   \n",
       "245104200000799                         1.524028      0.131790   \n",
       "245104200000939                         1.492581      0.322914   \n",
       "...                                          ...           ...   \n",
       "1597113100010642                        5.417244      0.233112   \n",
       "1597113100019088                        3.377403      0.154508   \n",
       "1597113100031221                        0.861085      0.155385   \n",
       "1687113100001669                        2.260365      0.096540   \n",
       "1687113100029111                        2.403147      0.126173   \n",
       "\n",
       "                  excess_variance_flux_r  kurtosis_flux_r  \\\n",
       "sid                                                         \n",
       "245101100000933                 0.007498        -0.944294   \n",
       "245101100009703                 0.013800        -1.050300   \n",
       "245101100010242                 0.004273         8.948397   \n",
       "245104200000799                 0.011540        -0.980239   \n",
       "245104200000939                 0.081920         0.337605   \n",
       "...                                  ...              ...   \n",
       "1597113100010642                0.008082         5.852146   \n",
       "1597113100019088                0.005559         5.974216   \n",
       "1597113100031221                0.000762         1.899416   \n",
       "1687113100001669                0.005724         2.714355   \n",
       "1687113100029111                0.005905         0.803636   \n",
       "\n",
       "                  mean_variance_flux_r  skew_flux_r  stetson_K_flux_r  \n",
       "sid                                                                    \n",
       "245101100000933               0.087656    -0.507747          0.844530  \n",
       "245101100009703               0.118238    -0.059173          0.909857  \n",
       "245101100010242               0.067449     2.465220          0.683464  \n",
       "245104200000799               0.112776    -0.026306          0.870056  \n",
       "245104200000939               0.286570     0.109400          0.675794  \n",
       "...                                ...          ...               ...  \n",
       "1597113100010642              0.105139     1.738649          0.670839  \n",
       "1597113100019088              0.076836     1.682657          0.710270  \n",
       "1597113100031221              0.029034     0.619902          0.756356  \n",
       "1687113100001669              0.077019     1.257489          0.769287  \n",
       "1687113100029111              0.077406     0.935121          0.793232  \n",
       "\n",
       "[990220 rows x 82 columns]"
      ]
     },
     "execution_count": 8,
     "metadata": {},
     "output_type": "execute_result"
    }
   ],
   "source": [
    "dr4_df"
   ]
  },
  {
   "cell_type": "code",
   "execution_count": 9,
   "metadata": {},
   "outputs": [
    {
     "data": {
      "text/html": [
       "<div>\n",
       "<style scoped>\n",
       "    .dataframe tbody tr th:only-of-type {\n",
       "        vertical-align: middle;\n",
       "    }\n",
       "\n",
       "    .dataframe tbody tr th {\n",
       "        vertical-align: top;\n",
       "    }\n",
       "\n",
       "    .dataframe thead th {\n",
       "        text-align: right;\n",
       "    }\n",
       "</style>\n",
       "<table border=\"1\" class=\"dataframe\">\n",
       "  <thead>\n",
       "    <tr style=\"text-align: right;\">\n",
       "      <th></th>\n",
       "      <th>amplitude_magn_g</th>\n",
       "      <th>anderson_darling_normal_magn_g</th>\n",
       "      <th>beyond_1_std_magn_g</th>\n",
       "      <th>beyond_2_std_magn_g</th>\n",
       "      <th>cusum_magn_g</th>\n",
       "      <th>inter_percentile_range_2_magn_g</th>\n",
       "      <th>inter_percentile_range_10_magn_g</th>\n",
       "      <th>inter_percentile_range_25_magn_g</th>\n",
       "      <th>kurtosis_magn_g</th>\n",
       "      <th>linear_fit_slope_magn_g</th>\n",
       "      <th>...</th>\n",
       "      <th>standard_deviation_magn_r</th>\n",
       "      <th>stetson_K_magn_r</th>\n",
       "      <th>weighted_mean_magn_r</th>\n",
       "      <th>anderson_darling_normal_flux_r</th>\n",
       "      <th>cusum_flux_r</th>\n",
       "      <th>excess_variance_flux_r</th>\n",
       "      <th>kurtosis_flux_r</th>\n",
       "      <th>mean_variance_flux_r</th>\n",
       "      <th>skew_flux_r</th>\n",
       "      <th>stetson_K_flux_r</th>\n",
       "    </tr>\n",
       "    <tr>\n",
       "      <th>sid</th>\n",
       "      <th></th>\n",
       "      <th></th>\n",
       "      <th></th>\n",
       "      <th></th>\n",
       "      <th></th>\n",
       "      <th></th>\n",
       "      <th></th>\n",
       "      <th></th>\n",
       "      <th></th>\n",
       "      <th></th>\n",
       "      <th></th>\n",
       "      <th></th>\n",
       "      <th></th>\n",
       "      <th></th>\n",
       "      <th></th>\n",
       "      <th></th>\n",
       "      <th></th>\n",
       "      <th></th>\n",
       "      <th></th>\n",
       "      <th></th>\n",
       "      <th></th>\n",
       "    </tr>\n",
       "  </thead>\n",
       "  <tbody>\n",
       "    <tr>\n",
       "      <th>6439074373</th>\n",
       "      <td>2.313272</td>\n",
       "      <td>6.242598</td>\n",
       "      <td>0.544218</td>\n",
       "      <td>0.0</td>\n",
       "      <td>0.458069</td>\n",
       "      <td>4.586686</td>\n",
       "      <td>4.375262</td>\n",
       "      <td>3.713085</td>\n",
       "      <td>-1.596927</td>\n",
       "      <td>0.005899</td>\n",
       "      <td>...</td>\n",
       "      <td>1.631735</td>\n",
       "      <td>0.946339</td>\n",
       "      <td>17.689695</td>\n",
       "      <td>15.523734</td>\n",
       "      <td>0.437505</td>\n",
       "      <td>1.315818</td>\n",
       "      <td>-0.902408</td>\n",
       "      <td>1.148051</td>\n",
       "      <td>0.874291</td>\n",
       "      <td>0.773280</td>\n",
       "    </tr>\n",
       "    <tr>\n",
       "      <th>9020928999</th>\n",
       "      <td>2.027956</td>\n",
       "      <td>6.452106</td>\n",
       "      <td>0.429448</td>\n",
       "      <td>0.0</td>\n",
       "      <td>0.444023</td>\n",
       "      <td>3.941975</td>\n",
       "      <td>3.314264</td>\n",
       "      <td>2.360711</td>\n",
       "      <td>-1.283149</td>\n",
       "      <td>0.020341</td>\n",
       "      <td>...</td>\n",
       "      <td>1.056116</td>\n",
       "      <td>0.922816</td>\n",
       "      <td>17.861500</td>\n",
       "      <td>11.056737</td>\n",
       "      <td>0.425569</td>\n",
       "      <td>0.794369</td>\n",
       "      <td>-0.423881</td>\n",
       "      <td>0.892017</td>\n",
       "      <td>0.947871</td>\n",
       "      <td>0.790745</td>\n",
       "    </tr>\n",
       "    <tr>\n",
       "      <th>6011793767</th>\n",
       "      <td>2.428476</td>\n",
       "      <td>16.336357</td>\n",
       "      <td>0.472656</td>\n",
       "      <td>0.0</td>\n",
       "      <td>0.448958</td>\n",
       "      <td>4.651444</td>\n",
       "      <td>4.122466</td>\n",
       "      <td>3.430849</td>\n",
       "      <td>-1.429027</td>\n",
       "      <td>0.007894</td>\n",
       "      <td>...</td>\n",
       "      <td>1.330221</td>\n",
       "      <td>0.909978</td>\n",
       "      <td>17.374739</td>\n",
       "      <td>24.971611</td>\n",
       "      <td>0.458264</td>\n",
       "      <td>0.785898</td>\n",
       "      <td>-1.554181</td>\n",
       "      <td>0.888269</td>\n",
       "      <td>0.386377</td>\n",
       "      <td>0.835887</td>\n",
       "    </tr>\n",
       "    <tr>\n",
       "      <th>4229763628</th>\n",
       "      <td>2.439133</td>\n",
       "      <td>3.030501</td>\n",
       "      <td>0.386555</td>\n",
       "      <td>0.0</td>\n",
       "      <td>0.448217</td>\n",
       "      <td>4.545591</td>\n",
       "      <td>3.327130</td>\n",
       "      <td>2.430037</td>\n",
       "      <td>-1.277114</td>\n",
       "      <td>0.020108</td>\n",
       "      <td>...</td>\n",
       "      <td>1.403626</td>\n",
       "      <td>0.934688</td>\n",
       "      <td>16.848856</td>\n",
       "      <td>11.799259</td>\n",
       "      <td>0.457372</td>\n",
       "      <td>0.944930</td>\n",
       "      <td>-1.367946</td>\n",
       "      <td>0.972413</td>\n",
       "      <td>0.601326</td>\n",
       "      <td>0.789646</td>\n",
       "    </tr>\n",
       "    <tr>\n",
       "      <th>6417979422</th>\n",
       "      <td>1.925718</td>\n",
       "      <td>1.752841</td>\n",
       "      <td>0.408163</td>\n",
       "      <td>0.0</td>\n",
       "      <td>0.425961</td>\n",
       "      <td>3.716248</td>\n",
       "      <td>3.240535</td>\n",
       "      <td>1.999153</td>\n",
       "      <td>-1.147905</td>\n",
       "      <td>0.019292</td>\n",
       "      <td>...</td>\n",
       "      <td>1.124392</td>\n",
       "      <td>0.929654</td>\n",
       "      <td>18.555391</td>\n",
       "      <td>11.669273</td>\n",
       "      <td>0.424440</td>\n",
       "      <td>0.915662</td>\n",
       "      <td>-0.432657</td>\n",
       "      <td>0.958406</td>\n",
       "      <td>0.998215</td>\n",
       "      <td>0.773014</td>\n",
       "    </tr>\n",
       "    <tr>\n",
       "      <th>6031286883</th>\n",
       "      <td>2.260002</td>\n",
       "      <td>6.587531</td>\n",
       "      <td>0.496504</td>\n",
       "      <td>0.0</td>\n",
       "      <td>0.449040</td>\n",
       "      <td>4.501166</td>\n",
       "      <td>4.036433</td>\n",
       "      <td>3.082117</td>\n",
       "      <td>-1.428517</td>\n",
       "      <td>0.015139</td>\n",
       "      <td>...</td>\n",
       "      <td>1.292708</td>\n",
       "      <td>0.919051</td>\n",
       "      <td>17.772713</td>\n",
       "      <td>11.349049</td>\n",
       "      <td>0.456618</td>\n",
       "      <td>0.721447</td>\n",
       "      <td>-1.440829</td>\n",
       "      <td>0.850721</td>\n",
       "      <td>0.452070</td>\n",
       "      <td>0.818922</td>\n",
       "    </tr>\n",
       "    <tr>\n",
       "      <th>604029941</th>\n",
       "      <td>2.164002</td>\n",
       "      <td>2.823114</td>\n",
       "      <td>0.424528</td>\n",
       "      <td>0.0</td>\n",
       "      <td>0.429195</td>\n",
       "      <td>4.264567</td>\n",
       "      <td>3.573987</td>\n",
       "      <td>2.523350</td>\n",
       "      <td>-1.250747</td>\n",
       "      <td>0.013158</td>\n",
       "      <td>...</td>\n",
       "      <td>1.222392</td>\n",
       "      <td>0.950357</td>\n",
       "      <td>17.867418</td>\n",
       "      <td>10.617710</td>\n",
       "      <td>0.436003</td>\n",
       "      <td>1.027209</td>\n",
       "      <td>-0.894394</td>\n",
       "      <td>1.014422</td>\n",
       "      <td>0.899074</td>\n",
       "      <td>0.741584</td>\n",
       "    </tr>\n",
       "  </tbody>\n",
       "</table>\n",
       "<p>7 rows × 82 columns</p>\n",
       "</div>"
      ],
      "text/plain": [
       "            amplitude_magn_g  anderson_darling_normal_magn_g  \\\n",
       "sid                                                            \n",
       "6439074373          2.313272                        6.242598   \n",
       "9020928999          2.027956                        6.452106   \n",
       "6011793767          2.428476                       16.336357   \n",
       "4229763628          2.439133                        3.030501   \n",
       "6417979422          1.925718                        1.752841   \n",
       "6031286883          2.260002                        6.587531   \n",
       "604029941           2.164002                        2.823114   \n",
       "\n",
       "            beyond_1_std_magn_g  beyond_2_std_magn_g  cusum_magn_g  \\\n",
       "sid                                                                  \n",
       "6439074373             0.544218                  0.0      0.458069   \n",
       "9020928999             0.429448                  0.0      0.444023   \n",
       "6011793767             0.472656                  0.0      0.448958   \n",
       "4229763628             0.386555                  0.0      0.448217   \n",
       "6417979422             0.408163                  0.0      0.425961   \n",
       "6031286883             0.496504                  0.0      0.449040   \n",
       "604029941              0.424528                  0.0      0.429195   \n",
       "\n",
       "            inter_percentile_range_2_magn_g  inter_percentile_range_10_magn_g  \\\n",
       "sid                                                                             \n",
       "6439074373                         4.586686                          4.375262   \n",
       "9020928999                         3.941975                          3.314264   \n",
       "6011793767                         4.651444                          4.122466   \n",
       "4229763628                         4.545591                          3.327130   \n",
       "6417979422                         3.716248                          3.240535   \n",
       "6031286883                         4.501166                          4.036433   \n",
       "604029941                          4.264567                          3.573987   \n",
       "\n",
       "            inter_percentile_range_25_magn_g  kurtosis_magn_g  \\\n",
       "sid                                                             \n",
       "6439074373                          3.713085        -1.596927   \n",
       "9020928999                          2.360711        -1.283149   \n",
       "6011793767                          3.430849        -1.429027   \n",
       "4229763628                          2.430037        -1.277114   \n",
       "6417979422                          1.999153        -1.147905   \n",
       "6031286883                          3.082117        -1.428517   \n",
       "604029941                           2.523350        -1.250747   \n",
       "\n",
       "            linear_fit_slope_magn_g  ...  standard_deviation_magn_r  \\\n",
       "sid                                  ...                              \n",
       "6439074373                 0.005899  ...                   1.631735   \n",
       "9020928999                 0.020341  ...                   1.056116   \n",
       "6011793767                 0.007894  ...                   1.330221   \n",
       "4229763628                 0.020108  ...                   1.403626   \n",
       "6417979422                 0.019292  ...                   1.124392   \n",
       "6031286883                 0.015139  ...                   1.292708   \n",
       "604029941                  0.013158  ...                   1.222392   \n",
       "\n",
       "            stetson_K_magn_r  weighted_mean_magn_r  \\\n",
       "sid                                                  \n",
       "6439074373          0.946339             17.689695   \n",
       "9020928999          0.922816             17.861500   \n",
       "6011793767          0.909978             17.374739   \n",
       "4229763628          0.934688             16.848856   \n",
       "6417979422          0.929654             18.555391   \n",
       "6031286883          0.919051             17.772713   \n",
       "604029941           0.950357             17.867418   \n",
       "\n",
       "            anderson_darling_normal_flux_r  cusum_flux_r  \\\n",
       "sid                                                        \n",
       "6439074373                       15.523734      0.437505   \n",
       "9020928999                       11.056737      0.425569   \n",
       "6011793767                       24.971611      0.458264   \n",
       "4229763628                       11.799259      0.457372   \n",
       "6417979422                       11.669273      0.424440   \n",
       "6031286883                       11.349049      0.456618   \n",
       "604029941                        10.617710      0.436003   \n",
       "\n",
       "            excess_variance_flux_r  kurtosis_flux_r  mean_variance_flux_r  \\\n",
       "sid                                                                         \n",
       "6439074373                1.315818        -0.902408              1.148051   \n",
       "9020928999                0.794369        -0.423881              0.892017   \n",
       "6011793767                0.785898        -1.554181              0.888269   \n",
       "4229763628                0.944930        -1.367946              0.972413   \n",
       "6417979422                0.915662        -0.432657              0.958406   \n",
       "6031286883                0.721447        -1.440829              0.850721   \n",
       "604029941                 1.027209        -0.894394              1.014422   \n",
       "\n",
       "            skew_flux_r  stetson_K_flux_r  \n",
       "sid                                        \n",
       "6439074373     0.874291          0.773280  \n",
       "9020928999     0.947871          0.790745  \n",
       "6011793767     0.386377          0.835887  \n",
       "4229763628     0.601326          0.789646  \n",
       "6417979422     0.998215          0.773014  \n",
       "6031286883     0.452070          0.818922  \n",
       "604029941      0.899074          0.741584  \n",
       "\n",
       "[7 rows x 82 columns]"
      ]
     },
     "execution_count": 9,
     "metadata": {},
     "output_type": "execute_result"
    }
   ],
   "source": [
    "fakes_df"
   ]
  },
  {
   "cell_type": "code",
   "execution_count": 10,
   "metadata": {},
   "outputs": [
    {
     "name": "stdout",
     "output_type": "stream",
     "text": [
      "CPU times: user 3.45 s, sys: 314 ms, total: 3.77 s\n",
      "Wall time: 3.77 s\n"
     ]
    }
   ],
   "source": [
    "%%time\n",
    "\n",
    "#from sklearn.neighbors import KDTree\n",
    "from scipy.spatial import cKDTree\n",
    "\n",
    "# Hardest to find fakes\n",
    "X = np.vstack(fakes_df.values)\n",
    "kdtree = cKDTree(dr4_df)\n",
    "#pickle.dump(kdtree,open('./orig_kdtree.p','wb'))\n",
    "\n",
    "dist, ind = kdtree.query(X, k=15)"
   ]
  },
  {
   "cell_type": "code",
   "execution_count": 11,
   "metadata": {},
   "outputs": [
    {
     "name": "stdout",
     "output_type": "stream",
     "text": [
      "[11.58408333 11.4697431  12.76310819  9.73971994 11.32007183 10.64706142\n",
      "  9.81478907]\n",
      "[204160 730595 307386 504755 928753 204160  98743]\n"
     ]
    }
   ],
   "source": [
    "k_neighbor = 1\n",
    "\n",
    "print(dist[:, k_neighbor])    \n",
    "print(ind[:, k_neighbor])     "
   ]
  },
  {
   "cell_type": "code",
   "execution_count": 12,
   "metadata": {},
   "outputs": [],
   "source": [
    "kdtree_results_df = pd.DataFrame()\n",
    "kdtree_results_df['sid'] = fakes_df.index\n",
    "kdtree_results_df = kdtree_results_df.set_index('sid')\n",
    "\n",
    "kdtree_dist_df = kdtree_results_df.copy()\n",
    "\n",
    "for knn in range(0,15):    \n",
    "    dr4_match_oid, dr4_match_dist = [],[]\n",
    "    for ix, dis in zip(ind[:, knn], dist[:, knn]):\n",
    "        dr4_match_oid.append(dr4_df.iloc[ix].name)\n",
    "        dr4_match_dist.append(dis)\n",
    "    kdtree_results_df[f'knn={knn+1}_match_OID'] = dr4_match_oid\n",
    "    kdtree_dist_df[f'knn={knn+1}_dist'] = dr4_match_dist"
   ]
  },
  {
   "cell_type": "code",
   "execution_count": 13,
   "metadata": {},
   "outputs": [
    {
     "data": {
      "text/html": [
       "<div>\n",
       "<style scoped>\n",
       "    .dataframe tbody tr th:only-of-type {\n",
       "        vertical-align: middle;\n",
       "    }\n",
       "\n",
       "    .dataframe tbody tr th {\n",
       "        vertical-align: top;\n",
       "    }\n",
       "\n",
       "    .dataframe thead th {\n",
       "        text-align: right;\n",
       "    }\n",
       "</style>\n",
       "<table border=\"1\" class=\"dataframe\">\n",
       "  <thead>\n",
       "    <tr style=\"text-align: right;\">\n",
       "      <th></th>\n",
       "      <th>knn=1_match_OID</th>\n",
       "      <th>knn=2_match_OID</th>\n",
       "      <th>knn=3_match_OID</th>\n",
       "      <th>knn=4_match_OID</th>\n",
       "      <th>knn=5_match_OID</th>\n",
       "      <th>knn=6_match_OID</th>\n",
       "      <th>knn=7_match_OID</th>\n",
       "      <th>knn=8_match_OID</th>\n",
       "      <th>knn=9_match_OID</th>\n",
       "      <th>knn=10_match_OID</th>\n",
       "      <th>knn=11_match_OID</th>\n",
       "      <th>knn=12_match_OID</th>\n",
       "      <th>knn=13_match_OID</th>\n",
       "      <th>knn=14_match_OID</th>\n",
       "      <th>knn=15_match_OID</th>\n",
       "    </tr>\n",
       "    <tr>\n",
       "      <th>sid</th>\n",
       "      <th></th>\n",
       "      <th></th>\n",
       "      <th></th>\n",
       "      <th></th>\n",
       "      <th></th>\n",
       "      <th></th>\n",
       "      <th></th>\n",
       "      <th></th>\n",
       "      <th></th>\n",
       "      <th></th>\n",
       "      <th></th>\n",
       "      <th></th>\n",
       "      <th></th>\n",
       "      <th></th>\n",
       "      <th></th>\n",
       "    </tr>\n",
       "  </thead>\n",
       "  <tbody>\n",
       "    <tr>\n",
       "      <th>6439074373</th>\n",
       "      <td>407113200000457</td>\n",
       "      <td>636102100000584</td>\n",
       "      <td>789115200006620</td>\n",
       "      <td>679108100003227</td>\n",
       "      <td>681115400012617</td>\n",
       "      <td>643105300009229</td>\n",
       "      <td>636116100005131</td>\n",
       "      <td>790103100000915</td>\n",
       "      <td>594109100004829</td>\n",
       "      <td>839103100009823</td>\n",
       "      <td>483105400003296</td>\n",
       "      <td>676101100005215</td>\n",
       "      <td>719102100006086</td>\n",
       "      <td>757115100002190</td>\n",
       "      <td>793107200002055</td>\n",
       "    </tr>\n",
       "    <tr>\n",
       "      <th>9020928999</th>\n",
       "      <td>723103100016148</td>\n",
       "      <td>792111100012457</td>\n",
       "      <td>844106400002117</td>\n",
       "      <td>843110200002130</td>\n",
       "      <td>679108100003227</td>\n",
       "      <td>789115200006620</td>\n",
       "      <td>719102100006086</td>\n",
       "      <td>681115400012617</td>\n",
       "      <td>721110100002360</td>\n",
       "      <td>755103100026105</td>\n",
       "      <td>684115200018744</td>\n",
       "      <td>407113200000457</td>\n",
       "      <td>721106300009409</td>\n",
       "      <td>792101400013907</td>\n",
       "      <td>766111300018322</td>\n",
       "    </tr>\n",
       "    <tr>\n",
       "      <th>6011793767</th>\n",
       "      <td>677116400000863</td>\n",
       "      <td>677105300002652</td>\n",
       "      <td>677106200003154</td>\n",
       "      <td>823109200001894</td>\n",
       "      <td>473115200000118</td>\n",
       "      <td>822104100001763</td>\n",
       "      <td>669113100003919</td>\n",
       "      <td>677110300002781</td>\n",
       "      <td>822110200011495</td>\n",
       "      <td>676101300005635</td>\n",
       "      <td>587101300003767</td>\n",
       "      <td>819111400000931</td>\n",
       "      <td>677102400003100</td>\n",
       "      <td>595116200000958</td>\n",
       "      <td>677112100002841</td>\n",
       "    </tr>\n",
       "    <tr>\n",
       "      <th>4229763628</th>\n",
       "      <td>792112400009928</td>\n",
       "      <td>723113400015131</td>\n",
       "      <td>681115400012617</td>\n",
       "      <td>643110100008514</td>\n",
       "      <td>757115100002190</td>\n",
       "      <td>790103100000915</td>\n",
       "      <td>721105100002309</td>\n",
       "      <td>759110300004319</td>\n",
       "      <td>715109100000034</td>\n",
       "      <td>847114100003486</td>\n",
       "      <td>840109400004740</td>\n",
       "      <td>790111400004261</td>\n",
       "      <td>758111400001153</td>\n",
       "      <td>634108100006647</td>\n",
       "      <td>792105300007593</td>\n",
       "    </tr>\n",
       "    <tr>\n",
       "      <th>6417979422</th>\n",
       "      <td>698103400000840</td>\n",
       "      <td>849102200015533</td>\n",
       "      <td>754109300001159</td>\n",
       "      <td>643115100008829</td>\n",
       "      <td>691102100003503</td>\n",
       "      <td>643104100004109</td>\n",
       "      <td>717104100000099</td>\n",
       "      <td>643115300006159</td>\n",
       "      <td>718105300007353</td>\n",
       "      <td>752101400010658</td>\n",
       "      <td>643102200008503</td>\n",
       "      <td>525109400003682</td>\n",
       "      <td>790111400004261</td>\n",
       "      <td>793111200009141</td>\n",
       "      <td>525116300002048</td>\n",
       "    </tr>\n",
       "    <tr>\n",
       "      <th>6031286883</th>\n",
       "      <td>817105300001401</td>\n",
       "      <td>636102100000584</td>\n",
       "      <td>698103400000840</td>\n",
       "      <td>407113200000457</td>\n",
       "      <td>828103400007547</td>\n",
       "      <td>679108100003227</td>\n",
       "      <td>588113200030350</td>\n",
       "      <td>681115400012617</td>\n",
       "      <td>692108100000145</td>\n",
       "      <td>595108400006567</td>\n",
       "      <td>692114300003891</td>\n",
       "      <td>849102200015533</td>\n",
       "      <td>695105400005983</td>\n",
       "      <td>849109300006928</td>\n",
       "      <td>524115200000956</td>\n",
       "    </tr>\n",
       "    <tr>\n",
       "      <th>604029941</th>\n",
       "      <td>452109400000422</td>\n",
       "      <td>583101400001339</td>\n",
       "      <td>695111400014397</td>\n",
       "      <td>857106200000362</td>\n",
       "      <td>817105300001401</td>\n",
       "      <td>648115400000608</td>\n",
       "      <td>596113100008238</td>\n",
       "      <td>496112100004755</td>\n",
       "      <td>649110400002437</td>\n",
       "      <td>346105100008449</td>\n",
       "      <td>497116200001007</td>\n",
       "      <td>608105100013926</td>\n",
       "      <td>735111200007977</td>\n",
       "      <td>860110200001184</td>\n",
       "      <td>864111200008339</td>\n",
       "    </tr>\n",
       "  </tbody>\n",
       "</table>\n",
       "</div>"
      ],
      "text/plain": [
       "            knn=1_match_OID  knn=2_match_OID  knn=3_match_OID  \\\n",
       "sid                                                             \n",
       "6439074373  407113200000457  636102100000584  789115200006620   \n",
       "9020928999  723103100016148  792111100012457  844106400002117   \n",
       "6011793767  677116400000863  677105300002652  677106200003154   \n",
       "4229763628  792112400009928  723113400015131  681115400012617   \n",
       "6417979422  698103400000840  849102200015533  754109300001159   \n",
       "6031286883  817105300001401  636102100000584  698103400000840   \n",
       "604029941   452109400000422  583101400001339  695111400014397   \n",
       "\n",
       "            knn=4_match_OID  knn=5_match_OID  knn=6_match_OID  \\\n",
       "sid                                                             \n",
       "6439074373  679108100003227  681115400012617  643105300009229   \n",
       "9020928999  843110200002130  679108100003227  789115200006620   \n",
       "6011793767  823109200001894  473115200000118  822104100001763   \n",
       "4229763628  643110100008514  757115100002190  790103100000915   \n",
       "6417979422  643115100008829  691102100003503  643104100004109   \n",
       "6031286883  407113200000457  828103400007547  679108100003227   \n",
       "604029941   857106200000362  817105300001401  648115400000608   \n",
       "\n",
       "            knn=7_match_OID  knn=8_match_OID  knn=9_match_OID  \\\n",
       "sid                                                             \n",
       "6439074373  636116100005131  790103100000915  594109100004829   \n",
       "9020928999  719102100006086  681115400012617  721110100002360   \n",
       "6011793767  669113100003919  677110300002781  822110200011495   \n",
       "4229763628  721105100002309  759110300004319  715109100000034   \n",
       "6417979422  717104100000099  643115300006159  718105300007353   \n",
       "6031286883  588113200030350  681115400012617  692108100000145   \n",
       "604029941   596113100008238  496112100004755  649110400002437   \n",
       "\n",
       "            knn=10_match_OID  knn=11_match_OID  knn=12_match_OID  \\\n",
       "sid                                                                \n",
       "6439074373   839103100009823   483105400003296   676101100005215   \n",
       "9020928999   755103100026105   684115200018744   407113200000457   \n",
       "6011793767   676101300005635   587101300003767   819111400000931   \n",
       "4229763628   847114100003486   840109400004740   790111400004261   \n",
       "6417979422   752101400010658   643102200008503   525109400003682   \n",
       "6031286883   595108400006567   692114300003891   849102200015533   \n",
       "604029941    346105100008449   497116200001007   608105100013926   \n",
       "\n",
       "            knn=13_match_OID  knn=14_match_OID  knn=15_match_OID  \n",
       "sid                                                               \n",
       "6439074373   719102100006086   757115100002190   793107200002055  \n",
       "9020928999   721106300009409   792101400013907   766111300018322  \n",
       "6011793767   677102400003100   595116200000958   677112100002841  \n",
       "4229763628   758111400001153   634108100006647   792105300007593  \n",
       "6417979422   790111400004261   793111200009141   525116300002048  \n",
       "6031286883   695105400005983   849109300006928   524115200000956  \n",
       "604029941    735111200007977   860110200001184   864111200008339  "
      ]
     },
     "execution_count": 13,
     "metadata": {},
     "output_type": "execute_result"
    }
   ],
   "source": [
    "kdtree_results_df = kdtree_results_df.reindex(fakes_mining_sids_int)\n",
    "#kdtree_results_df.to_csv(\"./dataframes/orig_kdtree_results_df.csv.gzip\", compression='gzip')\n",
    "kdtree_results_df"
   ]
  },
  {
   "cell_type": "code",
   "execution_count": 14,
   "metadata": {},
   "outputs": [
    {
     "data": {
      "text/html": [
       "<div>\n",
       "<style scoped>\n",
       "    .dataframe tbody tr th:only-of-type {\n",
       "        vertical-align: middle;\n",
       "    }\n",
       "\n",
       "    .dataframe tbody tr th {\n",
       "        vertical-align: top;\n",
       "    }\n",
       "\n",
       "    .dataframe thead th {\n",
       "        text-align: right;\n",
       "    }\n",
       "</style>\n",
       "<table border=\"1\" class=\"dataframe\">\n",
       "  <thead>\n",
       "    <tr style=\"text-align: right;\">\n",
       "      <th></th>\n",
       "      <th>knn=1_dist</th>\n",
       "      <th>knn=2_dist</th>\n",
       "      <th>knn=3_dist</th>\n",
       "      <th>knn=4_dist</th>\n",
       "      <th>knn=5_dist</th>\n",
       "      <th>knn=6_dist</th>\n",
       "      <th>knn=7_dist</th>\n",
       "      <th>knn=8_dist</th>\n",
       "      <th>knn=9_dist</th>\n",
       "      <th>knn=10_dist</th>\n",
       "      <th>knn=11_dist</th>\n",
       "      <th>knn=12_dist</th>\n",
       "      <th>knn=13_dist</th>\n",
       "      <th>knn=14_dist</th>\n",
       "      <th>knn=15_dist</th>\n",
       "    </tr>\n",
       "    <tr>\n",
       "      <th>sid</th>\n",
       "      <th></th>\n",
       "      <th></th>\n",
       "      <th></th>\n",
       "      <th></th>\n",
       "      <th></th>\n",
       "      <th></th>\n",
       "      <th></th>\n",
       "      <th></th>\n",
       "      <th></th>\n",
       "      <th></th>\n",
       "      <th></th>\n",
       "      <th></th>\n",
       "      <th></th>\n",
       "      <th></th>\n",
       "      <th></th>\n",
       "    </tr>\n",
       "  </thead>\n",
       "  <tbody>\n",
       "    <tr>\n",
       "      <th>6439074373</th>\n",
       "      <td>11.336420</td>\n",
       "      <td>11.584083</td>\n",
       "      <td>12.025293</td>\n",
       "      <td>12.182730</td>\n",
       "      <td>12.290313</td>\n",
       "      <td>12.656884</td>\n",
       "      <td>12.848355</td>\n",
       "      <td>13.123504</td>\n",
       "      <td>13.242283</td>\n",
       "      <td>13.269816</td>\n",
       "      <td>13.330249</td>\n",
       "      <td>13.590585</td>\n",
       "      <td>13.650197</td>\n",
       "      <td>13.664398</td>\n",
       "      <td>13.764815</td>\n",
       "    </tr>\n",
       "    <tr>\n",
       "      <th>9020928999</th>\n",
       "      <td>10.713955</td>\n",
       "      <td>11.469743</td>\n",
       "      <td>11.539383</td>\n",
       "      <td>11.951278</td>\n",
       "      <td>12.307632</td>\n",
       "      <td>12.505227</td>\n",
       "      <td>12.716438</td>\n",
       "      <td>13.152154</td>\n",
       "      <td>13.211295</td>\n",
       "      <td>13.213997</td>\n",
       "      <td>13.234361</td>\n",
       "      <td>13.375029</td>\n",
       "      <td>13.391075</td>\n",
       "      <td>13.627144</td>\n",
       "      <td>13.770812</td>\n",
       "    </tr>\n",
       "    <tr>\n",
       "      <th>6011793767</th>\n",
       "      <td>12.162402</td>\n",
       "      <td>12.763108</td>\n",
       "      <td>13.255325</td>\n",
       "      <td>13.342560</td>\n",
       "      <td>13.560544</td>\n",
       "      <td>13.777844</td>\n",
       "      <td>13.943795</td>\n",
       "      <td>14.002607</td>\n",
       "      <td>14.153023</td>\n",
       "      <td>14.183731</td>\n",
       "      <td>14.225434</td>\n",
       "      <td>14.301980</td>\n",
       "      <td>14.367716</td>\n",
       "      <td>14.451298</td>\n",
       "      <td>14.627646</td>\n",
       "    </tr>\n",
       "    <tr>\n",
       "      <th>4229763628</th>\n",
       "      <td>9.528587</td>\n",
       "      <td>9.739720</td>\n",
       "      <td>10.771593</td>\n",
       "      <td>10.867767</td>\n",
       "      <td>11.056505</td>\n",
       "      <td>11.087045</td>\n",
       "      <td>11.237477</td>\n",
       "      <td>11.328809</td>\n",
       "      <td>11.664940</td>\n",
       "      <td>11.760918</td>\n",
       "      <td>11.786352</td>\n",
       "      <td>11.844446</td>\n",
       "      <td>11.934909</td>\n",
       "      <td>12.037676</td>\n",
       "      <td>12.038289</td>\n",
       "    </tr>\n",
       "    <tr>\n",
       "      <th>6417979422</th>\n",
       "      <td>11.001441</td>\n",
       "      <td>11.320072</td>\n",
       "      <td>11.883241</td>\n",
       "      <td>12.009407</td>\n",
       "      <td>12.035704</td>\n",
       "      <td>12.070034</td>\n",
       "      <td>12.157690</td>\n",
       "      <td>12.184649</td>\n",
       "      <td>12.293069</td>\n",
       "      <td>12.585433</td>\n",
       "      <td>12.635781</td>\n",
       "      <td>12.719778</td>\n",
       "      <td>12.809086</td>\n",
       "      <td>12.877865</td>\n",
       "      <td>12.918699</td>\n",
       "    </tr>\n",
       "    <tr>\n",
       "      <th>6031286883</th>\n",
       "      <td>9.002645</td>\n",
       "      <td>10.647061</td>\n",
       "      <td>10.868295</td>\n",
       "      <td>10.964766</td>\n",
       "      <td>11.073632</td>\n",
       "      <td>11.174942</td>\n",
       "      <td>11.260068</td>\n",
       "      <td>11.329955</td>\n",
       "      <td>11.524593</td>\n",
       "      <td>11.525108</td>\n",
       "      <td>11.575215</td>\n",
       "      <td>11.774228</td>\n",
       "      <td>11.784514</td>\n",
       "      <td>11.868382</td>\n",
       "      <td>11.868803</td>\n",
       "    </tr>\n",
       "    <tr>\n",
       "      <th>604029941</th>\n",
       "      <td>8.864156</td>\n",
       "      <td>9.814789</td>\n",
       "      <td>10.270778</td>\n",
       "      <td>10.564302</td>\n",
       "      <td>10.633698</td>\n",
       "      <td>10.653659</td>\n",
       "      <td>10.823482</td>\n",
       "      <td>10.913876</td>\n",
       "      <td>10.963079</td>\n",
       "      <td>11.034163</td>\n",
       "      <td>11.071214</td>\n",
       "      <td>11.212506</td>\n",
       "      <td>11.231398</td>\n",
       "      <td>11.253751</td>\n",
       "      <td>11.269862</td>\n",
       "    </tr>\n",
       "  </tbody>\n",
       "</table>\n",
       "</div>"
      ],
      "text/plain": [
       "            knn=1_dist  knn=2_dist  knn=3_dist  knn=4_dist  knn=5_dist  \\\n",
       "sid                                                                      \n",
       "6439074373   11.336420   11.584083   12.025293   12.182730   12.290313   \n",
       "9020928999   10.713955   11.469743   11.539383   11.951278   12.307632   \n",
       "6011793767   12.162402   12.763108   13.255325   13.342560   13.560544   \n",
       "4229763628    9.528587    9.739720   10.771593   10.867767   11.056505   \n",
       "6417979422   11.001441   11.320072   11.883241   12.009407   12.035704   \n",
       "6031286883    9.002645   10.647061   10.868295   10.964766   11.073632   \n",
       "604029941     8.864156    9.814789   10.270778   10.564302   10.633698   \n",
       "\n",
       "            knn=6_dist  knn=7_dist  knn=8_dist  knn=9_dist  knn=10_dist  \\\n",
       "sid                                                                       \n",
       "6439074373   12.656884   12.848355   13.123504   13.242283    13.269816   \n",
       "9020928999   12.505227   12.716438   13.152154   13.211295    13.213997   \n",
       "6011793767   13.777844   13.943795   14.002607   14.153023    14.183731   \n",
       "4229763628   11.087045   11.237477   11.328809   11.664940    11.760918   \n",
       "6417979422   12.070034   12.157690   12.184649   12.293069    12.585433   \n",
       "6031286883   11.174942   11.260068   11.329955   11.524593    11.525108   \n",
       "604029941    10.653659   10.823482   10.913876   10.963079    11.034163   \n",
       "\n",
       "            knn=11_dist  knn=12_dist  knn=13_dist  knn=14_dist  knn=15_dist  \n",
       "sid                                                                          \n",
       "6439074373    13.330249    13.590585    13.650197    13.664398    13.764815  \n",
       "9020928999    13.234361    13.375029    13.391075    13.627144    13.770812  \n",
       "6011793767    14.225434    14.301980    14.367716    14.451298    14.627646  \n",
       "4229763628    11.786352    11.844446    11.934909    12.037676    12.038289  \n",
       "6417979422    12.635781    12.719778    12.809086    12.877865    12.918699  \n",
       "6031286883    11.575215    11.774228    11.784514    11.868382    11.868803  \n",
       "604029941     11.071214    11.212506    11.231398    11.253751    11.269862  "
      ]
     },
     "execution_count": 14,
     "metadata": {},
     "output_type": "execute_result"
    }
   ],
   "source": [
    "kdtree_dist_df = kdtree_dist_df.reindex(fakes_mining_sids_int)\n",
    "#kdtree_dist_df.to_csv(\"./dataframes/orig_kdtree_dist_df.csv.gzip\", compression='gzip')\n",
    "kdtree_dist_df"
   ]
  },
  {
   "cell_type": "code",
   "execution_count": 15,
   "metadata": {},
   "outputs": [
    {
     "data": {
      "text/plain": [
       "89"
      ]
     },
     "execution_count": 15,
     "metadata": {},
     "output_type": "execute_result"
    }
   ],
   "source": [
    "len(np.unique(np.hstack(kdtree_results_df.values)))"
   ]
  },
  {
   "cell_type": "code",
   "execution_count": 16,
   "metadata": {},
   "outputs": [
    {
     "data": {
      "text/plain": [
       "105"
      ]
     },
     "execution_count": 16,
     "metadata": {},
     "output_type": "execute_result"
    }
   ],
   "source": [
    "len(np.hstack(kdtree_results_df.values))"
   ]
  },
  {
   "cell_type": "code",
   "execution_count": 17,
   "metadata": {},
   "outputs": [
    {
     "name": "stdout",
     "output_type": "stream",
     "text": [
      "KNN 1 \n",
      "\n"
     ]
    },
    {
     "data": {
      "text/markdown": [
       "https://ztf.snad.space/view/407113200000457"
      ]
     },
     "metadata": {},
     "output_type": "display_data"
    },
    {
     "data": {
      "text/markdown": [
       "https://ztf.snad.space/view/723103100016148"
      ]
     },
     "metadata": {},
     "output_type": "display_data"
    },
    {
     "data": {
      "text/markdown": [
       "https://ztf.snad.space/view/677116400000863"
      ]
     },
     "metadata": {},
     "output_type": "display_data"
    },
    {
     "data": {
      "text/markdown": [
       "https://ztf.snad.space/view/792112400009928"
      ]
     },
     "metadata": {},
     "output_type": "display_data"
    },
    {
     "data": {
      "text/markdown": [
       "https://ztf.snad.space/view/698103400000840"
      ]
     },
     "metadata": {},
     "output_type": "display_data"
    },
    {
     "data": {
      "text/markdown": [
       "https://ztf.snad.space/view/817105300001401"
      ]
     },
     "metadata": {},
     "output_type": "display_data"
    },
    {
     "data": {
      "text/markdown": [
       "https://ztf.snad.space/view/452109400000422"
      ]
     },
     "metadata": {},
     "output_type": "display_data"
    },
    {
     "name": "stdout",
     "output_type": "stream",
     "text": [
      "KNN 2 \n",
      "\n"
     ]
    },
    {
     "data": {
      "text/markdown": [
       "https://ztf.snad.space/view/636102100000584"
      ]
     },
     "metadata": {},
     "output_type": "display_data"
    },
    {
     "data": {
      "text/markdown": [
       "https://ztf.snad.space/view/792111100012457"
      ]
     },
     "metadata": {},
     "output_type": "display_data"
    },
    {
     "data": {
      "text/markdown": [
       "https://ztf.snad.space/view/677105300002652"
      ]
     },
     "metadata": {},
     "output_type": "display_data"
    },
    {
     "data": {
      "text/markdown": [
       "https://ztf.snad.space/view/723113400015131"
      ]
     },
     "metadata": {},
     "output_type": "display_data"
    },
    {
     "data": {
      "text/markdown": [
       "https://ztf.snad.space/view/849102200015533"
      ]
     },
     "metadata": {},
     "output_type": "display_data"
    },
    {
     "data": {
      "text/markdown": [
       "https://ztf.snad.space/view/636102100000584"
      ]
     },
     "metadata": {},
     "output_type": "display_data"
    },
    {
     "data": {
      "text/markdown": [
       "https://ztf.snad.space/view/583101400001339"
      ]
     },
     "metadata": {},
     "output_type": "display_data"
    },
    {
     "name": "stdout",
     "output_type": "stream",
     "text": [
      "KNN 3 \n",
      "\n"
     ]
    },
    {
     "data": {
      "text/markdown": [
       "https://ztf.snad.space/view/789115200006620"
      ]
     },
     "metadata": {},
     "output_type": "display_data"
    },
    {
     "data": {
      "text/markdown": [
       "https://ztf.snad.space/view/844106400002117"
      ]
     },
     "metadata": {},
     "output_type": "display_data"
    },
    {
     "data": {
      "text/markdown": [
       "https://ztf.snad.space/view/677106200003154"
      ]
     },
     "metadata": {},
     "output_type": "display_data"
    },
    {
     "data": {
      "text/markdown": [
       "https://ztf.snad.space/view/681115400012617"
      ]
     },
     "metadata": {},
     "output_type": "display_data"
    },
    {
     "data": {
      "text/markdown": [
       "https://ztf.snad.space/view/754109300001159"
      ]
     },
     "metadata": {},
     "output_type": "display_data"
    },
    {
     "data": {
      "text/markdown": [
       "https://ztf.snad.space/view/698103400000840"
      ]
     },
     "metadata": {},
     "output_type": "display_data"
    },
    {
     "data": {
      "text/markdown": [
       "https://ztf.snad.space/view/695111400014397"
      ]
     },
     "metadata": {},
     "output_type": "display_data"
    },
    {
     "name": "stdout",
     "output_type": "stream",
     "text": [
      "KNN 4 \n",
      "\n"
     ]
    },
    {
     "data": {
      "text/markdown": [
       "https://ztf.snad.space/view/679108100003227"
      ]
     },
     "metadata": {},
     "output_type": "display_data"
    },
    {
     "data": {
      "text/markdown": [
       "https://ztf.snad.space/view/843110200002130"
      ]
     },
     "metadata": {},
     "output_type": "display_data"
    },
    {
     "data": {
      "text/markdown": [
       "https://ztf.snad.space/view/823109200001894"
      ]
     },
     "metadata": {},
     "output_type": "display_data"
    },
    {
     "data": {
      "text/markdown": [
       "https://ztf.snad.space/view/643110100008514"
      ]
     },
     "metadata": {},
     "output_type": "display_data"
    },
    {
     "data": {
      "text/markdown": [
       "https://ztf.snad.space/view/643115100008829"
      ]
     },
     "metadata": {},
     "output_type": "display_data"
    },
    {
     "data": {
      "text/markdown": [
       "https://ztf.snad.space/view/407113200000457"
      ]
     },
     "metadata": {},
     "output_type": "display_data"
    },
    {
     "data": {
      "text/markdown": [
       "https://ztf.snad.space/view/857106200000362"
      ]
     },
     "metadata": {},
     "output_type": "display_data"
    },
    {
     "name": "stdout",
     "output_type": "stream",
     "text": [
      "KNN 5 \n",
      "\n"
     ]
    },
    {
     "data": {
      "text/markdown": [
       "https://ztf.snad.space/view/681115400012617"
      ]
     },
     "metadata": {},
     "output_type": "display_data"
    },
    {
     "data": {
      "text/markdown": [
       "https://ztf.snad.space/view/679108100003227"
      ]
     },
     "metadata": {},
     "output_type": "display_data"
    },
    {
     "data": {
      "text/markdown": [
       "https://ztf.snad.space/view/473115200000118"
      ]
     },
     "metadata": {},
     "output_type": "display_data"
    },
    {
     "data": {
      "text/markdown": [
       "https://ztf.snad.space/view/757115100002190"
      ]
     },
     "metadata": {},
     "output_type": "display_data"
    },
    {
     "data": {
      "text/markdown": [
       "https://ztf.snad.space/view/691102100003503"
      ]
     },
     "metadata": {},
     "output_type": "display_data"
    },
    {
     "data": {
      "text/markdown": [
       "https://ztf.snad.space/view/828103400007547"
      ]
     },
     "metadata": {},
     "output_type": "display_data"
    },
    {
     "data": {
      "text/markdown": [
       "https://ztf.snad.space/view/817105300001401"
      ]
     },
     "metadata": {},
     "output_type": "display_data"
    },
    {
     "name": "stdout",
     "output_type": "stream",
     "text": [
      "KNN 6 \n",
      "\n"
     ]
    },
    {
     "data": {
      "text/markdown": [
       "https://ztf.snad.space/view/643105300009229"
      ]
     },
     "metadata": {},
     "output_type": "display_data"
    },
    {
     "data": {
      "text/markdown": [
       "https://ztf.snad.space/view/789115200006620"
      ]
     },
     "metadata": {},
     "output_type": "display_data"
    },
    {
     "data": {
      "text/markdown": [
       "https://ztf.snad.space/view/822104100001763"
      ]
     },
     "metadata": {},
     "output_type": "display_data"
    },
    {
     "data": {
      "text/markdown": [
       "https://ztf.snad.space/view/790103100000915"
      ]
     },
     "metadata": {},
     "output_type": "display_data"
    },
    {
     "data": {
      "text/markdown": [
       "https://ztf.snad.space/view/643104100004109"
      ]
     },
     "metadata": {},
     "output_type": "display_data"
    },
    {
     "data": {
      "text/markdown": [
       "https://ztf.snad.space/view/679108100003227"
      ]
     },
     "metadata": {},
     "output_type": "display_data"
    },
    {
     "data": {
      "text/markdown": [
       "https://ztf.snad.space/view/648115400000608"
      ]
     },
     "metadata": {},
     "output_type": "display_data"
    },
    {
     "name": "stdout",
     "output_type": "stream",
     "text": [
      "KNN 7 \n",
      "\n"
     ]
    },
    {
     "data": {
      "text/markdown": [
       "https://ztf.snad.space/view/636116100005131"
      ]
     },
     "metadata": {},
     "output_type": "display_data"
    },
    {
     "data": {
      "text/markdown": [
       "https://ztf.snad.space/view/719102100006086"
      ]
     },
     "metadata": {},
     "output_type": "display_data"
    },
    {
     "data": {
      "text/markdown": [
       "https://ztf.snad.space/view/669113100003919"
      ]
     },
     "metadata": {},
     "output_type": "display_data"
    },
    {
     "data": {
      "text/markdown": [
       "https://ztf.snad.space/view/721105100002309"
      ]
     },
     "metadata": {},
     "output_type": "display_data"
    },
    {
     "data": {
      "text/markdown": [
       "https://ztf.snad.space/view/717104100000099"
      ]
     },
     "metadata": {},
     "output_type": "display_data"
    },
    {
     "data": {
      "text/markdown": [
       "https://ztf.snad.space/view/588113200030350"
      ]
     },
     "metadata": {},
     "output_type": "display_data"
    },
    {
     "data": {
      "text/markdown": [
       "https://ztf.snad.space/view/596113100008238"
      ]
     },
     "metadata": {},
     "output_type": "display_data"
    },
    {
     "name": "stdout",
     "output_type": "stream",
     "text": [
      "KNN 8 \n",
      "\n"
     ]
    },
    {
     "data": {
      "text/markdown": [
       "https://ztf.snad.space/view/790103100000915"
      ]
     },
     "metadata": {},
     "output_type": "display_data"
    },
    {
     "data": {
      "text/markdown": [
       "https://ztf.snad.space/view/681115400012617"
      ]
     },
     "metadata": {},
     "output_type": "display_data"
    },
    {
     "data": {
      "text/markdown": [
       "https://ztf.snad.space/view/677110300002781"
      ]
     },
     "metadata": {},
     "output_type": "display_data"
    },
    {
     "data": {
      "text/markdown": [
       "https://ztf.snad.space/view/759110300004319"
      ]
     },
     "metadata": {},
     "output_type": "display_data"
    },
    {
     "data": {
      "text/markdown": [
       "https://ztf.snad.space/view/643115300006159"
      ]
     },
     "metadata": {},
     "output_type": "display_data"
    },
    {
     "data": {
      "text/markdown": [
       "https://ztf.snad.space/view/681115400012617"
      ]
     },
     "metadata": {},
     "output_type": "display_data"
    },
    {
     "data": {
      "text/markdown": [
       "https://ztf.snad.space/view/496112100004755"
      ]
     },
     "metadata": {},
     "output_type": "display_data"
    },
    {
     "name": "stdout",
     "output_type": "stream",
     "text": [
      "KNN 9 \n",
      "\n"
     ]
    },
    {
     "data": {
      "text/markdown": [
       "https://ztf.snad.space/view/594109100004829"
      ]
     },
     "metadata": {},
     "output_type": "display_data"
    },
    {
     "data": {
      "text/markdown": [
       "https://ztf.snad.space/view/721110100002360"
      ]
     },
     "metadata": {},
     "output_type": "display_data"
    },
    {
     "data": {
      "text/markdown": [
       "https://ztf.snad.space/view/822110200011495"
      ]
     },
     "metadata": {},
     "output_type": "display_data"
    },
    {
     "data": {
      "text/markdown": [
       "https://ztf.snad.space/view/715109100000034"
      ]
     },
     "metadata": {},
     "output_type": "display_data"
    },
    {
     "data": {
      "text/markdown": [
       "https://ztf.snad.space/view/718105300007353"
      ]
     },
     "metadata": {},
     "output_type": "display_data"
    },
    {
     "data": {
      "text/markdown": [
       "https://ztf.snad.space/view/692108100000145"
      ]
     },
     "metadata": {},
     "output_type": "display_data"
    },
    {
     "data": {
      "text/markdown": [
       "https://ztf.snad.space/view/649110400002437"
      ]
     },
     "metadata": {},
     "output_type": "display_data"
    },
    {
     "name": "stdout",
     "output_type": "stream",
     "text": [
      "KNN 10 \n",
      "\n"
     ]
    },
    {
     "data": {
      "text/markdown": [
       "https://ztf.snad.space/view/839103100009823"
      ]
     },
     "metadata": {},
     "output_type": "display_data"
    },
    {
     "data": {
      "text/markdown": [
       "https://ztf.snad.space/view/755103100026105"
      ]
     },
     "metadata": {},
     "output_type": "display_data"
    },
    {
     "data": {
      "text/markdown": [
       "https://ztf.snad.space/view/676101300005635"
      ]
     },
     "metadata": {},
     "output_type": "display_data"
    },
    {
     "data": {
      "text/markdown": [
       "https://ztf.snad.space/view/847114100003486"
      ]
     },
     "metadata": {},
     "output_type": "display_data"
    },
    {
     "data": {
      "text/markdown": [
       "https://ztf.snad.space/view/752101400010658"
      ]
     },
     "metadata": {},
     "output_type": "display_data"
    },
    {
     "data": {
      "text/markdown": [
       "https://ztf.snad.space/view/595108400006567"
      ]
     },
     "metadata": {},
     "output_type": "display_data"
    },
    {
     "data": {
      "text/markdown": [
       "https://ztf.snad.space/view/346105100008449"
      ]
     },
     "metadata": {},
     "output_type": "display_data"
    },
    {
     "name": "stdout",
     "output_type": "stream",
     "text": [
      "KNN 11 \n",
      "\n"
     ]
    },
    {
     "data": {
      "text/markdown": [
       "https://ztf.snad.space/view/483105400003296"
      ]
     },
     "metadata": {},
     "output_type": "display_data"
    },
    {
     "data": {
      "text/markdown": [
       "https://ztf.snad.space/view/684115200018744"
      ]
     },
     "metadata": {},
     "output_type": "display_data"
    },
    {
     "data": {
      "text/markdown": [
       "https://ztf.snad.space/view/587101300003767"
      ]
     },
     "metadata": {},
     "output_type": "display_data"
    },
    {
     "data": {
      "text/markdown": [
       "https://ztf.snad.space/view/840109400004740"
      ]
     },
     "metadata": {},
     "output_type": "display_data"
    },
    {
     "data": {
      "text/markdown": [
       "https://ztf.snad.space/view/643102200008503"
      ]
     },
     "metadata": {},
     "output_type": "display_data"
    },
    {
     "data": {
      "text/markdown": [
       "https://ztf.snad.space/view/692114300003891"
      ]
     },
     "metadata": {},
     "output_type": "display_data"
    },
    {
     "data": {
      "text/markdown": [
       "https://ztf.snad.space/view/497116200001007"
      ]
     },
     "metadata": {},
     "output_type": "display_data"
    },
    {
     "name": "stdout",
     "output_type": "stream",
     "text": [
      "KNN 12 \n",
      "\n"
     ]
    },
    {
     "data": {
      "text/markdown": [
       "https://ztf.snad.space/view/676101100005215"
      ]
     },
     "metadata": {},
     "output_type": "display_data"
    },
    {
     "data": {
      "text/markdown": [
       "https://ztf.snad.space/view/407113200000457"
      ]
     },
     "metadata": {},
     "output_type": "display_data"
    },
    {
     "data": {
      "text/markdown": [
       "https://ztf.snad.space/view/819111400000931"
      ]
     },
     "metadata": {},
     "output_type": "display_data"
    },
    {
     "data": {
      "text/markdown": [
       "https://ztf.snad.space/view/790111400004261"
      ]
     },
     "metadata": {},
     "output_type": "display_data"
    },
    {
     "data": {
      "text/markdown": [
       "https://ztf.snad.space/view/525109400003682"
      ]
     },
     "metadata": {},
     "output_type": "display_data"
    },
    {
     "data": {
      "text/markdown": [
       "https://ztf.snad.space/view/849102200015533"
      ]
     },
     "metadata": {},
     "output_type": "display_data"
    },
    {
     "data": {
      "text/markdown": [
       "https://ztf.snad.space/view/608105100013926"
      ]
     },
     "metadata": {},
     "output_type": "display_data"
    },
    {
     "name": "stdout",
     "output_type": "stream",
     "text": [
      "KNN 13 \n",
      "\n"
     ]
    },
    {
     "data": {
      "text/markdown": [
       "https://ztf.snad.space/view/719102100006086"
      ]
     },
     "metadata": {},
     "output_type": "display_data"
    },
    {
     "data": {
      "text/markdown": [
       "https://ztf.snad.space/view/721106300009409"
      ]
     },
     "metadata": {},
     "output_type": "display_data"
    },
    {
     "data": {
      "text/markdown": [
       "https://ztf.snad.space/view/677102400003100"
      ]
     },
     "metadata": {},
     "output_type": "display_data"
    },
    {
     "data": {
      "text/markdown": [
       "https://ztf.snad.space/view/758111400001153"
      ]
     },
     "metadata": {},
     "output_type": "display_data"
    },
    {
     "data": {
      "text/markdown": [
       "https://ztf.snad.space/view/790111400004261"
      ]
     },
     "metadata": {},
     "output_type": "display_data"
    },
    {
     "data": {
      "text/markdown": [
       "https://ztf.snad.space/view/695105400005983"
      ]
     },
     "metadata": {},
     "output_type": "display_data"
    },
    {
     "data": {
      "text/markdown": [
       "https://ztf.snad.space/view/735111200007977"
      ]
     },
     "metadata": {},
     "output_type": "display_data"
    },
    {
     "name": "stdout",
     "output_type": "stream",
     "text": [
      "KNN 14 \n",
      "\n"
     ]
    },
    {
     "data": {
      "text/markdown": [
       "https://ztf.snad.space/view/757115100002190"
      ]
     },
     "metadata": {},
     "output_type": "display_data"
    },
    {
     "data": {
      "text/markdown": [
       "https://ztf.snad.space/view/792101400013907"
      ]
     },
     "metadata": {},
     "output_type": "display_data"
    },
    {
     "data": {
      "text/markdown": [
       "https://ztf.snad.space/view/595116200000958"
      ]
     },
     "metadata": {},
     "output_type": "display_data"
    },
    {
     "data": {
      "text/markdown": [
       "https://ztf.snad.space/view/634108100006647"
      ]
     },
     "metadata": {},
     "output_type": "display_data"
    },
    {
     "data": {
      "text/markdown": [
       "https://ztf.snad.space/view/793111200009141"
      ]
     },
     "metadata": {},
     "output_type": "display_data"
    },
    {
     "data": {
      "text/markdown": [
       "https://ztf.snad.space/view/849109300006928"
      ]
     },
     "metadata": {},
     "output_type": "display_data"
    },
    {
     "data": {
      "text/markdown": [
       "https://ztf.snad.space/view/860110200001184"
      ]
     },
     "metadata": {},
     "output_type": "display_data"
    },
    {
     "name": "stdout",
     "output_type": "stream",
     "text": [
      "KNN 15 \n",
      "\n"
     ]
    },
    {
     "data": {
      "text/markdown": [
       "https://ztf.snad.space/view/793107200002055"
      ]
     },
     "metadata": {},
     "output_type": "display_data"
    },
    {
     "data": {
      "text/markdown": [
       "https://ztf.snad.space/view/766111300018322"
      ]
     },
     "metadata": {},
     "output_type": "display_data"
    },
    {
     "data": {
      "text/markdown": [
       "https://ztf.snad.space/view/677112100002841"
      ]
     },
     "metadata": {},
     "output_type": "display_data"
    },
    {
     "data": {
      "text/markdown": [
       "https://ztf.snad.space/view/792105300007593"
      ]
     },
     "metadata": {},
     "output_type": "display_data"
    },
    {
     "data": {
      "text/markdown": [
       "https://ztf.snad.space/view/525116300002048"
      ]
     },
     "metadata": {},
     "output_type": "display_data"
    },
    {
     "data": {
      "text/markdown": [
       "https://ztf.snad.space/view/524115200000956"
      ]
     },
     "metadata": {},
     "output_type": "display_data"
    },
    {
     "data": {
      "text/markdown": [
       "https://ztf.snad.space/view/864111200008339"
      ]
     },
     "metadata": {},
     "output_type": "display_data"
    }
   ],
   "source": [
    "from IPython.display import display_markdown\n",
    "\n",
    "for knn in range(0,15):\n",
    "    print(f\"KNN {knn+1} \\n\")\n",
    "    _ = [display_markdown(f'https://ztf.snad.space/view/{oid}', raw=True) for oid in \\\n",
    "         kdtree_results_df[f'knn={knn+1}_match_OID']]"
   ]
  },
  {
   "cell_type": "code",
   "execution_count": 18,
   "metadata": {},
   "outputs": [],
   "source": [
    "match_results_df = pd.DataFrame()\n",
    "match_results_df['sid'] = fakes_df.index\n",
    "match_results_df = match_results_df.set_index('sid')\n",
    "\n",
    "# Use generic classes: Varstar, Gal, QSO, SN, uncatalogued, artifacts \n",
    "# Simple table of NON-UNIQUE COUNTS\n",
    "#   Type           (count) |         Subtype(s)     \n",
    "# Varstar types (count=49): RR Lyrae (27), UG (15), Cepheid (1), Mira (3), SR (2), RS CVn (1)\n",
    "# QSO types (count=18): QSO (17), BLLAC (1)\n",
    "# Galaxy types (count=3): Seyfert (2), Radio (1)\n",
    "# SN (count=26): Known (10 total -- 7 unique), new SNAD (16 total -- 11 unique) (see Table abc!)\n",
    "# uncatalogued (count=9): 8 [4 (QSO) + 5 (SN/AGN)]\n",
    "# artifacts (count=0): 0\n",
    "# TOTAL (count=105)\n",
    "\n",
    "# [6439074373, 9020928999, 6011793767, 4229763628, 6417979422, 6031286883, 604029941]\n",
    "\n",
    "# KNOWN/REPORTED SN:\n",
    "# Name                                       KNN        SIM TYPE   \n",
    "# AT 2019mzp (reported SN! -- ATLAS20hzm) | KNN=2 | SID=604029941 (SLSN) | ZTF OID=583101400001339\n",
    "# AT 2019gsn (reported SN! -- ATLAS19mbr) | KNN=3 | SID=4229763628 (SN II) | ZTF OID=681115400012617\n",
    "# \"                                   \"  | KNN=5 | SID=6439074373 (TDE) | ZTF OID=681115400012617\n",
    "# \"                                   \"  | KNN=8 | SID=9020928999 (SN Ia) | ZTF OID=681115400012617\n",
    "# \"                                   \"  | KNN=8 | SID=604029941 (SLSN) | ZTF OID=681115400012617\n",
    "# AT 2018lxn (reported SN! -- SNAD129)    | KNN=9 | SID=9020928999 (SN Ia) | ZTF OID=721110100002360\n",
    "# AT 2018bhq (reported SN! -- ATLAS18oay) | KNN=12 | SID=6439074373 (TDE) | ZTF OID=676101100005215\n",
    "# SN 2018aej (spec SN Ia -- PS18mh)       | KNN=13 | SID=9020928999 (SN Ia) | ZTF OID=721106300009409\n",
    "# AT 2018dvs (reported SN! -- ZTF19aaqejgh) | KNN=14 | SID=9020928999 (SN Ia) | ZTF OID=792101400013907\n",
    "# SN 2018aoy (spec SN Ia -- ATLAS18mzo | KNN=15 | SID=6439074373 (TDE) | ZTF OID=793107200002055\n",
    "\n",
    "# Transient Mining SNAD Discoveries (this work):\n",
    "# Name                  KNN        SIM TYPE                 \n",
    "# SNAD152/AT 2018lyx | KNN=2 | SID=9020928999 (SN Ia) | ZTF OID=792111100012457\n",
    "# SNAD149/AT 2018lyu | KNN=2 | SID=6417979422 (TDE) | ZTF OID=849102200015533\n",
    "# \"                \" | KNN=12 | SID=6031286883 (SLSN) | ZTF OID=849102200015533\n",
    "# SNAD150/AT 2018lyv | KNN=4 | SID=6439074373 (TDE) | ZTF OID=679108100003227\n",
    "# \"                \" | KNN=5 | SID=9020928999 (SN Ia) | ZTF OID=679108100003227\n",
    "# \"                \" | KNN=6 | SID=6031286883 (SLSN) | ZTF OID=679108100003227\n",
    "# SNAD153/AT 2018lyy | KNN=6 | SID=6439074373 (TDE) | ZTF OID=643105300009229\n",
    "# SNAD151/AT 2018lyw | KNN=6 | SID=4229763628 (SN II) | ZTF OID=790103100000915\n",
    "# \"                \" | KNN=8 | SID=6439074373 (TDE) | ZTF OID=790103100000915\n",
    "# SNAD154/AT 2018lyz | KNN=7 | SID=9020928999 (SN Ia) | ZTF OID=719102100006086\n",
    "# \"                \" | KNN=13 | SID=6439074373 (TDE) | ZTF OID=719102100006086\n",
    "# SNAD155/AT 2018lza | KNN=9 | SID=6417979422 (TDE) | ZTF OID=718105300007353\n",
    "# SNAD156/AT 2018lzb | KNN=10 | SID=9020928999 (SN Ia) | ZTF OID=755103100026105\n",
    "# SNAD157/AT 2018lzc | KNN=11 | SID=9020928999 (SN Ia) | ZTF OID=684115200018744\n",
    "# SNAD158/AT 2018lzd | KNN=14 | SID=4229763628 (SN II) | ZTF OID=634108100006647\n",
    "# SNAD159/AT 2018lze | KNN=15 | SID=4229763628 (SN II) | ZTF OID=792105300007593\n",
    "\n",
    "match_results_df[f'knn=1_match_type'] = [('407113200000457', 'Varstar (UG)'), \n",
    "                                          ('723103100016148', 'Uncatalogued'), \n",
    "                                          ('677116400000863', 'QSO'), \n",
    "                                          ('792112400009928', 'QSO'),\n",
    "                                          ('698103400000840', 'Varstar (UG)'), \n",
    "                                          ('817105300001401', 'QSO'),\n",
    "                                          ('452109400000422', 'Varstar (Mira)')]\n",
    "\n",
    "\n",
    "match_results_df[f'knn=2_match_type'] = [('636102100000584', 'Varstar (UG)'), \n",
    "                                          ('792111100012457', 'SNAD152'), \n",
    "                                          ('677105300002652', 'QSO'), \n",
    "                                          ('723113400015131', 'Uncatalogued'), \n",
    "                                          ('849102200015533', 'SNAD149'), \n",
    "                                          ('636102100000584', 'Varstar (UG)'), \n",
    "                                          ('583101400001339', 'SN')]\n",
    "\n",
    "match_results_df[f'knn=3_match_type'] = [('789115200006620', 'Varstar (UG)'), \n",
    "                                          ('844106400002117', 'Radio'), \n",
    "                                          ('677106200003154', 'QSO'), \n",
    "                                          ('681115400012617', 'SN'),\n",
    "                                          ('754109300001159', 'SR'), \n",
    "                                          ('698103400000840', 'Varstar (UG)'), \n",
    "                                          ('695111400014397', 'Varstar (Cepheid)')]\n",
    "\n",
    "match_results_df[f'knn=4_match_type'] = [('679108100003227', 'SNAD150'), \n",
    "                                          ('843110200002130', 'Uncatalogued'), \n",
    "                                          ('823109200001894', 'QSO'), \n",
    "                                          ('643110100008514', 'Varstar (RS CVn)'), \n",
    "                                          ('643115100008829', 'Varstar (RR Lyrae)'), \n",
    "                                          ('407113200000457', 'Varstar (UG)'),\n",
    "                                          ('857106200000362', 'Varstar (RR Lyrae)')]\n",
    "\n",
    "match_results_df[f'knn=5_match_type'] = [('681115400012617', 'SN'), \n",
    "                                          ('679108100003227', 'SNAD150'), \n",
    "                                          ('473115200000118', 'QSO'), \n",
    "                                          ('757115100002190', 'QSO'),\n",
    "                                          ('691102100003503', 'Varstar (RR Lyrae)'), \n",
    "                                          ('828103400007547', 'Varstar (UGSS)'), \n",
    "                                          ('817105300001401', 'QSO')]\n",
    "\n",
    "\n",
    "match_results_df[f'knn=6_match_type'] = [('643105300009229', 'SNAD153'), \n",
    "                                          ('789115200006620', 'Varstar (UG)'), \n",
    "                                          ('822104100001763', 'QSO'), \n",
    "                                          ('790103100000915', 'SNAD151'), \n",
    "                                          ('643104100004109', 'Varstar (RR Lyrae)'), \n",
    "                                          ('679108100003227', 'SNAD150'), \n",
    "                                          ('648115400000608', 'Varstar (RR Lyrae)')]\n",
    "\n",
    "match_results_df[f'knn=7_match_type'] = [('636116100005131', 'Varstar (UGSU)'), \n",
    "                                          ('719102100006086', 'SNAD154'),\n",
    "                                          ('669113100003919', 'Seyfert'), \n",
    "                                          ('721105100002309', 'Varstar (UG)'), \n",
    "                                          ('717104100000099', 'Uncatalogued'),\n",
    "                                          ('588113200030350', 'Varstar (Mira)'), \n",
    "                                          ('596113100008238', 'Varstar (Mira)')]\n",
    "\n",
    "match_results_df[f'knn=8_match_type'] = [('790103100000915', 'SNAD151'), \n",
    "                                          ('681115400012617', 'SN'),\n",
    "                                          ('677110300002781', 'QSO'), \n",
    "                                          ('759110300004319', 'BLLAC'), \n",
    "                                          ('643115300006159', 'Varstar (RR Lyrae)'),\n",
    "                                          ('681115400012617', 'SN'),\n",
    "                                          ('496112100004755', 'Varstar (RR Lyrae)')]\n",
    "\n",
    "match_results_df[f'knn=9_match_type'] = [('594109100004829', 'Varstar (UGER)'),\n",
    "                                          ('721110100002360', 'SN'),\n",
    "                                          ('822110200011495', 'QSO'),\n",
    "                                          ('715109100000034', 'Varstar (RR Lyrae)'), \n",
    "                                          ('718105300007353', 'SNAD155'), \n",
    "                                          ('692108100000145', 'Varstar (RR Lyrae)'),\n",
    "                                          ('649110400002437', 'Varstar (RR Lyrae)')]\n",
    "\n",
    "match_results_df[f'knn=10_match_type'] = [('839103100009823', 'Varstar (UGSU)'),\n",
    "                                           ('755103100026105', 'SNAD156'), \n",
    "                                           ('676101300005635', 'QSO'),\n",
    "                                           ('847114100003486', 'Varstar (RR Lyrae)'), \n",
    "                                           ('752101400010658', 'Varstar (RR Lyrae)'),\n",
    "                                           ('595108400006567', 'Varstar (RR Lyrae)'), \n",
    "                                           ('346105100008449', 'Varstar (RR Lyrae)')]\n",
    "\n",
    "match_results_df[f'knn=11_match_type'] = [('483105400003296', 'Varstar (UGSU)'),\n",
    "                                           ('684115200018744', 'SNAD157'), \n",
    "                                           ('587101300003767', 'SR'), \n",
    "                                           ('840109400004740', 'Varstar (RR Lyrae)'), \n",
    "                                           ('643102200008503', 'Varstar (RR Lyrae)'), \n",
    "                                           ('692114300003891', 'Varstar (RR Lyrae)'),\n",
    "                                           ('497116200001007', 'Varstar (RR Lyrae)')]\n",
    "\n",
    "match_results_df[f'knn=12_match_type'] = [('676101100005215', 'SN'), \n",
    "                                           ('407113200000457', 'Varstar (UG)'),\n",
    "                                           ('819111400000931', 'Seyfert'), \n",
    "                                           ('790111400004261', 'QSO'),\n",
    "                                           ('525109400003682', 'Varstar (RR Lyrae)'), \n",
    "                                           ('849102200015533', 'SNAD149'),\n",
    "                                           ('608105100013926', 'Varstar (RR Lyrae)')]\n",
    "\n",
    "match_results_df[f'knn=13_match_type'] = [('719102100006086', 'SNAD154'),\n",
    "                                           ('721106300009409', 'SN'), \n",
    "                                           ('677102400003100', 'QSO'), \n",
    "                                           ('758111400001153', 'Varstar (RR Lyrae)'),\n",
    "                                           ('790111400004261', 'Uncatalogued'), \n",
    "                                           ('695105400005983', 'Varstar (RR Lyrae)'), \n",
    "                                           ('735111200007977', 'Varstar (RR Lyrae)')]\n",
    "\n",
    "match_results_df[f'knn=14_match_type'] = [('757115100002190', 'QSO'),\n",
    "                                           ('792101400013907', 'SN'),\n",
    "                                           ('595116200000958', 'Varstar (RR Lyrae)'), \n",
    "                                           ('634108100006647', 'SNAD158'), \n",
    "                                           ('793111200009141', 'Uncatalogued'), \n",
    "                                           ('849109300006928', 'Uncatalogued'),\n",
    "                                           ('860110200001184', 'Varstar (RR Lyrae)')]\n",
    "\n",
    "match_results_df[f'knn=15_match_type'] = [('793107200002055', 'SN'), \n",
    "                                           ('766111300018322', 'Uncatalogued'), \n",
    "                                           ('677112100002841', 'QSO'), \n",
    "                                           ('792105300007593', 'SNAD159'), \n",
    "                                           ('525116300002048', 'Varstar (RR Lyrae)'), \n",
    "                                           ('524115200000956', 'Varstar (RR Lyrae)'), \n",
    "                                           ('864111200008339', 'Uncatalogued')]\n"
   ]
  },
  {
   "cell_type": "code",
   "execution_count": 19,
   "metadata": {},
   "outputs": [],
   "source": [
    "#for knn in range(0,15):\n",
    "#    print(f\"\\n KNN \"+ str(knn+1)+ \"\\n\")\n",
    "#    print([(str(oid),'abc') for oid in kdtree_results_df[f'knn={knn+1}_match_OID']])"
   ]
  },
  {
   "cell_type": "code",
   "execution_count": 20,
   "metadata": {},
   "outputs": [
    {
     "data": {
      "text/html": [
       "<div>\n",
       "<style scoped>\n",
       "    .dataframe tbody tr th:only-of-type {\n",
       "        vertical-align: middle;\n",
       "    }\n",
       "\n",
       "    .dataframe tbody tr th {\n",
       "        vertical-align: top;\n",
       "    }\n",
       "\n",
       "    .dataframe thead th {\n",
       "        text-align: right;\n",
       "    }\n",
       "</style>\n",
       "<table border=\"1\" class=\"dataframe\">\n",
       "  <thead>\n",
       "    <tr style=\"text-align: right;\">\n",
       "      <th></th>\n",
       "      <th>knn=1_match_type</th>\n",
       "      <th>knn=2_match_type</th>\n",
       "      <th>knn=3_match_type</th>\n",
       "      <th>knn=4_match_type</th>\n",
       "      <th>knn=5_match_type</th>\n",
       "      <th>knn=6_match_type</th>\n",
       "      <th>knn=7_match_type</th>\n",
       "      <th>knn=8_match_type</th>\n",
       "      <th>knn=9_match_type</th>\n",
       "      <th>knn=10_match_type</th>\n",
       "      <th>knn=11_match_type</th>\n",
       "      <th>knn=12_match_type</th>\n",
       "      <th>knn=13_match_type</th>\n",
       "      <th>knn=14_match_type</th>\n",
       "      <th>knn=15_match_type</th>\n",
       "    </tr>\n",
       "    <tr>\n",
       "      <th>sid</th>\n",
       "      <th></th>\n",
       "      <th></th>\n",
       "      <th></th>\n",
       "      <th></th>\n",
       "      <th></th>\n",
       "      <th></th>\n",
       "      <th></th>\n",
       "      <th></th>\n",
       "      <th></th>\n",
       "      <th></th>\n",
       "      <th></th>\n",
       "      <th></th>\n",
       "      <th></th>\n",
       "      <th></th>\n",
       "      <th></th>\n",
       "    </tr>\n",
       "  </thead>\n",
       "  <tbody>\n",
       "    <tr>\n",
       "      <th>6439074373</th>\n",
       "      <td>(407113200000457, Varstar (UG))</td>\n",
       "      <td>(636102100000584, Varstar (UG))</td>\n",
       "      <td>(789115200006620, Varstar (UG))</td>\n",
       "      <td>(679108100003227, SNAD150)</td>\n",
       "      <td>(681115400012617, SN)</td>\n",
       "      <td>(643105300009229, SNAD153)</td>\n",
       "      <td>(636116100005131, Varstar (UGSU))</td>\n",
       "      <td>(790103100000915, SNAD151)</td>\n",
       "      <td>(594109100004829, Varstar (UGER))</td>\n",
       "      <td>(839103100009823, Varstar (UGSU))</td>\n",
       "      <td>(483105400003296, Varstar (UGSU))</td>\n",
       "      <td>(676101100005215, SN)</td>\n",
       "      <td>(719102100006086, SNAD154)</td>\n",
       "      <td>(757115100002190, QSO)</td>\n",
       "      <td>(793107200002055, SN)</td>\n",
       "    </tr>\n",
       "    <tr>\n",
       "      <th>9020928999</th>\n",
       "      <td>(723103100016148, Uncatalogued)</td>\n",
       "      <td>(792111100012457, SNAD152)</td>\n",
       "      <td>(844106400002117, Radio)</td>\n",
       "      <td>(843110200002130, Uncatalogued)</td>\n",
       "      <td>(679108100003227, SNAD150)</td>\n",
       "      <td>(789115200006620, Varstar (UG))</td>\n",
       "      <td>(719102100006086, SNAD154)</td>\n",
       "      <td>(681115400012617, SN)</td>\n",
       "      <td>(721110100002360, SN)</td>\n",
       "      <td>(755103100026105, SNAD156)</td>\n",
       "      <td>(684115200018744, SNAD157)</td>\n",
       "      <td>(407113200000457, Varstar (UG))</td>\n",
       "      <td>(721106300009409, SN)</td>\n",
       "      <td>(792101400013907, SN)</td>\n",
       "      <td>(766111300018322, Uncatalogued)</td>\n",
       "    </tr>\n",
       "    <tr>\n",
       "      <th>6011793767</th>\n",
       "      <td>(677116400000863, QSO)</td>\n",
       "      <td>(677105300002652, QSO)</td>\n",
       "      <td>(677106200003154, QSO)</td>\n",
       "      <td>(823109200001894, QSO)</td>\n",
       "      <td>(473115200000118, QSO)</td>\n",
       "      <td>(822104100001763, QSO)</td>\n",
       "      <td>(669113100003919, Seyfert)</td>\n",
       "      <td>(677110300002781, QSO)</td>\n",
       "      <td>(822110200011495, QSO)</td>\n",
       "      <td>(676101300005635, QSO)</td>\n",
       "      <td>(587101300003767, SR)</td>\n",
       "      <td>(819111400000931, Seyfert)</td>\n",
       "      <td>(677102400003100, QSO)</td>\n",
       "      <td>(595116200000958, Varstar (RR Lyrae))</td>\n",
       "      <td>(677112100002841, QSO)</td>\n",
       "    </tr>\n",
       "    <tr>\n",
       "      <th>4229763628</th>\n",
       "      <td>(792112400009928, QSO)</td>\n",
       "      <td>(723113400015131, Uncatalogued)</td>\n",
       "      <td>(681115400012617, SN)</td>\n",
       "      <td>(643110100008514, Varstar (RS CVn))</td>\n",
       "      <td>(757115100002190, QSO)</td>\n",
       "      <td>(790103100000915, SNAD151)</td>\n",
       "      <td>(721105100002309, Varstar (UG))</td>\n",
       "      <td>(759110300004319, BLLAC)</td>\n",
       "      <td>(715109100000034, Varstar (RR Lyrae))</td>\n",
       "      <td>(847114100003486, Varstar (RR Lyrae))</td>\n",
       "      <td>(840109400004740, Varstar (RR Lyrae))</td>\n",
       "      <td>(790111400004261, QSO)</td>\n",
       "      <td>(758111400001153, Varstar (RR Lyrae))</td>\n",
       "      <td>(634108100006647, SNAD158)</td>\n",
       "      <td>(792105300007593, SNAD159)</td>\n",
       "    </tr>\n",
       "    <tr>\n",
       "      <th>6417979422</th>\n",
       "      <td>(698103400000840, Varstar (UG))</td>\n",
       "      <td>(849102200015533, SNAD149)</td>\n",
       "      <td>(754109300001159, SR)</td>\n",
       "      <td>(643115100008829, Varstar (RR Lyrae))</td>\n",
       "      <td>(691102100003503, Varstar (RR Lyrae))</td>\n",
       "      <td>(643104100004109, Varstar (RR Lyrae))</td>\n",
       "      <td>(717104100000099, Uncatalogued)</td>\n",
       "      <td>(643115300006159, Varstar (RR Lyrae))</td>\n",
       "      <td>(718105300007353, SNAD155)</td>\n",
       "      <td>(752101400010658, Varstar (RR Lyrae))</td>\n",
       "      <td>(643102200008503, Varstar (RR Lyrae))</td>\n",
       "      <td>(525109400003682, Varstar (RR Lyrae))</td>\n",
       "      <td>(790111400004261, Uncatalogued)</td>\n",
       "      <td>(793111200009141, Uncatalogued)</td>\n",
       "      <td>(525116300002048, Varstar (RR Lyrae))</td>\n",
       "    </tr>\n",
       "    <tr>\n",
       "      <th>6031286883</th>\n",
       "      <td>(817105300001401, QSO)</td>\n",
       "      <td>(636102100000584, Varstar (UG))</td>\n",
       "      <td>(698103400000840, Varstar (UG))</td>\n",
       "      <td>(407113200000457, Varstar (UG))</td>\n",
       "      <td>(828103400007547, Varstar (UGSS))</td>\n",
       "      <td>(679108100003227, SNAD150)</td>\n",
       "      <td>(588113200030350, Varstar (Mira))</td>\n",
       "      <td>(681115400012617, SN)</td>\n",
       "      <td>(692108100000145, Varstar (RR Lyrae))</td>\n",
       "      <td>(595108400006567, Varstar (RR Lyrae))</td>\n",
       "      <td>(692114300003891, Varstar (RR Lyrae))</td>\n",
       "      <td>(849102200015533, SNAD149)</td>\n",
       "      <td>(695105400005983, Varstar (RR Lyrae))</td>\n",
       "      <td>(849109300006928, Uncatalogued)</td>\n",
       "      <td>(524115200000956, Varstar (RR Lyrae))</td>\n",
       "    </tr>\n",
       "    <tr>\n",
       "      <th>604029941</th>\n",
       "      <td>(452109400000422, Varstar (Mira))</td>\n",
       "      <td>(583101400001339, SN)</td>\n",
       "      <td>(695111400014397, Varstar (Cepheid))</td>\n",
       "      <td>(857106200000362, Varstar (RR Lyrae))</td>\n",
       "      <td>(817105300001401, QSO)</td>\n",
       "      <td>(648115400000608, Varstar (RR Lyrae))</td>\n",
       "      <td>(596113100008238, Varstar (Mira))</td>\n",
       "      <td>(496112100004755, Varstar (RR Lyrae))</td>\n",
       "      <td>(649110400002437, Varstar (RR Lyrae))</td>\n",
       "      <td>(346105100008449, Varstar (RR Lyrae))</td>\n",
       "      <td>(497116200001007, Varstar (RR Lyrae))</td>\n",
       "      <td>(608105100013926, Varstar (RR Lyrae))</td>\n",
       "      <td>(735111200007977, Varstar (RR Lyrae))</td>\n",
       "      <td>(860110200001184, Varstar (RR Lyrae))</td>\n",
       "      <td>(864111200008339, Uncatalogued)</td>\n",
       "    </tr>\n",
       "  </tbody>\n",
       "</table>\n",
       "</div>"
      ],
      "text/plain": [
       "                             knn=1_match_type  \\\n",
       "sid                                             \n",
       "6439074373    (407113200000457, Varstar (UG))   \n",
       "9020928999    (723103100016148, Uncatalogued)   \n",
       "6011793767             (677116400000863, QSO)   \n",
       "4229763628             (792112400009928, QSO)   \n",
       "6417979422    (698103400000840, Varstar (UG))   \n",
       "6031286883             (817105300001401, QSO)   \n",
       "604029941   (452109400000422, Varstar (Mira))   \n",
       "\n",
       "                           knn=2_match_type  \\\n",
       "sid                                           \n",
       "6439074373  (636102100000584, Varstar (UG))   \n",
       "9020928999       (792111100012457, SNAD152)   \n",
       "6011793767           (677105300002652, QSO)   \n",
       "4229763628  (723113400015131, Uncatalogued)   \n",
       "6417979422       (849102200015533, SNAD149)   \n",
       "6031286883  (636102100000584, Varstar (UG))   \n",
       "604029941             (583101400001339, SN)   \n",
       "\n",
       "                                knn=3_match_type  \\\n",
       "sid                                                \n",
       "6439074373       (789115200006620, Varstar (UG))   \n",
       "9020928999              (844106400002117, Radio)   \n",
       "6011793767                (677106200003154, QSO)   \n",
       "4229763628                 (681115400012617, SN)   \n",
       "6417979422                 (754109300001159, SR)   \n",
       "6031286883       (698103400000840, Varstar (UG))   \n",
       "604029941   (695111400014397, Varstar (Cepheid))   \n",
       "\n",
       "                                 knn=4_match_type  \\\n",
       "sid                                                 \n",
       "6439074373             (679108100003227, SNAD150)   \n",
       "9020928999        (843110200002130, Uncatalogued)   \n",
       "6011793767                 (823109200001894, QSO)   \n",
       "4229763628    (643110100008514, Varstar (RS CVn))   \n",
       "6417979422  (643115100008829, Varstar (RR Lyrae))   \n",
       "6031286883        (407113200000457, Varstar (UG))   \n",
       "604029941   (857106200000362, Varstar (RR Lyrae))   \n",
       "\n",
       "                                 knn=5_match_type  \\\n",
       "sid                                                 \n",
       "6439074373                  (681115400012617, SN)   \n",
       "9020928999             (679108100003227, SNAD150)   \n",
       "6011793767                 (473115200000118, QSO)   \n",
       "4229763628                 (757115100002190, QSO)   \n",
       "6417979422  (691102100003503, Varstar (RR Lyrae))   \n",
       "6031286883      (828103400007547, Varstar (UGSS))   \n",
       "604029941                  (817105300001401, QSO)   \n",
       "\n",
       "                                 knn=6_match_type  \\\n",
       "sid                                                 \n",
       "6439074373             (643105300009229, SNAD153)   \n",
       "9020928999        (789115200006620, Varstar (UG))   \n",
       "6011793767                 (822104100001763, QSO)   \n",
       "4229763628             (790103100000915, SNAD151)   \n",
       "6417979422  (643104100004109, Varstar (RR Lyrae))   \n",
       "6031286883             (679108100003227, SNAD150)   \n",
       "604029941   (648115400000608, Varstar (RR Lyrae))   \n",
       "\n",
       "                             knn=7_match_type  \\\n",
       "sid                                             \n",
       "6439074373  (636116100005131, Varstar (UGSU))   \n",
       "9020928999         (719102100006086, SNAD154)   \n",
       "6011793767         (669113100003919, Seyfert)   \n",
       "4229763628    (721105100002309, Varstar (UG))   \n",
       "6417979422    (717104100000099, Uncatalogued)   \n",
       "6031286883  (588113200030350, Varstar (Mira))   \n",
       "604029941   (596113100008238, Varstar (Mira))   \n",
       "\n",
       "                                 knn=8_match_type  \\\n",
       "sid                                                 \n",
       "6439074373             (790103100000915, SNAD151)   \n",
       "9020928999                  (681115400012617, SN)   \n",
       "6011793767                 (677110300002781, QSO)   \n",
       "4229763628               (759110300004319, BLLAC)   \n",
       "6417979422  (643115300006159, Varstar (RR Lyrae))   \n",
       "6031286883                  (681115400012617, SN)   \n",
       "604029941   (496112100004755, Varstar (RR Lyrae))   \n",
       "\n",
       "                                 knn=9_match_type  \\\n",
       "sid                                                 \n",
       "6439074373      (594109100004829, Varstar (UGER))   \n",
       "9020928999                  (721110100002360, SN)   \n",
       "6011793767                 (822110200011495, QSO)   \n",
       "4229763628  (715109100000034, Varstar (RR Lyrae))   \n",
       "6417979422             (718105300007353, SNAD155)   \n",
       "6031286883  (692108100000145, Varstar (RR Lyrae))   \n",
       "604029941   (649110400002437, Varstar (RR Lyrae))   \n",
       "\n",
       "                                knn=10_match_type  \\\n",
       "sid                                                 \n",
       "6439074373      (839103100009823, Varstar (UGSU))   \n",
       "9020928999             (755103100026105, SNAD156)   \n",
       "6011793767                 (676101300005635, QSO)   \n",
       "4229763628  (847114100003486, Varstar (RR Lyrae))   \n",
       "6417979422  (752101400010658, Varstar (RR Lyrae))   \n",
       "6031286883  (595108400006567, Varstar (RR Lyrae))   \n",
       "604029941   (346105100008449, Varstar (RR Lyrae))   \n",
       "\n",
       "                                knn=11_match_type  \\\n",
       "sid                                                 \n",
       "6439074373      (483105400003296, Varstar (UGSU))   \n",
       "9020928999             (684115200018744, SNAD157)   \n",
       "6011793767                  (587101300003767, SR)   \n",
       "4229763628  (840109400004740, Varstar (RR Lyrae))   \n",
       "6417979422  (643102200008503, Varstar (RR Lyrae))   \n",
       "6031286883  (692114300003891, Varstar (RR Lyrae))   \n",
       "604029941   (497116200001007, Varstar (RR Lyrae))   \n",
       "\n",
       "                                knn=12_match_type  \\\n",
       "sid                                                 \n",
       "6439074373                  (676101100005215, SN)   \n",
       "9020928999        (407113200000457, Varstar (UG))   \n",
       "6011793767             (819111400000931, Seyfert)   \n",
       "4229763628                 (790111400004261, QSO)   \n",
       "6417979422  (525109400003682, Varstar (RR Lyrae))   \n",
       "6031286883             (849102200015533, SNAD149)   \n",
       "604029941   (608105100013926, Varstar (RR Lyrae))   \n",
       "\n",
       "                                knn=13_match_type  \\\n",
       "sid                                                 \n",
       "6439074373             (719102100006086, SNAD154)   \n",
       "9020928999                  (721106300009409, SN)   \n",
       "6011793767                 (677102400003100, QSO)   \n",
       "4229763628  (758111400001153, Varstar (RR Lyrae))   \n",
       "6417979422        (790111400004261, Uncatalogued)   \n",
       "6031286883  (695105400005983, Varstar (RR Lyrae))   \n",
       "604029941   (735111200007977, Varstar (RR Lyrae))   \n",
       "\n",
       "                                knn=14_match_type  \\\n",
       "sid                                                 \n",
       "6439074373                 (757115100002190, QSO)   \n",
       "9020928999                  (792101400013907, SN)   \n",
       "6011793767  (595116200000958, Varstar (RR Lyrae))   \n",
       "4229763628             (634108100006647, SNAD158)   \n",
       "6417979422        (793111200009141, Uncatalogued)   \n",
       "6031286883        (849109300006928, Uncatalogued)   \n",
       "604029941   (860110200001184, Varstar (RR Lyrae))   \n",
       "\n",
       "                                knn=15_match_type  \n",
       "sid                                                \n",
       "6439074373                  (793107200002055, SN)  \n",
       "9020928999        (766111300018322, Uncatalogued)  \n",
       "6011793767                 (677112100002841, QSO)  \n",
       "4229763628             (792105300007593, SNAD159)  \n",
       "6417979422  (525116300002048, Varstar (RR Lyrae))  \n",
       "6031286883  (524115200000956, Varstar (RR Lyrae))  \n",
       "604029941         (864111200008339, Uncatalogued)  "
      ]
     },
     "execution_count": 20,
     "metadata": {},
     "output_type": "execute_result"
    }
   ],
   "source": [
    "#match_results_df.to_csv(\"./dataframes/orig_match_results_df.csv.gzip\", compression='gzip')\n",
    "match_results_df"
   ]
  },
  {
   "cell_type": "markdown",
   "metadata": {},
   "source": [
    "# Make scatterplots\n",
    "\n",
    "### An example figure of two features (e.g. amplitude vs median mag) with your simulated events, real objects, and 105 selected objects would help convince the reader that hypotheses 1 and 2 are correct."
   ]
  },
  {
   "cell_type": "code",
   "execution_count": 21,
   "metadata": {},
   "outputs": [],
   "source": [
    "# Split real data df into our mining deposit (105 object sample) and rest of ZTF DR4\n",
    "\n",
    "unique_dr4_match_list = np.unique(np.hstack(kdtree_results_df.values))\n",
    "\n",
    "unique_dr4_match_df = dr4_df[dr4_df.index.isin(unique_dr4_match_list)] \n",
    "remainder_dr4_df = dr4_df[~dr4_df.index.isin(unique_dr4_match_list)]\n"
   ]
  },
  {
   "cell_type": "code",
   "execution_count": 22,
   "metadata": {},
   "outputs": [
    {
     "data": {
      "text/html": [
       "<div>\n",
       "<style scoped>\n",
       "    .dataframe tbody tr th:only-of-type {\n",
       "        vertical-align: middle;\n",
       "    }\n",
       "\n",
       "    .dataframe tbody tr th {\n",
       "        vertical-align: top;\n",
       "    }\n",
       "\n",
       "    .dataframe thead th {\n",
       "        text-align: right;\n",
       "    }\n",
       "</style>\n",
       "<table border=\"1\" class=\"dataframe\">\n",
       "  <thead>\n",
       "    <tr style=\"text-align: right;\">\n",
       "      <th></th>\n",
       "      <th>amplitude_magn_g</th>\n",
       "      <th>anderson_darling_normal_magn_g</th>\n",
       "      <th>beyond_1_std_magn_g</th>\n",
       "      <th>beyond_2_std_magn_g</th>\n",
       "      <th>cusum_magn_g</th>\n",
       "      <th>inter_percentile_range_2_magn_g</th>\n",
       "      <th>inter_percentile_range_10_magn_g</th>\n",
       "      <th>inter_percentile_range_25_magn_g</th>\n",
       "      <th>kurtosis_magn_g</th>\n",
       "      <th>linear_fit_slope_magn_g</th>\n",
       "      <th>...</th>\n",
       "      <th>standard_deviation_magn_r</th>\n",
       "      <th>stetson_K_magn_r</th>\n",
       "      <th>weighted_mean_magn_r</th>\n",
       "      <th>anderson_darling_normal_flux_r</th>\n",
       "      <th>cusum_flux_r</th>\n",
       "      <th>excess_variance_flux_r</th>\n",
       "      <th>kurtosis_flux_r</th>\n",
       "      <th>mean_variance_flux_r</th>\n",
       "      <th>skew_flux_r</th>\n",
       "      <th>stetson_K_flux_r</th>\n",
       "    </tr>\n",
       "    <tr>\n",
       "      <th>sid</th>\n",
       "      <th></th>\n",
       "      <th></th>\n",
       "      <th></th>\n",
       "      <th></th>\n",
       "      <th></th>\n",
       "      <th></th>\n",
       "      <th></th>\n",
       "      <th></th>\n",
       "      <th></th>\n",
       "      <th></th>\n",
       "      <th></th>\n",
       "      <th></th>\n",
       "      <th></th>\n",
       "      <th></th>\n",
       "      <th></th>\n",
       "      <th></th>\n",
       "      <th></th>\n",
       "      <th></th>\n",
       "      <th></th>\n",
       "      <th></th>\n",
       "      <th></th>\n",
       "    </tr>\n",
       "  </thead>\n",
       "  <tbody>\n",
       "    <tr>\n",
       "      <th>634108100006647</th>\n",
       "      <td>0.788501</td>\n",
       "      <td>4.144565</td>\n",
       "      <td>0.326693</td>\n",
       "      <td>0.031873</td>\n",
       "      <td>0.271581</td>\n",
       "      <td>1.091082</td>\n",
       "      <td>0.741800</td>\n",
       "      <td>0.355999</td>\n",
       "      <td>-0.066709</td>\n",
       "      <td>-0.000598</td>\n",
       "      <td>...</td>\n",
       "      <td>0.208345</td>\n",
       "      <td>0.837547</td>\n",
       "      <td>20.234222</td>\n",
       "      <td>10.895554</td>\n",
       "      <td>0.259617</td>\n",
       "      <td>0.028294</td>\n",
       "      <td>0.145910</td>\n",
       "      <td>0.201797</td>\n",
       "      <td>0.897678</td>\n",
       "      <td>0.792870</td>\n",
       "    </tr>\n",
       "    <tr>\n",
       "      <th>643105300009229</th>\n",
       "      <td>0.869500</td>\n",
       "      <td>7.627143</td>\n",
       "      <td>0.341837</td>\n",
       "      <td>0.030612</td>\n",
       "      <td>0.393316</td>\n",
       "      <td>1.256779</td>\n",
       "      <td>0.986601</td>\n",
       "      <td>0.521000</td>\n",
       "      <td>-0.538828</td>\n",
       "      <td>-0.000731</td>\n",
       "      <td>...</td>\n",
       "      <td>0.247104</td>\n",
       "      <td>0.856693</td>\n",
       "      <td>19.835100</td>\n",
       "      <td>16.300173</td>\n",
       "      <td>0.355079</td>\n",
       "      <td>0.055571</td>\n",
       "      <td>0.256303</td>\n",
       "      <td>0.248415</td>\n",
       "      <td>1.129951</td>\n",
       "      <td>0.787710</td>\n",
       "    </tr>\n",
       "    <tr>\n",
       "      <th>679108100003227</th>\n",
       "      <td>1.573501</td>\n",
       "      <td>5.977306</td>\n",
       "      <td>0.392308</td>\n",
       "      <td>0.000000</td>\n",
       "      <td>0.458776</td>\n",
       "      <td>2.854298</td>\n",
       "      <td>2.037498</td>\n",
       "      <td>1.579000</td>\n",
       "      <td>-1.377225</td>\n",
       "      <td>0.009025</td>\n",
       "      <td>...</td>\n",
       "      <td>0.872471</td>\n",
       "      <td>0.937693</td>\n",
       "      <td>19.612993</td>\n",
       "      <td>9.534520</td>\n",
       "      <td>0.453928</td>\n",
       "      <td>0.510054</td>\n",
       "      <td>-1.462630</td>\n",
       "      <td>0.719901</td>\n",
       "      <td>0.480915</td>\n",
       "      <td>0.847215</td>\n",
       "    </tr>\n",
       "    <tr>\n",
       "      <th>684115200018744</th>\n",
       "      <td>0.934000</td>\n",
       "      <td>7.648890</td>\n",
       "      <td>0.363636</td>\n",
       "      <td>0.005348</td>\n",
       "      <td>0.388977</td>\n",
       "      <td>1.548079</td>\n",
       "      <td>1.236799</td>\n",
       "      <td>0.764000</td>\n",
       "      <td>-0.930156</td>\n",
       "      <td>0.001999</td>\n",
       "      <td>...</td>\n",
       "      <td>0.339097</td>\n",
       "      <td>0.823644</td>\n",
       "      <td>20.288290</td>\n",
       "      <td>3.970340</td>\n",
       "      <td>0.372753</td>\n",
       "      <td>0.081017</td>\n",
       "      <td>-0.034154</td>\n",
       "      <td>0.312301</td>\n",
       "      <td>0.611732</td>\n",
       "      <td>0.805326</td>\n",
       "    </tr>\n",
       "    <tr>\n",
       "      <th>718105300007353</th>\n",
       "      <td>0.931499</td>\n",
       "      <td>5.706629</td>\n",
       "      <td>0.428571</td>\n",
       "      <td>0.006211</td>\n",
       "      <td>0.451698</td>\n",
       "      <td>1.559238</td>\n",
       "      <td>1.249599</td>\n",
       "      <td>0.893499</td>\n",
       "      <td>-1.396027</td>\n",
       "      <td>0.002616</td>\n",
       "      <td>...</td>\n",
       "      <td>0.256829</td>\n",
       "      <td>0.896034</td>\n",
       "      <td>19.952436</td>\n",
       "      <td>7.425904</td>\n",
       "      <td>0.424808</td>\n",
       "      <td>0.049328</td>\n",
       "      <td>-0.490650</td>\n",
       "      <td>0.247433</td>\n",
       "      <td>0.733432</td>\n",
       "      <td>0.852638</td>\n",
       "    </tr>\n",
       "    <tr>\n",
       "      <th>719102100006086</th>\n",
       "      <td>0.928500</td>\n",
       "      <td>7.237684</td>\n",
       "      <td>0.295455</td>\n",
       "      <td>0.051136</td>\n",
       "      <td>0.341858</td>\n",
       "      <td>1.494640</td>\n",
       "      <td>1.093000</td>\n",
       "      <td>0.517498</td>\n",
       "      <td>-0.367132</td>\n",
       "      <td>0.001753</td>\n",
       "      <td>...</td>\n",
       "      <td>0.313883</td>\n",
       "      <td>0.800681</td>\n",
       "      <td>20.366861</td>\n",
       "      <td>14.123340</td>\n",
       "      <td>0.338642</td>\n",
       "      <td>0.087830</td>\n",
       "      <td>1.675991</td>\n",
       "      <td>0.325879</td>\n",
       "      <td>1.435438</td>\n",
       "      <td>0.741123</td>\n",
       "    </tr>\n",
       "    <tr>\n",
       "      <th>755103100026105</th>\n",
       "      <td>1.069500</td>\n",
       "      <td>10.742224</td>\n",
       "      <td>0.212598</td>\n",
       "      <td>0.078740</td>\n",
       "      <td>0.346419</td>\n",
       "      <td>1.710642</td>\n",
       "      <td>1.316799</td>\n",
       "      <td>0.351500</td>\n",
       "      <td>0.729611</td>\n",
       "      <td>0.003222</td>\n",
       "      <td>...</td>\n",
       "      <td>0.347531</td>\n",
       "      <td>0.836197</td>\n",
       "      <td>19.540836</td>\n",
       "      <td>10.939252</td>\n",
       "      <td>0.359712</td>\n",
       "      <td>0.129961</td>\n",
       "      <td>1.375299</td>\n",
       "      <td>0.371685</td>\n",
       "      <td>1.490452</td>\n",
       "      <td>0.753253</td>\n",
       "    </tr>\n",
       "    <tr>\n",
       "      <th>790103100000915</th>\n",
       "      <td>1.203501</td>\n",
       "      <td>4.440378</td>\n",
       "      <td>0.561404</td>\n",
       "      <td>0.000000</td>\n",
       "      <td>0.457929</td>\n",
       "      <td>2.253540</td>\n",
       "      <td>1.901300</td>\n",
       "      <td>1.593000</td>\n",
       "      <td>-1.577778</td>\n",
       "      <td>-0.004206</td>\n",
       "      <td>...</td>\n",
       "      <td>0.622673</td>\n",
       "      <td>0.920985</td>\n",
       "      <td>19.885199</td>\n",
       "      <td>12.474463</td>\n",
       "      <td>0.427219</td>\n",
       "      <td>0.367684</td>\n",
       "      <td>-0.578070</td>\n",
       "      <td>0.617471</td>\n",
       "      <td>0.928122</td>\n",
       "      <td>0.824911</td>\n",
       "    </tr>\n",
       "    <tr>\n",
       "      <th>792105300007593</th>\n",
       "      <td>0.681000</td>\n",
       "      <td>5.075209</td>\n",
       "      <td>0.331967</td>\n",
       "      <td>0.040984</td>\n",
       "      <td>0.304759</td>\n",
       "      <td>1.165060</td>\n",
       "      <td>0.852600</td>\n",
       "      <td>0.413502</td>\n",
       "      <td>-0.443933</td>\n",
       "      <td>-0.000751</td>\n",
       "      <td>...</td>\n",
       "      <td>0.244994</td>\n",
       "      <td>0.841599</td>\n",
       "      <td>19.749077</td>\n",
       "      <td>12.585350</td>\n",
       "      <td>0.371722</td>\n",
       "      <td>0.051918</td>\n",
       "      <td>0.255619</td>\n",
       "      <td>0.245974</td>\n",
       "      <td>1.126070</td>\n",
       "      <td>0.791670</td>\n",
       "    </tr>\n",
       "    <tr>\n",
       "      <th>792111100012457</th>\n",
       "      <td>0.793500</td>\n",
       "      <td>8.736456</td>\n",
       "      <td>0.314176</td>\n",
       "      <td>0.030651</td>\n",
       "      <td>0.375314</td>\n",
       "      <td>1.196840</td>\n",
       "      <td>1.009602</td>\n",
       "      <td>0.476999</td>\n",
       "      <td>-0.478960</td>\n",
       "      <td>0.001531</td>\n",
       "      <td>...</td>\n",
       "      <td>0.245299</td>\n",
       "      <td>0.887663</td>\n",
       "      <td>18.757399</td>\n",
       "      <td>6.032633</td>\n",
       "      <td>0.410462</td>\n",
       "      <td>0.046972</td>\n",
       "      <td>-0.956660</td>\n",
       "      <td>0.221585</td>\n",
       "      <td>0.198631</td>\n",
       "      <td>0.864031</td>\n",
       "    </tr>\n",
       "    <tr>\n",
       "      <th>849102200015533</th>\n",
       "      <td>0.916500</td>\n",
       "      <td>4.971014</td>\n",
       "      <td>0.305556</td>\n",
       "      <td>0.027778</td>\n",
       "      <td>0.406587</td>\n",
       "      <td>1.636301</td>\n",
       "      <td>1.325401</td>\n",
       "      <td>0.742500</td>\n",
       "      <td>-0.691490</td>\n",
       "      <td>-0.000029</td>\n",
       "      <td>...</td>\n",
       "      <td>0.400854</td>\n",
       "      <td>0.892928</td>\n",
       "      <td>19.725784</td>\n",
       "      <td>6.443351</td>\n",
       "      <td>0.424379</td>\n",
       "      <td>0.131830</td>\n",
       "      <td>-0.953180</td>\n",
       "      <td>0.373937</td>\n",
       "      <td>0.557350</td>\n",
       "      <td>0.871141</td>\n",
       "    </tr>\n",
       "  </tbody>\n",
       "</table>\n",
       "<p>11 rows × 82 columns</p>\n",
       "</div>"
      ],
      "text/plain": [
       "                 amplitude_magn_g  anderson_darling_normal_magn_g  \\\n",
       "sid                                                                 \n",
       "634108100006647          0.788501                        4.144565   \n",
       "643105300009229          0.869500                        7.627143   \n",
       "679108100003227          1.573501                        5.977306   \n",
       "684115200018744          0.934000                        7.648890   \n",
       "718105300007353          0.931499                        5.706629   \n",
       "719102100006086          0.928500                        7.237684   \n",
       "755103100026105          1.069500                       10.742224   \n",
       "790103100000915          1.203501                        4.440378   \n",
       "792105300007593          0.681000                        5.075209   \n",
       "792111100012457          0.793500                        8.736456   \n",
       "849102200015533          0.916500                        4.971014   \n",
       "\n",
       "                 beyond_1_std_magn_g  beyond_2_std_magn_g  cusum_magn_g  \\\n",
       "sid                                                                       \n",
       "634108100006647             0.326693             0.031873      0.271581   \n",
       "643105300009229             0.341837             0.030612      0.393316   \n",
       "679108100003227             0.392308             0.000000      0.458776   \n",
       "684115200018744             0.363636             0.005348      0.388977   \n",
       "718105300007353             0.428571             0.006211      0.451698   \n",
       "719102100006086             0.295455             0.051136      0.341858   \n",
       "755103100026105             0.212598             0.078740      0.346419   \n",
       "790103100000915             0.561404             0.000000      0.457929   \n",
       "792105300007593             0.331967             0.040984      0.304759   \n",
       "792111100012457             0.314176             0.030651      0.375314   \n",
       "849102200015533             0.305556             0.027778      0.406587   \n",
       "\n",
       "                 inter_percentile_range_2_magn_g  \\\n",
       "sid                                                \n",
       "634108100006647                         1.091082   \n",
       "643105300009229                         1.256779   \n",
       "679108100003227                         2.854298   \n",
       "684115200018744                         1.548079   \n",
       "718105300007353                         1.559238   \n",
       "719102100006086                         1.494640   \n",
       "755103100026105                         1.710642   \n",
       "790103100000915                         2.253540   \n",
       "792105300007593                         1.165060   \n",
       "792111100012457                         1.196840   \n",
       "849102200015533                         1.636301   \n",
       "\n",
       "                 inter_percentile_range_10_magn_g  \\\n",
       "sid                                                 \n",
       "634108100006647                          0.741800   \n",
       "643105300009229                          0.986601   \n",
       "679108100003227                          2.037498   \n",
       "684115200018744                          1.236799   \n",
       "718105300007353                          1.249599   \n",
       "719102100006086                          1.093000   \n",
       "755103100026105                          1.316799   \n",
       "790103100000915                          1.901300   \n",
       "792105300007593                          0.852600   \n",
       "792111100012457                          1.009602   \n",
       "849102200015533                          1.325401   \n",
       "\n",
       "                 inter_percentile_range_25_magn_g  kurtosis_magn_g  \\\n",
       "sid                                                                  \n",
       "634108100006647                          0.355999        -0.066709   \n",
       "643105300009229                          0.521000        -0.538828   \n",
       "679108100003227                          1.579000        -1.377225   \n",
       "684115200018744                          0.764000        -0.930156   \n",
       "718105300007353                          0.893499        -1.396027   \n",
       "719102100006086                          0.517498        -0.367132   \n",
       "755103100026105                          0.351500         0.729611   \n",
       "790103100000915                          1.593000        -1.577778   \n",
       "792105300007593                          0.413502        -0.443933   \n",
       "792111100012457                          0.476999        -0.478960   \n",
       "849102200015533                          0.742500        -0.691490   \n",
       "\n",
       "                 linear_fit_slope_magn_g  ...  standard_deviation_magn_r  \\\n",
       "sid                                       ...                              \n",
       "634108100006647                -0.000598  ...                   0.208345   \n",
       "643105300009229                -0.000731  ...                   0.247104   \n",
       "679108100003227                 0.009025  ...                   0.872471   \n",
       "684115200018744                 0.001999  ...                   0.339097   \n",
       "718105300007353                 0.002616  ...                   0.256829   \n",
       "719102100006086                 0.001753  ...                   0.313883   \n",
       "755103100026105                 0.003222  ...                   0.347531   \n",
       "790103100000915                -0.004206  ...                   0.622673   \n",
       "792105300007593                -0.000751  ...                   0.244994   \n",
       "792111100012457                 0.001531  ...                   0.245299   \n",
       "849102200015533                -0.000029  ...                   0.400854   \n",
       "\n",
       "                 stetson_K_magn_r  weighted_mean_magn_r  \\\n",
       "sid                                                       \n",
       "634108100006647          0.837547             20.234222   \n",
       "643105300009229          0.856693             19.835100   \n",
       "679108100003227          0.937693             19.612993   \n",
       "684115200018744          0.823644             20.288290   \n",
       "718105300007353          0.896034             19.952436   \n",
       "719102100006086          0.800681             20.366861   \n",
       "755103100026105          0.836197             19.540836   \n",
       "790103100000915          0.920985             19.885199   \n",
       "792105300007593          0.841599             19.749077   \n",
       "792111100012457          0.887663             18.757399   \n",
       "849102200015533          0.892928             19.725784   \n",
       "\n",
       "                 anderson_darling_normal_flux_r  cusum_flux_r  \\\n",
       "sid                                                             \n",
       "634108100006647                       10.895554      0.259617   \n",
       "643105300009229                       16.300173      0.355079   \n",
       "679108100003227                        9.534520      0.453928   \n",
       "684115200018744                        3.970340      0.372753   \n",
       "718105300007353                        7.425904      0.424808   \n",
       "719102100006086                       14.123340      0.338642   \n",
       "755103100026105                       10.939252      0.359712   \n",
       "790103100000915                       12.474463      0.427219   \n",
       "792105300007593                       12.585350      0.371722   \n",
       "792111100012457                        6.032633      0.410462   \n",
       "849102200015533                        6.443351      0.424379   \n",
       "\n",
       "                 excess_variance_flux_r  kurtosis_flux_r  \\\n",
       "sid                                                        \n",
       "634108100006647                0.028294         0.145910   \n",
       "643105300009229                0.055571         0.256303   \n",
       "679108100003227                0.510054        -1.462630   \n",
       "684115200018744                0.081017        -0.034154   \n",
       "718105300007353                0.049328        -0.490650   \n",
       "719102100006086                0.087830         1.675991   \n",
       "755103100026105                0.129961         1.375299   \n",
       "790103100000915                0.367684        -0.578070   \n",
       "792105300007593                0.051918         0.255619   \n",
       "792111100012457                0.046972        -0.956660   \n",
       "849102200015533                0.131830        -0.953180   \n",
       "\n",
       "                 mean_variance_flux_r  skew_flux_r  stetson_K_flux_r  \n",
       "sid                                                                   \n",
       "634108100006647              0.201797     0.897678          0.792870  \n",
       "643105300009229              0.248415     1.129951          0.787710  \n",
       "679108100003227              0.719901     0.480915          0.847215  \n",
       "684115200018744              0.312301     0.611732          0.805326  \n",
       "718105300007353              0.247433     0.733432          0.852638  \n",
       "719102100006086              0.325879     1.435438          0.741123  \n",
       "755103100026105              0.371685     1.490452          0.753253  \n",
       "790103100000915              0.617471     0.928122          0.824911  \n",
       "792105300007593              0.245974     1.126070          0.791670  \n",
       "792111100012457              0.221585     0.198631          0.864031  \n",
       "849102200015533              0.373937     0.557350          0.871141  \n",
       "\n",
       "[11 rows x 82 columns]"
      ]
     },
     "execution_count": 22,
     "metadata": {},
     "output_type": "execute_result"
    }
   ],
   "source": [
    "# SNAD discovered objects for this work\n",
    "\n",
    "snad_149_to_159_snids_list = ['849102200015533', \n",
    "                         '679108100003227', \n",
    "                         '790103100000915',\n",
    "                         '792111100012457',\n",
    "                         '643105300009229',\n",
    "                         '719102100006086',\n",
    "                         '718105300007353',\n",
    "                         '755103100026105',\n",
    "                         '684115200018744',\n",
    "                         '634108100006647',\n",
    "                         '792105300007593']\n",
    "snad_149_to_159_snids_list_int = list(map(int, snad_149_to_159_snids_list))\n",
    "\n",
    "snad_149_to_159_snids_df = dr4_df[dr4_df.index.isin(snad_149_to_159_snids_list_int)] \n",
    "#snad_149_to_159_snids_df.to_csv(\"./dataframes/orig_snad_149_to_159_snids_df.csv.gzip\", compression='gzip')\n",
    "snad_149_to_159_snids_df"
   ]
  },
  {
   "cell_type": "code",
   "execution_count": 23,
   "metadata": {},
   "outputs": [
    {
     "data": {
      "image/png": "[encoded data removed]",
      "text/plain": [
       "<Figure size 576x432 with 1 Axes>"
      ]
     },
     "metadata": {
      "image/png": {
       "height": 379,
       "width": 494
      },
      "needs_background": "light"
     },
     "output_type": "display_data"
    }
   ],
   "source": [
    "fig, ax = plt.subplots(figsize=(8,6))\n",
    "\n",
    "y_feat = 'amplitude_magn_g'\n",
    "x_feat = 'weighted_mean_magn_g'\n",
    "size=70 \n",
    "\n",
    "if x_feat == 'weighted_mean_magn_g':\n",
    "    ax.invert_xaxis()\n",
    "    \n",
    "ax.scatter(remainder_dr4_df[x_feat], remainder_dr4_df[y_feat], \n",
    "           color='dodgerblue', alpha=0.1, s=size, label=f'ZTF DR4 ({len(dr4_df)} total)')\n",
    "\n",
    "sx = np.array([21, 18, 19, 18])\n",
    "sy1 = np.array([1.75, 1.75, 1.75, 1.75])\n",
    "sy2 = np.array([6.5, 6.5, 1.75, 1.75])\n",
    "plt.fill_between(sx, sy1, sy2, where=(sy1 < sy2), color='grey', alpha=0.5, hatch='/', label='Heuristic cuts')\n",
    "\n",
    "ax.scatter(fakes_df[x_feat], fakes_df[y_feat], \n",
    "           color='g', alpha=0.8, s=size, label=f'Simulations ({len(fakes_df)} total)')\n",
    "ax.scatter(unique_dr4_match_df[x_feat], unique_dr4_match_df[y_feat], \n",
    "           color='orange', alpha=0.8, s=size, label=f'Matched ({len(unique_dr4_match_df)} total)')\n",
    "ax.scatter(snad_149_to_159_snids_df[x_feat], snad_149_to_159_snids_df[y_feat], \n",
    "           facecolors='none', edgecolors='k', linewidth=2, alpha=1, s=size, label=f'SNAD ({len(snad_149_to_159_snids_df)} total)')\n",
    "\n",
    "plt.ylim(0,6.5)\n",
    "ax.set_xlabel(x_feat.replace('_', ' '), fontsize=14)\n",
    "ax.set_ylabel(y_feat.replace('_', ' '), fontsize=14)    \n",
    "plt.xticks(fontsize=14)\n",
    "plt.yticks(fontsize=14)\n",
    "plt.legend(loc='upper right', ncol=1, fancybox=True, shadow=False, fontsize=12)\n",
    "\n",
    "plt.savefig(f'./figures/scatterplot_{x_feat}_vs_{y_feat}.png', dpi=300, bbox_inches='tight')"
   ]
  },
  {
   "cell_type": "code",
   "execution_count": 24,
   "metadata": {},
   "outputs": [
    {
     "data": {
      "text/plain": [
       "['amplitude_magn_g',\n",
       " 'anderson_darling_normal_magn_g',\n",
       " 'beyond_1_std_magn_g',\n",
       " 'beyond_2_std_magn_g',\n",
       " 'cusum_magn_g',\n",
       " 'inter_percentile_range_2_magn_g',\n",
       " 'inter_percentile_range_10_magn_g',\n",
       " 'inter_percentile_range_25_magn_g',\n",
       " 'kurtosis_magn_g',\n",
       " 'linear_fit_slope_magn_g',\n",
       " 'linear_fit_slope_sigma_magn_g',\n",
       " 'linear_trend_magn_g',\n",
       " 'linear_trend_sigma_magn_g',\n",
       " 'magnitude_percentage_ratio_40_5_magn_g',\n",
       " 'magnitude_percentage_ratio_20_5_magn_g',\n",
       " 'mean_magn_g',\n",
       " 'median_absolute_deviation_magn_g',\n",
       " 'median_buffer_range_percentage_10_magn_g',\n",
       " 'median_buffer_range_percentage_20_magn_g',\n",
       " 'percent_amplitude_magn_g',\n",
       " 'percent_difference_magnitude_percentile_5_magn_g',\n",
       " 'percent_difference_magnitude_percentile_10_magn_g',\n",
       " 'period_s_to_n_0_magn_g',\n",
       " 'period_s_to_n_1_magn_g',\n",
       " 'period_s_to_n_2_magn_g',\n",
       " 'period_s_to_n_3_magn_g',\n",
       " 'period_s_to_n_4_magn_g',\n",
       " 'periodogram_beyond_2_std_magn_g',\n",
       " 'periodogram_beyond_3_std_magn_g',\n",
       " 'periodogram_standard_deviation_magn_g',\n",
       " 'skew_magn_g',\n",
       " 'standard_deviation_magn_g',\n",
       " 'stetson_K_magn_g',\n",
       " 'weighted_mean_magn_g',\n",
       " 'anderson_darling_normal_flux_g',\n",
       " 'cusum_flux_g',\n",
       " 'excess_variance_flux_g',\n",
       " 'kurtosis_flux_g',\n",
       " 'mean_variance_flux_g',\n",
       " 'skew_flux_g',\n",
       " 'stetson_K_flux_g',\n",
       " 'amplitude_magn_r',\n",
       " 'anderson_darling_normal_magn_r',\n",
       " 'beyond_1_std_magn_r',\n",
       " 'beyond_2_std_magn_r',\n",
       " 'cusum_magn_r',\n",
       " 'inter_percentile_range_2_magn_r',\n",
       " 'inter_percentile_range_10_magn_r',\n",
       " 'inter_percentile_range_25_magn_r',\n",
       " 'kurtosis_magn_r',\n",
       " 'linear_fit_slope_magn_r',\n",
       " 'linear_fit_slope_sigma_magn_r',\n",
       " 'linear_trend_magn_r',\n",
       " 'linear_trend_sigma_magn_r',\n",
       " 'magnitude_percentage_ratio_40_5_magn_r',\n",
       " 'magnitude_percentage_ratio_20_5_magn_r',\n",
       " 'mean_magn_r',\n",
       " 'median_absolute_deviation_magn_r',\n",
       " 'median_buffer_range_percentage_10_magn_r',\n",
       " 'median_buffer_range_percentage_20_magn_r',\n",
       " 'percent_amplitude_magn_r',\n",
       " 'percent_difference_magnitude_percentile_5_magn_r',\n",
       " 'percent_difference_magnitude_percentile_10_magn_r',\n",
       " 'period_s_to_n_0_magn_r',\n",
       " 'period_s_to_n_1_magn_r',\n",
       " 'period_s_to_n_2_magn_r',\n",
       " 'period_s_to_n_3_magn_r',\n",
       " 'period_s_to_n_4_magn_r',\n",
       " 'periodogram_beyond_2_std_magn_r',\n",
       " 'periodogram_beyond_3_std_magn_r',\n",
       " 'periodogram_standard_deviation_magn_r',\n",
       " 'skew_magn_r',\n",
       " 'standard_deviation_magn_r',\n",
       " 'stetson_K_magn_r',\n",
       " 'weighted_mean_magn_r',\n",
       " 'anderson_darling_normal_flux_r',\n",
       " 'cusum_flux_r',\n",
       " 'excess_variance_flux_r',\n",
       " 'kurtosis_flux_r',\n",
       " 'mean_variance_flux_r',\n",
       " 'skew_flux_r',\n",
       " 'stetson_K_flux_r']"
      ]
     },
     "execution_count": 24,
     "metadata": {},
     "output_type": "execute_result"
    }
   ],
   "source": [
    "fakes_df.columns.to_list()"
   ]
  }
 ],
 "metadata": {
  "kernelspec": {
   "display_name": "Python 3",
   "language": "python",
   "name": "python3"
  },
  "language_info": {
   "codemirror_mode": {
    "name": "ipython",
    "version": 3
   },
   "file_extension": ".py",
   "mimetype": "text/x-python",
   "name": "python",
   "nbconvert_exporter": "python",
   "pygments_lexer": "ipython3",
   "version": "3.8.12"
  }
 },
 "nbformat": 4,
 "nbformat_minor": 4
}
