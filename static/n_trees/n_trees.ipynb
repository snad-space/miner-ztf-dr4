{
 "cells": [
  {
   "cell_type": "code",
   "execution_count": 1,
   "id": "0e08592e",
   "metadata": {},
   "outputs": [],
   "source": [
    "import numpy as np"
   ]
  },
  {
   "cell_type": "code",
   "execution_count": 14,
   "id": "e0a6d6a7",
   "metadata": {},
   "outputs": [],
   "source": [
    "def read_set(n_trees, run):\n",
    "    filename1 = f'iso_extragal_t{n_trees:02d}_run{run:d}.csv'\n",
    "    dtype=[('oid', int), ('score', float)]\n",
    "    table = np.genfromtxt(filename1, delimiter=',', dtype=dtype)\n",
    "    return set(table['oid'])\n",
    "\n",
    "def calc_percent(n_trees):\n",
    "    set1 = read_set(n_trees, 1)\n",
    "    set2 = read_set(n_trees, 2)\n",
    "    return len(set1.intersection(set2))"
   ]
  },
  {
   "cell_type": "code",
   "execution_count": 17,
   "id": "a6e12911",
   "metadata": {},
   "outputs": [
    {
     "name": "stdout",
     "output_type": "stream",
     "text": [
      "100 trees: 40% intersection\n",
      "300 trees: 71% intersection\n",
      "1000 trees: 83% intersection\n",
      "3000 trees: 90% intersection\n"
     ]
    }
   ],
   "source": [
    "for n_trees in [1, 3, 10, 30]:\n",
    "    print(f'{n_trees * 100} trees: {calc_percent(n_trees)}% intersection')"
   ]
  }
 ],
 "metadata": {
  "kernelspec": {
   "display_name": "Python 3",
   "language": "python",
   "name": "python3"
  },
  "language_info": {
   "codemirror_mode": {
    "name": "ipython",
    "version": 3
   },
   "file_extension": ".py",
   "mimetype": "text/x-python",
   "name": "python",
   "nbconvert_exporter": "python",
   "pygments_lexer": "ipython3",
   "version": "3.6.9"
  }
 },
 "nbformat": 4,
 "nbformat_minor": 5
}
